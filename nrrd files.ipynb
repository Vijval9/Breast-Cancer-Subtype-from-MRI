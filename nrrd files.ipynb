{
 "cells": [
  {
   "cell_type": "code",
   "execution_count": 1,
   "metadata": {},
   "outputs": [
    {
     "name": "stdout",
     "output_type": "stream",
     "text": [
      "Requirement already satisfied: radiomics in c:\\programdata\\anaconda3\\envs\\mri_project\\lib\\site-packages (0.1)\n",
      "Requirement already satisfied: dicom_numpy in c:\\programdata\\anaconda3\\envs\\mri_project\\lib\\site-packages (0.6.5)\n",
      "Requirement already satisfied: pydicom in c:\\programdata\\anaconda3\\envs\\mri_project\\lib\\site-packages (2.4.1)\n",
      "Requirement already satisfied: plotly in c:\\programdata\\anaconda3\\envs\\mri_project\\lib\\site-packages (5.15.0)\n",
      "Requirement already satisfied: matplotlib in c:\\programdata\\anaconda3\\envs\\mri_project\\lib\\site-packages (3.5.3)\n",
      "Requirement already satisfied: scikit-image in c:\\programdata\\anaconda3\\envs\\mri_project\\lib\\site-packages (0.19.3)\n",
      "Requirement already satisfied: simpleITK in c:\\programdata\\anaconda3\\envs\\mri_project\\lib\\site-packages (2.2.1)\n",
      "Collecting pynrrd\n",
      "  Using cached pynrrd-1.0.0-py2.py3-none-any.whl (19 kB)\n",
      "Requirement already satisfied: scipy in c:\\programdata\\anaconda3\\envs\\mri_project\\lib\\site-packages (from radiomics) (1.7.3)\n",
      "Requirement already satisfied: numpy in c:\\programdata\\anaconda3\\envs\\mri_project\\lib\\site-packages (from radiomics) (1.21.5)\n",
      "Requirement already satisfied: PyWavelets in c:\\programdata\\anaconda3\\envs\\mri_project\\lib\\site-packages (from radiomics) (1.3.0)\n",
      "Requirement already satisfied: tenacity>=6.2.0 in c:\\programdata\\anaconda3\\envs\\mri_project\\lib\\site-packages (from plotly) (8.2.2)\n",
      "Requirement already satisfied: packaging in c:\\programdata\\anaconda3\\envs\\mri_project\\lib\\site-packages (from plotly) (23.1)\n",
      "Requirement already satisfied: pyparsing>=2.2.1 in c:\\programdata\\anaconda3\\envs\\mri_project\\lib\\site-packages (from matplotlib) (3.1.0)\n",
      "Requirement already satisfied: pillow>=6.2.0 in c:\\programdata\\anaconda3\\envs\\mri_project\\lib\\site-packages (from matplotlib) (9.5.0)\n",
      "Requirement already satisfied: python-dateutil>=2.7 in c:\\programdata\\anaconda3\\envs\\mri_project\\lib\\site-packages (from matplotlib) (2.8.2)\n",
      "Requirement already satisfied: fonttools>=4.22.0 in c:\\programdata\\anaconda3\\envs\\mri_project\\lib\\site-packages (from matplotlib) (4.38.0)\n",
      "Requirement already satisfied: cycler>=0.10 in c:\\programdata\\anaconda3\\envs\\mri_project\\lib\\site-packages (from matplotlib) (0.11.0)\n",
      "Requirement already satisfied: kiwisolver>=1.0.1 in c:\\programdata\\anaconda3\\envs\\mri_project\\lib\\site-packages (from matplotlib) (1.4.4)\n",
      "Requirement already satisfied: networkx>=2.2 in c:\\programdata\\anaconda3\\envs\\mri_project\\lib\\site-packages (from scikit-image) (2.6.3)\n",
      "Requirement already satisfied: imageio>=2.4.1 in c:\\programdata\\anaconda3\\envs\\mri_project\\lib\\site-packages (from scikit-image) (2.31.1)\n",
      "Requirement already satisfied: tifffile>=2019.7.26 in c:\\programdata\\anaconda3\\envs\\mri_project\\lib\\site-packages (from scikit-image) (2021.11.2)\n",
      "Requirement already satisfied: typing-extensions in c:\\programdata\\anaconda3\\envs\\mri_project\\lib\\site-packages (from pynrrd) (4.6.3)\n",
      "Collecting nptyping\n",
      "  Using cached nptyping-2.5.0-py3-none-any.whl (37 kB)\n",
      "Requirement already satisfied: six>=1.5 in c:\\programdata\\anaconda3\\envs\\mri_project\\lib\\site-packages (from python-dateutil>=2.7->matplotlib) (1.16.0)\n",
      "Installing collected packages: nptyping, pynrrd\n",
      "Successfully installed nptyping-2.5.0 pynrrd-1.0.0\n",
      "Note: you may need to restart the kernel to use updated packages.\n"
     ]
    }
   ],
   "source": [
    "%pip install radiomics dicom_numpy pydicom plotly matplotlib scikit-image simpleITK pynrrd"
   ]
  },
  {
   "cell_type": "code",
   "execution_count": 2,
   "metadata": {},
   "outputs": [],
   "source": [
    "import os\n",
    "import glob\n",
    "import numpy as np\n",
    "import pandas as pd\n",
    "import pydicom\n",
    "import dicom_numpy\n",
    "import radiomics\n",
    "import SimpleITK as sitk\n",
    "import nrrd\n",
    "\n",
    "import matplotlib.pyplot as plt\n",
    "from mpl_toolkits.mplot3d.art3d import Poly3DCollection\n",
    "\n",
    "from skimage import measure, morphology\n",
    "from skimage.morphology import ball, binary_closing\n",
    "from skimage.measure import label, regionprops\n"
   ]
  },
  {
   "cell_type": "code",
   "execution_count": 11,
   "metadata": {},
   "outputs": [],
   "source": [
    "img, data = nrrd.read('../Dataset/Duke MRI/Segmentation_Masks_NRRD/breast_train/Breast_MRI_002_pre_073.nrrd')"
   ]
  },
  {
   "cell_type": "code",
   "execution_count": 13,
   "metadata": {},
   "outputs": [
    {
     "data": {
      "text/plain": [
       "OrderedDict([('type', 'unsigned char'),\n",
       "             ('dimension', 3),\n",
       "             ('space', 'left-posterior-superior'),\n",
       "             ('sizes', array([512, 512,   1])),\n",
       "             ('space directions',\n",
       "              array([[-0.5859,  0.    ,  0.    ],\n",
       "                     [ 0.    , -0.5859,  0.    ],\n",
       "                     [ 0.    ,  0.    ,  1.    ]])),\n",
       "             ('kinds', ['domain', 'domain', 'domain']),\n",
       "             ('encoding', 'gzip'),\n",
       "             ('space origin', array([154.724   , 176.048   ,   0.977021])),\n",
       "             ('Segment0_Color', '0.501961 0.682353 0.501961'),\n",
       "             ('Segment0_ColorAutoGenerated', '1'),\n",
       "             ('Segment0_Extent', '47 455 196 459 0 0'),\n",
       "             ('Segment0_ID', 'Segment_1'),\n",
       "             ('Segment0_LabelValue', '1'),\n",
       "             ('Segment0_Layer', '0'),\n",
       "             ('Segment0_Name', 'Segment_1'),\n",
       "             ('Segment0_NameAutoGenerated', '1'),\n",
       "             ('Segment0_Tags',\n",
       "              'Segmentation.Status:inprogress|TerminologyEntry:Segmentation category and type - 3D Slicer General Anatomy list~SCT^85756007^Tissue~SCT^85756007^Tissue~^^~Anatomic codes - DICOM master list~^^~^^|'),\n",
       "             ('Segmentation_ContainedRepresentationNames', 'Binary labelmap|'),\n",
       "             ('Segmentation_ConversionParameters',\n",
       "              'Collapse labelmaps|1|Merge the labelmaps into as few shared labelmaps as possible 1 = created labelmaps will be shared if possible without overwriting each other.&Compute surface normals|1|Compute surface normals. 1 (default) = surface normals are computed. 0 = surface normals are not computed (slightly faster but produces less smooth surface display).&Crop to reference image geometry|0|Crop the model to the extent of reference geometry. 0 (default) = created labelmap will contain the entire model. 1 = created labelmap extent will be within reference image extent.&Decimation factor|0.0|Desired reduction in the total number of polygons. Range: 0.0 (no decimation) to 1.0 (as much simplification as possible). Value of 0.8 typically reduces data set size by 80% without losing too much details.&Fractional labelmap oversampling factor|1|Determines the oversampling of the reference image geometry. All segments are oversampled with the same value (value of 1 means no oversampling).&Joint smoothing|0|Perform joint smoothing.&Oversampling factor|1|Determines the oversampling of the reference image geometry. If it\\'s a number, then all segments are oversampled with the same value (value of 1 means no oversampling). If it has the value \"A\", then automatic oversampling is calculated.&Reference image geometry|0.5859;0;0;-154.72399999999996;0;0.5859;0;-176.04799999999997;0;0;1;0.9770209999999998;0;0;0;1;0;511;0;511;0;0;|Image geometry description string determining the geometry of the labelmap that is created in course of conversion. Can be copied from a volume, using the button.&Smoothing factor|0.5|Smoothing factor. Range: 0.0 (no smoothing) to 1.0 (strong smoothing).&Threshold fraction|0.5|Determines the threshold that the closed surface is created at as a fractional value between 0 and 1.&'),\n",
       "             ('Segmentation_MasterRepresentation', 'Binary labelmap'),\n",
       "             ('Segmentation_ReferenceImageExtentOffset', '0 0 0')])"
      ]
     },
     "execution_count": 13,
     "metadata": {},
     "output_type": "execute_result"
    }
   ],
   "source": [
    "data"
   ]
  },
  {
   "cell_type": "code",
   "execution_count": 12,
   "metadata": {},
   "outputs": [
    {
     "data": {
      "text/plain": [
       "<matplotlib.image.AxesImage at 0x20cf4b9db08>"
      ]
     },
     "execution_count": 12,
     "metadata": {},
     "output_type": "execute_result"
    },
    {
     "data": {
      "image/png": "[encoded data removed]",
      "text/plain": [
       "<Figure size 640x480 with 1 Axes>"
      ]
     },
     "metadata": {},
     "output_type": "display_data"
    }
   ],
   "source": [
    "plt.imshow(img)"
   ]
  },
  {
   "cell_type": "code",
   "execution_count": null,
   "metadata": {},
   "outputs": [],
   "source": []
  }
 ],
 "metadata": {
  "kernelspec": {
   "display_name": "Python 3.7.16 ('mri_project')",
   "language": "python",
   "name": "python3"
  },
  "language_info": {
   "codemirror_mode": {
    "name": "ipython",
    "version": 3
   },
   "file_extension": ".py",
   "mimetype": "text/x-python",
   "name": "python",
   "nbconvert_exporter": "python",
   "pygments_lexer": "ipython3",
   "version": "3.7.16"
  },
  "orig_nbformat": 4,
  "vscode": {
   "interpreter": {
    "hash": "46a30f71ba13f968ce13e2ff6d1c210f2ffd70fd7dc0256e6c75b999f7c20949"
   }
  }
 },
 "nbformat": 4,
 "nbformat_minor": 2
}
