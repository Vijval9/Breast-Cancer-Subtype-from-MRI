{
 "cells": [
  {
   "cell_type": "markdown",
   "metadata": {},
   "source": [
    "# Preliminary ML Model Results (with Feature Scaling)"
   ]
  },
  {
   "cell_type": "code",
   "execution_count": 2,
   "metadata": {},
   "outputs": [],
   "source": [
    "import pandas as pd\n",
    "import numpy as np\n",
    "import seaborn as sns\n",
    "\n",
    "import matplotlib.pyplot as plt\n"
   ]
  },
  {
   "cell_type": "markdown",
   "metadata": {},
   "source": [
    "## Labels\n",
    "\n",
    "- ER: \n",
    "  - 0 = neg\n",
    "  - 1 = pos\n",
    "- PR: \n",
    "  - 0 = neg\n",
    "  - 1 = pos\n",
    "- HER2:\n",
    "  - 0 = neg\n",
    "  - 1 = pos\n",
    "  - 2 = borderline\n",
    "- Mol Subtype:\n",
    "  - 0 = luminal-like\n",
    "  - 1 = ER/PR pos, HER2 pos\n",
    "  - 2 = HER2\n",
    "  - 3 = triple negative"
   ]
  },
  {
   "cell_type": "code",
   "execution_count": 3,
   "metadata": {},
   "outputs": [
    {
     "data": {
      "text/html": [
       "<div>\n",
       "<style scoped>\n",
       "    .dataframe tbody tr th:only-of-type {\n",
       "        vertical-align: middle;\n",
       "    }\n",
       "\n",
       "    .dataframe tbody tr th {\n",
       "        vertical-align: top;\n",
       "    }\n",
       "\n",
       "    .dataframe thead th {\n",
       "        text-align: right;\n",
       "    }\n",
       "</style>\n",
       "<table border=\"1\" class=\"dataframe\">\n",
       "  <thead>\n",
       "    <tr style=\"text-align: right;\">\n",
       "      <th></th>\n",
       "      <th>Patient ID</th>\n",
       "      <th>ER</th>\n",
       "      <th>PR</th>\n",
       "      <th>HER2</th>\n",
       "      <th>Mol Subtype</th>\n",
       "    </tr>\n",
       "  </thead>\n",
       "  <tbody>\n",
       "    <tr>\n",
       "      <th>0</th>\n",
       "      <td>Breast_MRI_001</td>\n",
       "      <td>0</td>\n",
       "      <td>0</td>\n",
       "      <td>1</td>\n",
       "      <td>2</td>\n",
       "    </tr>\n",
       "    <tr>\n",
       "      <th>1</th>\n",
       "      <td>Breast_MRI_002</td>\n",
       "      <td>0</td>\n",
       "      <td>0</td>\n",
       "      <td>0</td>\n",
       "      <td>3</td>\n",
       "    </tr>\n",
       "    <tr>\n",
       "      <th>2</th>\n",
       "      <td>Breast_MRI_003</td>\n",
       "      <td>1</td>\n",
       "      <td>1</td>\n",
       "      <td>0</td>\n",
       "      <td>0</td>\n",
       "    </tr>\n",
       "    <tr>\n",
       "      <th>3</th>\n",
       "      <td>Breast_MRI_004</td>\n",
       "      <td>1</td>\n",
       "      <td>1</td>\n",
       "      <td>0</td>\n",
       "      <td>0</td>\n",
       "    </tr>\n",
       "    <tr>\n",
       "      <th>4</th>\n",
       "      <td>Breast_MRI_005</td>\n",
       "      <td>1</td>\n",
       "      <td>0</td>\n",
       "      <td>1</td>\n",
       "      <td>1</td>\n",
       "    </tr>\n",
       "  </tbody>\n",
       "</table>\n",
       "</div>"
      ],
      "text/plain": [
       "       Patient ID  ER  PR  HER2  Mol Subtype\n",
       "0  Breast_MRI_001   0   0     1            2\n",
       "1  Breast_MRI_002   0   0     0            3\n",
       "2  Breast_MRI_003   1   1     0            0\n",
       "3  Breast_MRI_004   1   1     0            0\n",
       "4  Breast_MRI_005   1   0     1            1"
      ]
     },
     "execution_count": 3,
     "metadata": {},
     "output_type": "execute_result"
    }
   ],
   "source": [
    "labels = pd.read_csv('Patient class labels.csv')\n",
    "labels.head()"
   ]
  },
  {
   "cell_type": "code",
   "execution_count": 4,
   "metadata": {},
   "outputs": [
    {
     "data": {
      "text/html": [
       "<div>\n",
       "<style scoped>\n",
       "    .dataframe tbody tr th:only-of-type {\n",
       "        vertical-align: middle;\n",
       "    }\n",
       "\n",
       "    .dataframe tbody tr th {\n",
       "        vertical-align: top;\n",
       "    }\n",
       "\n",
       "    .dataframe thead th {\n",
       "        text-align: right;\n",
       "    }\n",
       "</style>\n",
       "<table border=\"1\" class=\"dataframe\">\n",
       "  <thead>\n",
       "    <tr style=\"text-align: right;\">\n",
       "      <th></th>\n",
       "      <th>original_shape_Elongation</th>\n",
       "      <th>original_shape_Flatness</th>\n",
       "      <th>original_shape_LeastAxisLength</th>\n",
       "      <th>original_shape_MajorAxisLength</th>\n",
       "      <th>original_shape_Maximum2DDiameterColumn</th>\n",
       "      <th>original_shape_Maximum2DDiameterRow</th>\n",
       "      <th>original_shape_Maximum2DDiameterSlice</th>\n",
       "      <th>original_shape_Maximum3DDiameter</th>\n",
       "      <th>original_shape_MeshVolume</th>\n",
       "      <th>original_shape_MinorAxisLength</th>\n",
       "      <th>...</th>\n",
       "      <th>original_glszm_ZoneEntropy</th>\n",
       "      <th>original_glszm_ZonePercentage</th>\n",
       "      <th>original_glszm_ZoneVariance</th>\n",
       "      <th>original_ngtdm_Busyness</th>\n",
       "      <th>original_ngtdm_Coarseness</th>\n",
       "      <th>original_ngtdm_Complexity</th>\n",
       "      <th>original_ngtdm_Contrast</th>\n",
       "      <th>original_ngtdm_Strength</th>\n",
       "      <th>patient</th>\n",
       "      <th>sequence</th>\n",
       "    </tr>\n",
       "  </thead>\n",
       "  <tbody>\n",
       "    <tr>\n",
       "      <th>0</th>\n",
       "      <td>0.891808</td>\n",
       "      <td>0.850437</td>\n",
       "      <td>29.186299</td>\n",
       "      <td>34.319179</td>\n",
       "      <td>36.073737</td>\n",
       "      <td>38.431136</td>\n",
       "      <td>39.309346</td>\n",
       "      <td>46.240422</td>\n",
       "      <td>19914.791496</td>\n",
       "      <td>30.606121</td>\n",
       "      <td>...</td>\n",
       "      <td>2.825564</td>\n",
       "      <td>0.003846</td>\n",
       "      <td>4.996251e+06</td>\n",
       "      <td>1060.390698</td>\n",
       "      <td>0.000323</td>\n",
       "      <td>0.220287</td>\n",
       "      <td>0.032468</td>\n",
       "      <td>0.000324</td>\n",
       "      <td>Breast_MRI_001</td>\n",
       "      <td>pre</td>\n",
       "    </tr>\n",
       "    <tr>\n",
       "      <th>1</th>\n",
       "      <td>0.891808</td>\n",
       "      <td>0.850437</td>\n",
       "      <td>29.186299</td>\n",
       "      <td>34.319179</td>\n",
       "      <td>36.073737</td>\n",
       "      <td>38.431136</td>\n",
       "      <td>39.309346</td>\n",
       "      <td>46.240422</td>\n",
       "      <td>19914.791496</td>\n",
       "      <td>30.606121</td>\n",
       "      <td>...</td>\n",
       "      <td>2.580368</td>\n",
       "      <td>0.004380</td>\n",
       "      <td>4.745944e+06</td>\n",
       "      <td>714.483384</td>\n",
       "      <td>0.000444</td>\n",
       "      <td>0.160234</td>\n",
       "      <td>0.019571</td>\n",
       "      <td>0.000443</td>\n",
       "      <td>Breast_MRI_001</td>\n",
       "      <td>post_1</td>\n",
       "    </tr>\n",
       "    <tr>\n",
       "      <th>2</th>\n",
       "      <td>0.668996</td>\n",
       "      <td>0.650923</td>\n",
       "      <td>18.931009</td>\n",
       "      <td>29.083312</td>\n",
       "      <td>23.148662</td>\n",
       "      <td>29.852205</td>\n",
       "      <td>29.748492</td>\n",
       "      <td>33.784677</td>\n",
       "      <td>6966.458183</td>\n",
       "      <td>19.456628</td>\n",
       "      <td>...</td>\n",
       "      <td>3.147323</td>\n",
       "      <td>0.002108</td>\n",
       "      <td>5.759789e+06</td>\n",
       "      <td>302.684948</td>\n",
       "      <td>0.000982</td>\n",
       "      <td>0.130170</td>\n",
       "      <td>0.012262</td>\n",
       "      <td>0.000985</td>\n",
       "      <td>Breast_MRI_002</td>\n",
       "      <td>pre</td>\n",
       "    </tr>\n",
       "    <tr>\n",
       "      <th>3</th>\n",
       "      <td>0.668996</td>\n",
       "      <td>0.650923</td>\n",
       "      <td>18.931009</td>\n",
       "      <td>29.083312</td>\n",
       "      <td>23.148662</td>\n",
       "      <td>29.852205</td>\n",
       "      <td>29.748492</td>\n",
       "      <td>33.784677</td>\n",
       "      <td>6966.458183</td>\n",
       "      <td>19.456628</td>\n",
       "      <td>...</td>\n",
       "      <td>3.339987</td>\n",
       "      <td>0.003194</td>\n",
       "      <td>4.028316e+06</td>\n",
       "      <td>253.258853</td>\n",
       "      <td>0.001130</td>\n",
       "      <td>0.113070</td>\n",
       "      <td>0.008739</td>\n",
       "      <td>0.001129</td>\n",
       "      <td>Breast_MRI_002</td>\n",
       "      <td>post_1</td>\n",
       "    </tr>\n",
       "    <tr>\n",
       "      <th>4</th>\n",
       "      <td>0.934408</td>\n",
       "      <td>0.286810</td>\n",
       "      <td>13.808210</td>\n",
       "      <td>48.144081</td>\n",
       "      <td>40.488107</td>\n",
       "      <td>43.126056</td>\n",
       "      <td>56.606869</td>\n",
       "      <td>57.665740</td>\n",
       "      <td>19467.935987</td>\n",
       "      <td>44.986213</td>\n",
       "      <td>...</td>\n",
       "      <td>2.909565</td>\n",
       "      <td>0.005536</td>\n",
       "      <td>6.875739e+06</td>\n",
       "      <td>356.064866</td>\n",
       "      <td>0.000750</td>\n",
       "      <td>0.063894</td>\n",
       "      <td>0.002623</td>\n",
       "      <td>0.000748</td>\n",
       "      <td>Breast_MRI_003</td>\n",
       "      <td>pre</td>\n",
       "    </tr>\n",
       "  </tbody>\n",
       "</table>\n",
       "<p>5 rows × 109 columns</p>\n",
       "</div>"
      ],
      "text/plain": [
       "   original_shape_Elongation  original_shape_Flatness  \\\n",
       "0                   0.891808                 0.850437   \n",
       "1                   0.891808                 0.850437   \n",
       "2                   0.668996                 0.650923   \n",
       "3                   0.668996                 0.650923   \n",
       "4                   0.934408                 0.286810   \n",
       "\n",
       "   original_shape_LeastAxisLength  original_shape_MajorAxisLength  \\\n",
       "0                       29.186299                       34.319179   \n",
       "1                       29.186299                       34.319179   \n",
       "2                       18.931009                       29.083312   \n",
       "3                       18.931009                       29.083312   \n",
       "4                       13.808210                       48.144081   \n",
       "\n",
       "   original_shape_Maximum2DDiameterColumn  \\\n",
       "0                               36.073737   \n",
       "1                               36.073737   \n",
       "2                               23.148662   \n",
       "3                               23.148662   \n",
       "4                               40.488107   \n",
       "\n",
       "   original_shape_Maximum2DDiameterRow  original_shape_Maximum2DDiameterSlice  \\\n",
       "0                            38.431136                              39.309346   \n",
       "1                            38.431136                              39.309346   \n",
       "2                            29.852205                              29.748492   \n",
       "3                            29.852205                              29.748492   \n",
       "4                            43.126056                              56.606869   \n",
       "\n",
       "   original_shape_Maximum3DDiameter  original_shape_MeshVolume  \\\n",
       "0                         46.240422               19914.791496   \n",
       "1                         46.240422               19914.791496   \n",
       "2                         33.784677                6966.458183   \n",
       "3                         33.784677                6966.458183   \n",
       "4                         57.665740               19467.935987   \n",
       "\n",
       "   original_shape_MinorAxisLength  ...  original_glszm_ZoneEntropy  \\\n",
       "0                       30.606121  ...                    2.825564   \n",
       "1                       30.606121  ...                    2.580368   \n",
       "2                       19.456628  ...                    3.147323   \n",
       "3                       19.456628  ...                    3.339987   \n",
       "4                       44.986213  ...                    2.909565   \n",
       "\n",
       "   original_glszm_ZonePercentage  original_glszm_ZoneVariance  \\\n",
       "0                       0.003846                 4.996251e+06   \n",
       "1                       0.004380                 4.745944e+06   \n",
       "2                       0.002108                 5.759789e+06   \n",
       "3                       0.003194                 4.028316e+06   \n",
       "4                       0.005536                 6.875739e+06   \n",
       "\n",
       "   original_ngtdm_Busyness  original_ngtdm_Coarseness  \\\n",
       "0              1060.390698                   0.000323   \n",
       "1               714.483384                   0.000444   \n",
       "2               302.684948                   0.000982   \n",
       "3               253.258853                   0.001130   \n",
       "4               356.064866                   0.000750   \n",
       "\n",
       "   original_ngtdm_Complexity  original_ngtdm_Contrast  \\\n",
       "0                   0.220287                 0.032468   \n",
       "1                   0.160234                 0.019571   \n",
       "2                   0.130170                 0.012262   \n",
       "3                   0.113070                 0.008739   \n",
       "4                   0.063894                 0.002623   \n",
       "\n",
       "   original_ngtdm_Strength         patient  sequence  \n",
       "0                 0.000324  Breast_MRI_001       pre  \n",
       "1                 0.000443  Breast_MRI_001    post_1  \n",
       "2                 0.000985  Breast_MRI_002       pre  \n",
       "3                 0.001129  Breast_MRI_002    post_1  \n",
       "4                 0.000748  Breast_MRI_003       pre  \n",
       "\n",
       "[5 rows x 109 columns]"
      ]
     },
     "execution_count": 4,
     "metadata": {},
     "output_type": "execute_result"
    }
   ],
   "source": [
    "features = pd.read_csv('pyradiomics_extraction.csv')\n",
    "features.head()"
   ]
  },
  {
   "cell_type": "code",
   "execution_count": 5,
   "metadata": {},
   "outputs": [],
   "source": [
    "pre_features = features[features['sequence'] == 'pre']\n",
    "total_features = pd.merge(pre_features, labels, left_on = 'patient', right_on = 'Patient ID').drop(columns = 'Patient ID')"
   ]
  },
  {
   "cell_type": "code",
   "execution_count": 6,
   "metadata": {},
   "outputs": [
    {
     "data": {
      "text/html": [
       "<div>\n",
       "<style scoped>\n",
       "    .dataframe tbody tr th:only-of-type {\n",
       "        vertical-align: middle;\n",
       "    }\n",
       "\n",
       "    .dataframe tbody tr th {\n",
       "        vertical-align: top;\n",
       "    }\n",
       "\n",
       "    .dataframe thead th {\n",
       "        text-align: right;\n",
       "    }\n",
       "</style>\n",
       "<table border=\"1\" class=\"dataframe\">\n",
       "  <thead>\n",
       "    <tr style=\"text-align: right;\">\n",
       "      <th></th>\n",
       "      <th>original_shape_Elongation</th>\n",
       "      <th>original_shape_Flatness</th>\n",
       "      <th>original_shape_LeastAxisLength</th>\n",
       "      <th>original_shape_MajorAxisLength</th>\n",
       "      <th>original_shape_Maximum2DDiameterColumn</th>\n",
       "      <th>original_shape_Maximum2DDiameterRow</th>\n",
       "      <th>original_shape_Maximum2DDiameterSlice</th>\n",
       "      <th>original_shape_Maximum3DDiameter</th>\n",
       "      <th>original_shape_MeshVolume</th>\n",
       "      <th>original_shape_MinorAxisLength</th>\n",
       "      <th>...</th>\n",
       "      <th>original_ngtdm_Coarseness</th>\n",
       "      <th>original_ngtdm_Complexity</th>\n",
       "      <th>original_ngtdm_Contrast</th>\n",
       "      <th>original_ngtdm_Strength</th>\n",
       "      <th>patient</th>\n",
       "      <th>sequence</th>\n",
       "      <th>ER</th>\n",
       "      <th>PR</th>\n",
       "      <th>HER2</th>\n",
       "      <th>Mol Subtype</th>\n",
       "    </tr>\n",
       "  </thead>\n",
       "  <tbody>\n",
       "    <tr>\n",
       "      <th>0</th>\n",
       "      <td>0.891808</td>\n",
       "      <td>0.850437</td>\n",
       "      <td>29.186299</td>\n",
       "      <td>34.319179</td>\n",
       "      <td>36.073737</td>\n",
       "      <td>38.431136</td>\n",
       "      <td>39.309346</td>\n",
       "      <td>46.240422</td>\n",
       "      <td>19914.791496</td>\n",
       "      <td>30.606121</td>\n",
       "      <td>...</td>\n",
       "      <td>0.000323</td>\n",
       "      <td>0.220287</td>\n",
       "      <td>0.032468</td>\n",
       "      <td>0.000324</td>\n",
       "      <td>Breast_MRI_001</td>\n",
       "      <td>pre</td>\n",
       "      <td>0</td>\n",
       "      <td>0</td>\n",
       "      <td>1</td>\n",
       "      <td>2</td>\n",
       "    </tr>\n",
       "    <tr>\n",
       "      <th>1</th>\n",
       "      <td>0.668996</td>\n",
       "      <td>0.650923</td>\n",
       "      <td>18.931009</td>\n",
       "      <td>29.083312</td>\n",
       "      <td>23.148662</td>\n",
       "      <td>29.852205</td>\n",
       "      <td>29.748492</td>\n",
       "      <td>33.784677</td>\n",
       "      <td>6966.458183</td>\n",
       "      <td>19.456628</td>\n",
       "      <td>...</td>\n",
       "      <td>0.000982</td>\n",
       "      <td>0.130170</td>\n",
       "      <td>0.012262</td>\n",
       "      <td>0.000985</td>\n",
       "      <td>Breast_MRI_002</td>\n",
       "      <td>pre</td>\n",
       "      <td>0</td>\n",
       "      <td>0</td>\n",
       "      <td>0</td>\n",
       "      <td>3</td>\n",
       "    </tr>\n",
       "    <tr>\n",
       "      <th>2</th>\n",
       "      <td>0.934408</td>\n",
       "      <td>0.286810</td>\n",
       "      <td>13.808210</td>\n",
       "      <td>48.144081</td>\n",
       "      <td>40.488107</td>\n",
       "      <td>43.126056</td>\n",
       "      <td>56.606869</td>\n",
       "      <td>57.665740</td>\n",
       "      <td>19467.935987</td>\n",
       "      <td>44.986213</td>\n",
       "      <td>...</td>\n",
       "      <td>0.000750</td>\n",
       "      <td>0.063894</td>\n",
       "      <td>0.002623</td>\n",
       "      <td>0.000748</td>\n",
       "      <td>Breast_MRI_003</td>\n",
       "      <td>pre</td>\n",
       "      <td>1</td>\n",
       "      <td>1</td>\n",
       "      <td>0</td>\n",
       "      <td>0</td>\n",
       "    </tr>\n",
       "    <tr>\n",
       "      <th>3</th>\n",
       "      <td>0.707826</td>\n",
       "      <td>0.609522</td>\n",
       "      <td>8.893590</td>\n",
       "      <td>14.591090</td>\n",
       "      <td>11.420813</td>\n",
       "      <td>14.972284</td>\n",
       "      <td>14.477716</td>\n",
       "      <td>16.540987</td>\n",
       "      <td>871.867992</td>\n",
       "      <td>10.327956</td>\n",
       "      <td>...</td>\n",
       "      <td>0.768596</td>\n",
       "      <td>0.001460</td>\n",
       "      <td>0.000002</td>\n",
       "      <td>0.606008</td>\n",
       "      <td>Breast_MRI_004</td>\n",
       "      <td>pre</td>\n",
       "      <td>1</td>\n",
       "      <td>1</td>\n",
       "      <td>0</td>\n",
       "      <td>0</td>\n",
       "    </tr>\n",
       "    <tr>\n",
       "      <th>4</th>\n",
       "      <td>0.679296</td>\n",
       "      <td>0.424353</td>\n",
       "      <td>22.534695</td>\n",
       "      <td>53.103672</td>\n",
       "      <td>55.175581</td>\n",
       "      <td>49.674566</td>\n",
       "      <td>36.443449</td>\n",
       "      <td>58.274413</td>\n",
       "      <td>28042.704264</td>\n",
       "      <td>36.073114</td>\n",
       "      <td>...</td>\n",
       "      <td>0.008849</td>\n",
       "      <td>0.004913</td>\n",
       "      <td>0.000023</td>\n",
       "      <td>0.008499</td>\n",
       "      <td>Breast_MRI_005</td>\n",
       "      <td>pre</td>\n",
       "      <td>1</td>\n",
       "      <td>0</td>\n",
       "      <td>1</td>\n",
       "      <td>1</td>\n",
       "    </tr>\n",
       "    <tr>\n",
       "      <th>...</th>\n",
       "      <td>...</td>\n",
       "      <td>...</td>\n",
       "      <td>...</td>\n",
       "      <td>...</td>\n",
       "      <td>...</td>\n",
       "      <td>...</td>\n",
       "      <td>...</td>\n",
       "      <td>...</td>\n",
       "      <td>...</td>\n",
       "      <td>...</td>\n",
       "      <td>...</td>\n",
       "      <td>...</td>\n",
       "      <td>...</td>\n",
       "      <td>...</td>\n",
       "      <td>...</td>\n",
       "      <td>...</td>\n",
       "      <td>...</td>\n",
       "      <td>...</td>\n",
       "      <td>...</td>\n",
       "      <td>...</td>\n",
       "      <td>...</td>\n",
       "    </tr>\n",
       "    <tr>\n",
       "      <th>917</th>\n",
       "      <td>0.877153</td>\n",
       "      <td>0.648783</td>\n",
       "      <td>29.186299</td>\n",
       "      <td>44.986213</td>\n",
       "      <td>45.886501</td>\n",
       "      <td>41.977361</td>\n",
       "      <td>51.383808</td>\n",
       "      <td>56.811793</td>\n",
       "      <td>33662.244229</td>\n",
       "      <td>39.459771</td>\n",
       "      <td>...</td>\n",
       "      <td>0.001344</td>\n",
       "      <td>0.022699</td>\n",
       "      <td>0.000827</td>\n",
       "      <td>0.001322</td>\n",
       "      <td>Breast_MRI_918</td>\n",
       "      <td>pre</td>\n",
       "      <td>1</td>\n",
       "      <td>1</td>\n",
       "      <td>0</td>\n",
       "      <td>0</td>\n",
       "    </tr>\n",
       "    <tr>\n",
       "      <th>918</th>\n",
       "      <td>0.964239</td>\n",
       "      <td>0.648439</td>\n",
       "      <td>13.914028</td>\n",
       "      <td>21.457727</td>\n",
       "      <td>21.631462</td>\n",
       "      <td>21.084250</td>\n",
       "      <td>25.375225</td>\n",
       "      <td>27.677709</td>\n",
       "      <td>4018.670942</td>\n",
       "      <td>20.690383</td>\n",
       "      <td>...</td>\n",
       "      <td>0.015225</td>\n",
       "      <td>0.015796</td>\n",
       "      <td>0.000151</td>\n",
       "      <td>0.014937</td>\n",
       "      <td>Breast_MRI_919</td>\n",
       "      <td>pre</td>\n",
       "      <td>1</td>\n",
       "      <td>1</td>\n",
       "      <td>0</td>\n",
       "      <td>0</td>\n",
       "    </tr>\n",
       "    <tr>\n",
       "      <th>919</th>\n",
       "      <td>0.877183</td>\n",
       "      <td>0.856791</td>\n",
       "      <td>15.749673</td>\n",
       "      <td>18.382163</td>\n",
       "      <td>19.038279</td>\n",
       "      <td>20.649190</td>\n",
       "      <td>20.505122</td>\n",
       "      <td>24.348411</td>\n",
       "      <td>3033.167788</td>\n",
       "      <td>16.124515</td>\n",
       "      <td>...</td>\n",
       "      <td>0.133894</td>\n",
       "      <td>0.002823</td>\n",
       "      <td>0.000004</td>\n",
       "      <td>0.132276</td>\n",
       "      <td>Breast_MRI_920</td>\n",
       "      <td>pre</td>\n",
       "      <td>1</td>\n",
       "      <td>1</td>\n",
       "      <td>0</td>\n",
       "      <td>0</td>\n",
       "    </tr>\n",
       "    <tr>\n",
       "      <th>920</th>\n",
       "      <td>0.913000</td>\n",
       "      <td>0.800835</td>\n",
       "      <td>33.226543</td>\n",
       "      <td>41.489900</td>\n",
       "      <td>43.076382</td>\n",
       "      <td>45.448460</td>\n",
       "      <td>48.143552</td>\n",
       "      <td>55.603011</td>\n",
       "      <td>33924.801358</td>\n",
       "      <td>37.880295</td>\n",
       "      <td>...</td>\n",
       "      <td>0.001018</td>\n",
       "      <td>0.042386</td>\n",
       "      <td>0.001378</td>\n",
       "      <td>0.001013</td>\n",
       "      <td>Breast_MRI_921</td>\n",
       "      <td>pre</td>\n",
       "      <td>1</td>\n",
       "      <td>1</td>\n",
       "      <td>0</td>\n",
       "      <td>0</td>\n",
       "    </tr>\n",
       "    <tr>\n",
       "      <th>921</th>\n",
       "      <td>0.945533</td>\n",
       "      <td>0.798995</td>\n",
       "      <td>9.708553</td>\n",
       "      <td>12.150957</td>\n",
       "      <td>14.031840</td>\n",
       "      <td>12.641847</td>\n",
       "      <td>13.078416</td>\n",
       "      <td>16.022136</td>\n",
       "      <td>881.013461</td>\n",
       "      <td>11.489125</td>\n",
       "      <td>...</td>\n",
       "      <td>0.073097</td>\n",
       "      <td>0.015201</td>\n",
       "      <td>0.000122</td>\n",
       "      <td>0.075003</td>\n",
       "      <td>Breast_MRI_922</td>\n",
       "      <td>pre</td>\n",
       "      <td>1</td>\n",
       "      <td>1</td>\n",
       "      <td>0</td>\n",
       "      <td>0</td>\n",
       "    </tr>\n",
       "  </tbody>\n",
       "</table>\n",
       "<p>922 rows × 113 columns</p>\n",
       "</div>"
      ],
      "text/plain": [
       "     original_shape_Elongation  original_shape_Flatness  \\\n",
       "0                     0.891808                 0.850437   \n",
       "1                     0.668996                 0.650923   \n",
       "2                     0.934408                 0.286810   \n",
       "3                     0.707826                 0.609522   \n",
       "4                     0.679296                 0.424353   \n",
       "..                         ...                      ...   \n",
       "917                   0.877153                 0.648783   \n",
       "918                   0.964239                 0.648439   \n",
       "919                   0.877183                 0.856791   \n",
       "920                   0.913000                 0.800835   \n",
       "921                   0.945533                 0.798995   \n",
       "\n",
       "     original_shape_LeastAxisLength  original_shape_MajorAxisLength  \\\n",
       "0                         29.186299                       34.319179   \n",
       "1                         18.931009                       29.083312   \n",
       "2                         13.808210                       48.144081   \n",
       "3                          8.893590                       14.591090   \n",
       "4                         22.534695                       53.103672   \n",
       "..                              ...                             ...   \n",
       "917                       29.186299                       44.986213   \n",
       "918                       13.914028                       21.457727   \n",
       "919                       15.749673                       18.382163   \n",
       "920                       33.226543                       41.489900   \n",
       "921                        9.708553                       12.150957   \n",
       "\n",
       "     original_shape_Maximum2DDiameterColumn  \\\n",
       "0                                 36.073737   \n",
       "1                                 23.148662   \n",
       "2                                 40.488107   \n",
       "3                                 11.420813   \n",
       "4                                 55.175581   \n",
       "..                                      ...   \n",
       "917                               45.886501   \n",
       "918                               21.631462   \n",
       "919                               19.038279   \n",
       "920                               43.076382   \n",
       "921                               14.031840   \n",
       "\n",
       "     original_shape_Maximum2DDiameterRow  \\\n",
       "0                              38.431136   \n",
       "1                              29.852205   \n",
       "2                              43.126056   \n",
       "3                              14.972284   \n",
       "4                              49.674566   \n",
       "..                                   ...   \n",
       "917                            41.977361   \n",
       "918                            21.084250   \n",
       "919                            20.649190   \n",
       "920                            45.448460   \n",
       "921                            12.641847   \n",
       "\n",
       "     original_shape_Maximum2DDiameterSlice  original_shape_Maximum3DDiameter  \\\n",
       "0                                39.309346                         46.240422   \n",
       "1                                29.748492                         33.784677   \n",
       "2                                56.606869                         57.665740   \n",
       "3                                14.477716                         16.540987   \n",
       "4                                36.443449                         58.274413   \n",
       "..                                     ...                               ...   \n",
       "917                              51.383808                         56.811793   \n",
       "918                              25.375225                         27.677709   \n",
       "919                              20.505122                         24.348411   \n",
       "920                              48.143552                         55.603011   \n",
       "921                              13.078416                         16.022136   \n",
       "\n",
       "     original_shape_MeshVolume  original_shape_MinorAxisLength  ...  \\\n",
       "0                 19914.791496                       30.606121  ...   \n",
       "1                  6966.458183                       19.456628  ...   \n",
       "2                 19467.935987                       44.986213  ...   \n",
       "3                   871.867992                       10.327956  ...   \n",
       "4                 28042.704264                       36.073114  ...   \n",
       "..                         ...                             ...  ...   \n",
       "917               33662.244229                       39.459771  ...   \n",
       "918                4018.670942                       20.690383  ...   \n",
       "919                3033.167788                       16.124515  ...   \n",
       "920               33924.801358                       37.880295  ...   \n",
       "921                 881.013461                       11.489125  ...   \n",
       "\n",
       "     original_ngtdm_Coarseness  original_ngtdm_Complexity  \\\n",
       "0                     0.000323                   0.220287   \n",
       "1                     0.000982                   0.130170   \n",
       "2                     0.000750                   0.063894   \n",
       "3                     0.768596                   0.001460   \n",
       "4                     0.008849                   0.004913   \n",
       "..                         ...                        ...   \n",
       "917                   0.001344                   0.022699   \n",
       "918                   0.015225                   0.015796   \n",
       "919                   0.133894                   0.002823   \n",
       "920                   0.001018                   0.042386   \n",
       "921                   0.073097                   0.015201   \n",
       "\n",
       "     original_ngtdm_Contrast  original_ngtdm_Strength         patient  \\\n",
       "0                   0.032468                 0.000324  Breast_MRI_001   \n",
       "1                   0.012262                 0.000985  Breast_MRI_002   \n",
       "2                   0.002623                 0.000748  Breast_MRI_003   \n",
       "3                   0.000002                 0.606008  Breast_MRI_004   \n",
       "4                   0.000023                 0.008499  Breast_MRI_005   \n",
       "..                       ...                      ...             ...   \n",
       "917                 0.000827                 0.001322  Breast_MRI_918   \n",
       "918                 0.000151                 0.014937  Breast_MRI_919   \n",
       "919                 0.000004                 0.132276  Breast_MRI_920   \n",
       "920                 0.001378                 0.001013  Breast_MRI_921   \n",
       "921                 0.000122                 0.075003  Breast_MRI_922   \n",
       "\n",
       "     sequence  ER  PR  HER2  Mol Subtype  \n",
       "0         pre   0   0     1            2  \n",
       "1         pre   0   0     0            3  \n",
       "2         pre   1   1     0            0  \n",
       "3         pre   1   1     0            0  \n",
       "4         pre   1   0     1            1  \n",
       "..        ...  ..  ..   ...          ...  \n",
       "917       pre   1   1     0            0  \n",
       "918       pre   1   1     0            0  \n",
       "919       pre   1   1     0            0  \n",
       "920       pre   1   1     0            0  \n",
       "921       pre   1   1     0            0  \n",
       "\n",
       "[922 rows x 113 columns]"
      ]
     },
     "execution_count": 6,
     "metadata": {},
     "output_type": "execute_result"
    }
   ],
   "source": [
    "total_features"
   ]
  },
  {
   "cell_type": "markdown",
   "metadata": {},
   "source": [
    "## Data Processing and Feature Selection: TODO"
   ]
  },
  {
   "cell_type": "markdown",
   "metadata": {},
   "source": [
    "# Training"
   ]
  },
  {
   "cell_type": "code",
   "execution_count": 7,
   "metadata": {},
   "outputs": [],
   "source": [
    "from sklearn.model_selection import train_test_split\n",
    "from sklearn.metrics import accuracy_score, precision_score, recall_score, classification_report, f1_score, roc_auc_score\n",
    "\n",
    "from sklearn.ensemble import RandomForestClassifier"
   ]
  },
  {
   "cell_type": "code",
   "execution_count": 8,
   "metadata": {},
   "outputs": [],
   "source": [
    "TRAIN_RATIO = 0.6\n",
    "VAL_RATIO = 0.2\n",
    "TEST_RATIO = 0.2\n",
    "\n",
    "SEED = 2454259"
   ]
  },
  {
   "cell_type": "code",
   "execution_count": 9,
   "metadata": {},
   "outputs": [],
   "source": [
    "def train_test_val_splits(df, train_ratio = 0.8, val_ratio = 0.2, random_state = 2454259):\n",
    "   \n",
    "    val_ratio_adj = val_ratio / (1-train_ratio)\n",
    "\n",
    "    train_df, val_df = train_test_split(df, train_size = train_ratio, random_state= random_state)\n",
    "    val_df, test_df = train_test_split(val_df, train_size = val_ratio_adj, random_state= random_state)\n",
    "\n",
    "    print(len(train_df))\n",
    "\n",
    "    return train_df, val_df, test_df\n"
   ]
  },
  {
   "cell_type": "code",
   "execution_count": 10,
   "metadata": {},
   "outputs": [
    {
     "name": "stdout",
     "output_type": "stream",
     "text": [
      "553\n"
     ]
    },
    {
     "data": {
      "text/plain": [
       "(553, 184, 185)"
      ]
     },
     "execution_count": 10,
     "metadata": {},
     "output_type": "execute_result"
    }
   ],
   "source": [
    "train_df, val_df, test_df = train_test_val_splits(total_features.drop(columns = ['sequence', 'patient']), TRAIN_RATIO, VAL_RATIO, random_state = SEED)\n",
    "len(train_df), len(val_df), len(test_df)"
   ]
  },
  {
   "cell_type": "code",
   "execution_count": 11,
   "metadata": {},
   "outputs": [],
   "source": [
    "train_x, train_y_er, train_y_pr, train_y_her, train_y_mol_subtype = train_df.drop(columns = ['ER', 'PR', 'HER2', 'Mol Subtype']), train_df['ER'], train_df['PR'], train_df['HER2'], train_df['Mol Subtype']\n",
    "val_x, val_y_er, val_y_pr, val_y_her, val_y_mol_subtype = val_df.drop(columns = ['ER', 'PR', 'HER2', 'Mol Subtype']), val_df['ER'], val_df['PR'], val_df['HER2'], val_df['Mol Subtype']\n",
    "test_x, test_y_er, test_y_pr, test_y_her, test_y_mol_subtype = test_df.drop(columns = ['ER', 'PR', 'HER2', 'Mol Subtype']), test_df['ER'], test_df['PR'], test_df['HER2'], test_df['Mol Subtype']"
   ]
  },
  {
   "cell_type": "markdown",
   "metadata": {},
   "source": [
    "### Class distribution in the train, val and test splits"
   ]
  },
  {
   "cell_type": "code",
   "execution_count": 12,
   "metadata": {},
   "outputs": [
    {
     "name": "stdout",
     "output_type": "stream",
     "text": [
      "Train ER neg: 139, pos: 414\n",
      "Val ER neg: 46, pos: 138\n",
      "Test ER neg: 51, pos: 134\n"
     ]
    }
   ],
   "source": [
    "print(\"Train ER neg: {}, pos: {}\\nVal ER neg: {}, pos: {}\\nTest ER neg: {}, pos: {}\".format(train_y_er.value_counts()[0], train_y_er.value_counts()[1],\n",
    "                                                                                           val_y_er.value_counts()[0]    , val_y_er.value_counts()[1],\n",
    "                                                                                           test_y_er.value_counts()[0]   , test_y_er.value_counts()[1])\n",
    ")"
   ]
  },
  {
   "cell_type": "code",
   "execution_count": 13,
   "metadata": {},
   "outputs": [
    {
     "name": "stdout",
     "output_type": "stream",
     "text": [
      "Train PR neg: 194, pos: 359\n",
      "Val PR neg: 66, pos: 118\n",
      "Test PR neg: 64, pos: 121\n"
     ]
    }
   ],
   "source": [
    "print(\"Train PR neg: {}, pos: {}\\nVal PR neg: {}, pos: {}\\nTest PR neg: {}, pos: {}\".format(train_y_pr.value_counts()[0]  , train_y_pr.value_counts()[1],\n",
    "                                                                                           val_y_pr.value_counts()[0]    , val_y_pr.value_counts()[1],\n",
    "                                                                                           test_y_pr.value_counts()[0]   , test_y_pr.value_counts()[1])\n",
    ")"
   ]
  },
  {
   "cell_type": "code",
   "execution_count": 14,
   "metadata": {},
   "outputs": [
    {
     "name": "stdout",
     "output_type": "stream",
     "text": [
      "Train HER neg: 452, pos: 101\n",
      "Val HER neg: 153, pos: 31\n",
      "Test HER neg: 154, pos: 31\n"
     ]
    }
   ],
   "source": [
    "print(\"Train HER neg: {}, pos: {}\\nVal HER neg: {}, pos: {}\\nTest HER neg: {}, pos: {}\".format(\n",
    "                                                                                           train_y_her.value_counts()[0]  , train_y_her.value_counts()[1],\n",
    "                                                                                           val_y_her.value_counts()[0]    , val_y_her.value_counts()[1],\n",
    "                                                                                           test_y_her.value_counts()[0]   , test_y_her.value_counts()[1])\n",
    ")"
   ]
  },
  {
   "cell_type": "code",
   "execution_count": 15,
   "metadata": {},
   "outputs": [],
   "source": [
    "def train_pipeline(model, trainx, trainy, valx, valy):\n",
    "    model.fit(trainx, trainy)\n",
    "    preds = model.predict(trainx)\n",
    "    preds_val = model.predict(valx)\n",
    "\n",
    "    acc_train, acc_val = accuracy_score(trainy, preds), accuracy_score(valy, preds_val)\n",
    "    prec_train, prec_val = precision_score(trainy, preds, average = 'weighted'), precision_score(valy, preds_val, average = 'weighted')\n",
    "    rec_train, rec_val = recall_score(trainy, preds, average = 'weighted'), recall_score(valy, preds_val, average = 'weighted')\n",
    "    f1_train, f1_val = f1_score(trainy, preds, average = 'weighted'), f1_score(valy, preds_val, average = 'weighted')\n",
    "\n",
    "    metrics = {'train_acc' : acc_train, 'val_acc' : acc_val,\n",
    "               'train_prec': prec_train, 'val_prec': prec_val,\n",
    "               'train_rec' : rec_train,  'val_rec' : rec_val,\n",
    "               'train_f1' : f1_train, 'val_f1': f1_val}\n",
    "\n",
    "\n",
    "    print(\"Training Accuracy: {:.4f}, Validation Accuracy: {:.4f}\".format(acc_train, acc_val))\n",
    "    print(\"Training Precision: {:.4f}, Validation Precision: {:.4f}\".format(prec_train, prec_val))\n",
    "    print(\"Training Recall: {:.4f}, Validation Recall: {:.4f}\".format(rec_train, rec_val))\n",
    "    print(\"Training F1-Score: {:.4f}, Validation F1-Score: {:.4f}\".format(f1_train, f1_val))\n",
    "\n",
    "    return model, metrics"
   ]
  },
  {
   "cell_type": "code",
   "execution_count": 16,
   "metadata": {},
   "outputs": [],
   "source": [
    "def get_classification_report(model, trainx, trainy, valx, valy, testx, testy, class_names, title, subtype = None):\n",
    "    model, metrics = train_pipeline(model, trainx, trainy, valx, valy)\n",
    "    pred = model.predict(testx)\n",
    "\n",
    "\n",
    "    acc_test = accuracy_score(testy, pred)\n",
    "    prec_test = precision_score(testy, pred, average = 'weighted')\n",
    "    rec_test = recall_score(testy, pred, average = 'weighted')\n",
    "    f1_test = f1_score(testy, pred, average = 'weighted')\n",
    "    \n",
    "    metrics.update(\n",
    "            {'test_acc' : acc_test,\n",
    "            'test_prec': prec_test,\n",
    "            'test_rec' : rec_test,\n",
    "            'test_f1' : f1_test})\n",
    "\n",
    "    if len(trainy.unique()) == 2 and not isinstance(model, SVC):\n",
    "        probs = model.predict_proba(test_x)\n",
    "        aucroc = roc_auc_score(testy, probs[:, 1], average = 'weighted')\n",
    "        metrics.update({'test_aucroc' : aucroc})\n",
    "\n",
    "    cls_report = classification_report(testy, pred, target_names = class_names, output_dict = True)\n",
    "    sns.heatmap(pd.DataFrame(cls_report).iloc[:-1, :].T, annot=True)\n",
    "    plt.title(title)\n",
    "    return metrics, model"
   ]
  },
  {
   "cell_type": "markdown",
   "metadata": {},
   "source": [
    "## Classifications"
   ]
  },
  {
   "cell_type": "code",
   "execution_count": 17,
   "metadata": {},
   "outputs": [],
   "source": [
    "classification_results = pd.DataFrame()"
   ]
  },
  {
   "cell_type": "markdown",
   "metadata": {},
   "source": [
    "## Feature Scaling"
   ]
  },
  {
   "cell_type": "code",
   "execution_count": 18,
   "metadata": {},
   "outputs": [],
   "source": [
    "from sklearn.preprocessing import MinMaxScaler as Scaler"
   ]
  },
  {
   "cell_type": "code",
   "execution_count": 19,
   "metadata": {},
   "outputs": [
    {
     "data": {
      "text/plain": [
       "MinMaxScaler()"
      ]
     },
     "execution_count": 19,
     "metadata": {},
     "output_type": "execute_result"
    }
   ],
   "source": [
    "scaler = Scaler()\n",
    "scaler.fit(train_x)"
   ]
  },
  {
   "cell_type": "code",
   "execution_count": 20,
   "metadata": {},
   "outputs": [],
   "source": [
    "train_x = scaler.transform(train_x)\n",
    "val_x = scaler.transform(val_x)\n",
    "test_x = scaler.transform(test_x)"
   ]
  },
  {
   "cell_type": "markdown",
   "metadata": {},
   "source": [
    "## Models"
   ]
  },
  {
   "cell_type": "markdown",
   "metadata": {},
   "source": [
    "### RandomForest"
   ]
  },
  {
   "cell_type": "code",
   "execution_count": 21,
   "metadata": {},
   "outputs": [],
   "source": [
    "from sklearn.svm import SVC"
   ]
  },
  {
   "cell_type": "code",
   "execution_count": 22,
   "metadata": {},
   "outputs": [
    {
     "name": "stdout",
     "output_type": "stream",
     "text": [
      "Training Accuracy: 0.8644, Validation Accuracy: 0.7663\n",
      "Training Precision: 0.8852, Validation Precision: 0.7740\n",
      "Training Recall: 0.8644, Validation Recall: 0.7663\n",
      "Training F1-Score: 0.8450, Validation F1-Score: 0.6875\n"
     ]
    },
    {
     "data": {
      "image/png": "[encoded data removed]",
      "text/plain": [
       "<Figure size 432x288 with 2 Axes>"
      ]
     },
     "metadata": {
      "needs_background": "light"
     },
     "output_type": "display_data"
    }
   ],
   "source": [
    "forest_er = RandomForestClassifier(n_estimators = 50, criterion = 'gini', max_depth = 6)\n",
    "report, forest_er = get_classification_report(forest_er, train_x, train_y_er, val_x, val_y_er, test_x, test_y_er, ['ER Negative', 'ER Positive'], 'ER Subtype metrics on testing set')\n",
    "\n",
    "\n",
    "result = pd.DataFrame(report, index = [0])\n",
    "result['Algorithm'] = 'Random Forest'\n",
    "result['Subtype'] = 'ER'\n",
    "result = result[list(result.columns[-2:]) + list(result.columns[:-2])]\n",
    "classification_results = pd.concat([classification_results, result])"
   ]
  },
  {
   "cell_type": "code",
   "execution_count": 23,
   "metadata": {},
   "outputs": [
    {
     "name": "stdout",
     "output_type": "stream",
     "text": [
      "Training Accuracy: 0.8336, Validation Accuracy: 0.7609\n",
      "Training Precision: 0.8639, Validation Precision: 0.8187\n",
      "Training Recall: 0.8336, Validation Recall: 0.7609\n",
      "Training F1-Score: 0.8008, Validation F1-Score: 0.6677\n"
     ]
    },
    {
     "data": {
      "image/png": "[encoded data removed]",
      "text/plain": [
       "<Figure size 432x288 with 2 Axes>"
      ]
     },
     "metadata": {
      "needs_background": "light"
     },
     "output_type": "display_data"
    }
   ],
   "source": [
    "forest_er = RandomForestClassifier(n_estimators = 50, criterion = 'entropy', max_depth = 6)\n",
    "report, forest_er = get_classification_report(forest_er, train_x, train_y_er, val_x, val_y_er, test_x, test_y_er, ['ER Negative', 'ER Positive'], 'ER Subtype metrics on testing set')\n",
    "\n",
    "\n",
    "result = pd.DataFrame(report, index = [0])\n",
    "result['Algorithm'] = 'Random Forest'\n",
    "result['Subtype'] = 'ER'\n",
    "result = result[list(result.columns[-2:]) + list(result.columns[:-2])]\n",
    "classification_results = pd.concat([classification_results, result])"
   ]
  },
  {
   "cell_type": "code",
   "execution_count": 29,
   "metadata": {},
   "outputs": [
    {
     "name": "stdout",
     "output_type": "stream",
     "text": [
      "Training Accuracy: 0.8445, Validation Accuracy: 0.7391\n",
      "Training Precision: 0.8644, Validation Precision: 0.6605\n",
      "Training Recall: 0.8445, Validation Recall: 0.7391\n",
      "Training F1-Score: 0.8190, Validation F1-Score: 0.6631\n"
     ]
    },
    {
     "data": {
      "image/png": "[encoded data removed]",
      "text/plain": [
       "<Figure size 432x288 with 2 Axes>"
      ]
     },
     "metadata": {
      "needs_background": "light"
     },
     "output_type": "display_data"
    }
   ],
   "source": [
    "forest_er = RandomForestClassifier(n_estimators = 20, criterion = 'entropy', max_depth = 6)\n",
    "report, forest_er = get_classification_report(forest_er, train_x, train_y_er, val_x, val_y_er, test_x, test_y_er, ['ER Negative', 'ER Positive'], 'ER Subtype metrics on testing set')\n",
    "\n",
    "\n",
    "result = pd.DataFrame(report, index = [0])\n",
    "result['Algorithm'] = 'Random Forest'\n",
    "result['Subtype'] = 'ER'\n",
    "result = result[list(result.columns[-2:]) + list(result.columns[:-2])]\n",
    "classification_results = pd.concat([classification_results, result])"
   ]
  },
  {
   "cell_type": "code",
   "execution_count": 24,
   "metadata": {},
   "outputs": [
    {
     "name": "stdout",
     "output_type": "stream",
     "text": [
      "Training Accuracy: 1.0000, Validation Accuracy: 0.6087\n",
      "Training Precision: 1.0000, Validation Precision: 0.5809\n",
      "Training Recall: 1.0000, Validation Recall: 0.6087\n",
      "Training F1-Score: 1.0000, Validation F1-Score: 0.5862\n"
     ]
    },
    {
     "data": {
      "image/png": "[encoded data removed]",
      "text/plain": [
       "<Figure size 432x288 with 2 Axes>"
      ]
     },
     "metadata": {
      "needs_background": "light"
     },
     "output_type": "display_data"
    }
   ],
   "source": [
    "forest_pr = RandomForestClassifier(n_estimators = 20, criterion = 'gini', max_depth = 15)\n",
    "report, forest_pr = get_classification_report(forest_pr, train_x, train_y_pr, val_x, val_y_pr, test_x, test_y_pr, ['PR Negative', 'PR Positive'], 'PR Subtype metrics on testing set')\n",
    "\n",
    "result = pd.DataFrame(report, index = [0])\n",
    "result['Algorithm'] = 'Random Forest'\n",
    "result['Subtype'] = 'PR'\n",
    "result = result[list(result.columns[-2:]) + list(result.columns[:-2])]\n",
    "classification_results = pd.concat([classification_results, result])"
   ]
  },
  {
   "cell_type": "code",
   "execution_count": 25,
   "metadata": {},
   "outputs": [
    {
     "name": "stdout",
     "output_type": "stream",
     "text": [
      "Training Accuracy: 0.9982, Validation Accuracy: 0.8098\n",
      "Training Precision: 0.9982, Validation Precision: 0.7195\n",
      "Training Recall: 0.9982, Validation Recall: 0.8098\n",
      "Training F1-Score: 0.9982, Validation F1-Score: 0.7527\n"
     ]
    },
    {
     "data": {
      "image/png": "[encoded data removed]",
      "text/plain": [
       "<Figure size 432x288 with 2 Axes>"
      ]
     },
     "metadata": {
      "needs_background": "light"
     },
     "output_type": "display_data"
    }
   ],
   "source": [
    "forest_her2 = RandomForestClassifier(n_estimators = 50, criterion = 'gini', max_depth = 20)\n",
    "report, forest_her2 = get_classification_report(forest_her2, train_x, train_y_her, val_x, val_y_her, test_x, test_y_her, ['HER2 Negative', 'HER2 Positive'], 'HER2 Subtype metrics on testing set')\n",
    "\n",
    "result = pd.DataFrame(report, index = [0])\n",
    "result['Algorithm'] = 'Random Forest'\n",
    "result['Subtype'] = 'HER2'\n",
    "result = result[list(result.columns[-2:]) + list(result.columns[:-2])]\n",
    "classification_results = pd.concat([classification_results, result])"
   ]
  },
  {
   "cell_type": "code",
   "execution_count": 26,
   "metadata": {},
   "outputs": [
    {
     "name": "stdout",
     "output_type": "stream",
     "text": [
      "Training Accuracy: 0.6510, Validation Accuracy: 0.6630\n",
      "Training Precision: 0.4238, Validation Precision: 0.4396\n",
      "Training Recall: 0.6510, Validation Recall: 0.6630\n",
      "Training F1-Score: 0.5134, Validation F1-Score: 0.5287\n"
     ]
    },
    {
     "name": "stderr",
     "output_type": "stream",
     "text": [
      "c:\\Users\\HIMANSHI\\anaconda3\\lib\\site-packages\\sklearn\\metrics\\_classification.py:1318: UndefinedMetricWarning: Precision is ill-defined and being set to 0.0 in labels with no predicted samples. Use `zero_division` parameter to control this behavior.\n",
      "  _warn_prf(average, modifier, msg_start, len(result))\n",
      "c:\\Users\\HIMANSHI\\anaconda3\\lib\\site-packages\\sklearn\\metrics\\_classification.py:1318: UndefinedMetricWarning: Precision is ill-defined and being set to 0.0 in labels with no predicted samples. Use `zero_division` parameter to control this behavior.\n",
      "  _warn_prf(average, modifier, msg_start, len(result))\n",
      "c:\\Users\\HIMANSHI\\anaconda3\\lib\\site-packages\\sklearn\\metrics\\_classification.py:1318: UndefinedMetricWarning: Precision is ill-defined and being set to 0.0 in labels with no predicted samples. Use `zero_division` parameter to control this behavior.\n",
      "  _warn_prf(average, modifier, msg_start, len(result))\n",
      "c:\\Users\\HIMANSHI\\anaconda3\\lib\\site-packages\\sklearn\\metrics\\_classification.py:1318: UndefinedMetricWarning: Precision and F-score are ill-defined and being set to 0.0 in labels with no predicted samples. Use `zero_division` parameter to control this behavior.\n",
      "  _warn_prf(average, modifier, msg_start, len(result))\n",
      "c:\\Users\\HIMANSHI\\anaconda3\\lib\\site-packages\\sklearn\\metrics\\_classification.py:1318: UndefinedMetricWarning: Precision and F-score are ill-defined and being set to 0.0 in labels with no predicted samples. Use `zero_division` parameter to control this behavior.\n",
      "  _warn_prf(average, modifier, msg_start, len(result))\n",
      "c:\\Users\\HIMANSHI\\anaconda3\\lib\\site-packages\\sklearn\\metrics\\_classification.py:1318: UndefinedMetricWarning: Precision and F-score are ill-defined and being set to 0.0 in labels with no predicted samples. Use `zero_division` parameter to control this behavior.\n",
      "  _warn_prf(average, modifier, msg_start, len(result))\n"
     ]
    },
    {
     "data": {
      "image/png": "[encoded data removed]",
      "text/plain": [
       "<Figure size 432x288 with 2 Axes>"
      ]
     },
     "metadata": {
      "needs_background": "light"
     },
     "output_type": "display_data"
    }
   ],
   "source": [
    "forest_mol_subtype = RandomForestClassifier(n_estimators = 50, criterion = 'gini', max_depth = 2)\n",
    "report, forest_mol_subtype = get_classification_report(forest_mol_subtype, train_x, train_y_mol_subtype, val_x, val_y_mol_subtype, test_x, test_y_mol_subtype, ['Luminal', 'ER/PR pos, HER2 pos', 'HER2', 'Triple Negative'], 'Mol Subtype metrics on testing set')\n",
    "\n",
    "result = pd.DataFrame(report, index = [0])\n",
    "result['Algorithm'] = 'Random Forest'\n",
    "result['Subtype'] = 'Mol Subtype'\n",
    "result = result[list(result.columns[-2:]) + list(result.columns[:-2])]\n",
    "classification_results = pd.concat([classification_results, result])"
   ]
  },
  {
   "cell_type": "markdown",
   "metadata": {},
   "source": [
    "## Classification scores"
   ]
  },
  {
   "cell_type": "code",
   "execution_count": 27,
   "metadata": {},
   "outputs": [
    {
     "data": {
      "text/html": [
       "<div>\n",
       "<style scoped>\n",
       "    .dataframe tbody tr th:only-of-type {\n",
       "        vertical-align: middle;\n",
       "    }\n",
       "\n",
       "    .dataframe tbody tr th {\n",
       "        vertical-align: top;\n",
       "    }\n",
       "\n",
       "    .dataframe thead th {\n",
       "        text-align: right;\n",
       "    }\n",
       "</style>\n",
       "<table border=\"1\" class=\"dataframe\">\n",
       "  <thead>\n",
       "    <tr style=\"text-align: right;\">\n",
       "      <th></th>\n",
       "      <th>Algorithm</th>\n",
       "      <th>Subtype</th>\n",
       "      <th>train_acc</th>\n",
       "      <th>val_acc</th>\n",
       "      <th>train_prec</th>\n",
       "      <th>val_prec</th>\n",
       "      <th>train_rec</th>\n",
       "      <th>val_rec</th>\n",
       "      <th>train_f1</th>\n",
       "      <th>val_f1</th>\n",
       "      <th>test_acc</th>\n",
       "      <th>test_prec</th>\n",
       "      <th>test_rec</th>\n",
       "      <th>test_f1</th>\n",
       "      <th>test_aucroc</th>\n",
       "    </tr>\n",
       "  </thead>\n",
       "  <tbody>\n",
       "    <tr>\n",
       "      <th>0</th>\n",
       "      <td>Random Forest</td>\n",
       "      <td>ER</td>\n",
       "      <td>0.864376</td>\n",
       "      <td>0.766304</td>\n",
       "      <td>0.885177</td>\n",
       "      <td>0.774022</td>\n",
       "      <td>0.864376</td>\n",
       "      <td>0.766304</td>\n",
       "      <td>0.844955</td>\n",
       "      <td>0.687481</td>\n",
       "      <td>0.708108</td>\n",
       "      <td>0.578258</td>\n",
       "      <td>0.708108</td>\n",
       "      <td>0.609605</td>\n",
       "      <td>0.603453</td>\n",
       "    </tr>\n",
       "    <tr>\n",
       "      <th>1</th>\n",
       "      <td>Random Forest</td>\n",
       "      <td>ER</td>\n",
       "      <td>0.833635</td>\n",
       "      <td>0.760870</td>\n",
       "      <td>0.863883</td>\n",
       "      <td>0.818681</td>\n",
       "      <td>0.833635</td>\n",
       "      <td>0.760870</td>\n",
       "      <td>0.800809</td>\n",
       "      <td>0.667708</td>\n",
       "      <td>0.724324</td>\n",
       "      <td>0.666074</td>\n",
       "      <td>0.724324</td>\n",
       "      <td>0.627102</td>\n",
       "      <td>0.606234</td>\n",
       "    </tr>\n",
       "    <tr>\n",
       "      <th>3</th>\n",
       "      <td>Random Forest</td>\n",
       "      <td>HER2</td>\n",
       "      <td>0.998192</td>\n",
       "      <td>0.809783</td>\n",
       "      <td>0.998196</td>\n",
       "      <td>0.719457</td>\n",
       "      <td>0.998192</td>\n",
       "      <td>0.809783</td>\n",
       "      <td>0.998188</td>\n",
       "      <td>0.752703</td>\n",
       "      <td>0.837838</td>\n",
       "      <td>0.811504</td>\n",
       "      <td>0.837838</td>\n",
       "      <td>0.777822</td>\n",
       "      <td>0.614788</td>\n",
       "    </tr>\n",
       "    <tr>\n",
       "      <th>4</th>\n",
       "      <td>Random Forest</td>\n",
       "      <td>Mol Subtype</td>\n",
       "      <td>0.650995</td>\n",
       "      <td>0.663043</td>\n",
       "      <td>0.423794</td>\n",
       "      <td>0.439627</td>\n",
       "      <td>0.650995</td>\n",
       "      <td>0.663043</td>\n",
       "      <td>0.513380</td>\n",
       "      <td>0.528701</td>\n",
       "      <td>0.610811</td>\n",
       "      <td>0.373090</td>\n",
       "      <td>0.610811</td>\n",
       "      <td>0.463232</td>\n",
       "      <td>NaN</td>\n",
       "    </tr>\n",
       "    <tr>\n",
       "      <th>2</th>\n",
       "      <td>Random Forest</td>\n",
       "      <td>PR</td>\n",
       "      <td>1.000000</td>\n",
       "      <td>0.608696</td>\n",
       "      <td>1.000000</td>\n",
       "      <td>0.580901</td>\n",
       "      <td>1.000000</td>\n",
       "      <td>0.608696</td>\n",
       "      <td>1.000000</td>\n",
       "      <td>0.586249</td>\n",
       "      <td>0.605405</td>\n",
       "      <td>0.595324</td>\n",
       "      <td>0.605405</td>\n",
       "      <td>0.599538</td>\n",
       "      <td>0.595816</td>\n",
       "    </tr>\n",
       "  </tbody>\n",
       "</table>\n",
       "</div>"
      ],
      "text/plain": [
       "       Algorithm      Subtype  train_acc   val_acc  train_prec  val_prec  \\\n",
       "0  Random Forest           ER   0.864376  0.766304    0.885177  0.774022   \n",
       "1  Random Forest           ER   0.833635  0.760870    0.863883  0.818681   \n",
       "3  Random Forest         HER2   0.998192  0.809783    0.998196  0.719457   \n",
       "4  Random Forest  Mol Subtype   0.650995  0.663043    0.423794  0.439627   \n",
       "2  Random Forest           PR   1.000000  0.608696    1.000000  0.580901   \n",
       "\n",
       "   train_rec   val_rec  train_f1    val_f1  test_acc  test_prec  test_rec  \\\n",
       "0   0.864376  0.766304  0.844955  0.687481  0.708108   0.578258  0.708108   \n",
       "1   0.833635  0.760870  0.800809  0.667708  0.724324   0.666074  0.724324   \n",
       "3   0.998192  0.809783  0.998188  0.752703  0.837838   0.811504  0.837838   \n",
       "4   0.650995  0.663043  0.513380  0.528701  0.610811   0.373090  0.610811   \n",
       "2   1.000000  0.608696  1.000000  0.586249  0.605405   0.595324  0.605405   \n",
       "\n",
       "    test_f1  test_aucroc  \n",
       "0  0.609605     0.603453  \n",
       "1  0.627102     0.606234  \n",
       "3  0.777822     0.614788  \n",
       "4  0.463232          NaN  \n",
       "2  0.599538     0.595816  "
      ]
     },
     "execution_count": 27,
     "metadata": {},
     "output_type": "execute_result"
    }
   ],
   "source": [
    "classification_results.reset_index(drop = True, inplace = True)\n",
    "classification_results.sort_values(by = ['Subtype', 'Algorithm'])"
   ]
  },
  {
   "cell_type": "code",
   "execution_count": 28,
   "metadata": {},
   "outputs": [],
   "source": [
    "#classification_results.to_csv(\"Classification results /With feature scaling results for RF.csv\", index = False)"
   ]
  }
 ],
 "metadata": {
  "kernelspec": {
   "display_name": "Python 3.11.3 ('torchnew')",
   "language": "python",
   "name": "python3"
  },
  "language_info": {
   "codemirror_mode": {
    "name": "ipython",
    "version": 3
   },
   "file_extension": ".py",
   "mimetype": "text/x-python",
   "name": "python",
   "nbconvert_exporter": "python",
   "pygments_lexer": "ipython3",
   "version": "3.9.12"
  },
  "orig_nbformat": 4,
  "vscode": {
   "interpreter": {
    "hash": "aae2c75324e7fdf5ebd22146e2daffaa477f8ea149f0e685be4c317c2939a685"
   }
  }
 },
 "nbformat": 4,
 "nbformat_minor": 2
}
