{
 "cells": [
  {
   "cell_type": "code",
   "execution_count": 19,
   "metadata": {},
   "outputs": [
    {
     "name": "stdout",
     "output_type": "stream",
     "text": [
      "Requirement already satisfied: radiomics in c:\\programdata\\anaconda3\\envs\\mri_project\\lib\\site-packages (0.1)\n",
      "Requirement already satisfied: dicom_numpy in c:\\programdata\\anaconda3\\envs\\mri_project\\lib\\site-packages (0.6.5)\n",
      "Requirement already satisfied: pydicom in c:\\programdata\\anaconda3\\envs\\mri_project\\lib\\site-packages (2.4.1)\n",
      "Requirement already satisfied: plotly in c:\\programdata\\anaconda3\\envs\\mri_project\\lib\\site-packages (5.15.0)\n",
      "Requirement already satisfied: matplotlib in c:\\programdata\\anaconda3\\envs\\mri_project\\lib\\site-packages (3.5.3)\n",
      "Requirement already satisfied: scikit-image in c:\\programdata\\anaconda3\\envs\\mri_project\\lib\\site-packages (0.19.3)\n",
      "Requirement already satisfied: simpleITK in c:\\programdata\\anaconda3\\envs\\mri_project\\lib\\site-packages (2.2.1)\n",
      "Requirement already satisfied: pynrrd in c:\\programdata\\anaconda3\\envs\\mri_project\\lib\\site-packages (1.0.0)\n",
      "Requirement already satisfied: dicom2nifti in c:\\programdata\\anaconda3\\envs\\mri_project\\lib\\site-packages (2.4.8)\n",
      "Requirement already satisfied: NiBabel in c:\\programdata\\anaconda3\\envs\\mri_project\\lib\\site-packages (4.0.2)\n",
      "Requirement already satisfied: NiLearn in c:\\programdata\\anaconda3\\envs\\mri_project\\lib\\site-packages (0.10.1)\n",
      "Requirement already satisfied: openpyxl in c:\\programdata\\anaconda3\\envs\\mri_project\\lib\\site-packages (3.1.2)\n",
      "Collecting pydicom-seg\n",
      "  Downloading pydicom_seg-0.4.1-py3-none-any.whl (27 kB)\n",
      "Requirement already satisfied: numpy in c:\\programdata\\anaconda3\\envs\\mri_project\\lib\\site-packages (from radiomics) (1.21.5)\n",
      "Requirement already satisfied: PyWavelets in c:\\programdata\\anaconda3\\envs\\mri_project\\lib\\site-packages (from radiomics) (1.3.0)\n",
      "Requirement already satisfied: scipy in c:\\programdata\\anaconda3\\envs\\mri_project\\lib\\site-packages (from radiomics) (1.7.3)\n",
      "Requirement already satisfied: packaging in c:\\programdata\\anaconda3\\envs\\mri_project\\lib\\site-packages (from plotly) (23.1)\n",
      "Requirement already satisfied: tenacity>=6.2.0 in c:\\programdata\\anaconda3\\envs\\mri_project\\lib\\site-packages (from plotly) (8.2.2)\n",
      "Requirement already satisfied: python-dateutil>=2.7 in c:\\programdata\\anaconda3\\envs\\mri_project\\lib\\site-packages (from matplotlib) (2.8.2)\n",
      "Requirement already satisfied: pyparsing>=2.2.1 in c:\\programdata\\anaconda3\\envs\\mri_project\\lib\\site-packages (from matplotlib) (3.1.0)\n",
      "Requirement already satisfied: pillow>=6.2.0 in c:\\programdata\\anaconda3\\envs\\mri_project\\lib\\site-packages (from matplotlib) (9.5.0)\n",
      "Requirement already satisfied: fonttools>=4.22.0 in c:\\programdata\\anaconda3\\envs\\mri_project\\lib\\site-packages (from matplotlib) (4.38.0)\n",
      "Requirement already satisfied: cycler>=0.10 in c:\\programdata\\anaconda3\\envs\\mri_project\\lib\\site-packages (from matplotlib) (0.11.0)\n",
      "Requirement already satisfied: kiwisolver>=1.0.1 in c:\\programdata\\anaconda3\\envs\\mri_project\\lib\\site-packages (from matplotlib) (1.4.4)\n",
      "Requirement already satisfied: networkx>=2.2 in c:\\programdata\\anaconda3\\envs\\mri_project\\lib\\site-packages (from scikit-image) (2.6.3)\n",
      "Requirement already satisfied: tifffile>=2019.7.26 in c:\\programdata\\anaconda3\\envs\\mri_project\\lib\\site-packages (from scikit-image) (2021.11.2)\n",
      "Requirement already satisfied: imageio>=2.4.1 in c:\\programdata\\anaconda3\\envs\\mri_project\\lib\\site-packages (from scikit-image) (2.31.1)\n",
      "Requirement already satisfied: typing-extensions in c:\\programdata\\anaconda3\\envs\\mri_project\\lib\\site-packages (from pynrrd) (4.6.3)\n",
      "Requirement already satisfied: nptyping in c:\\programdata\\anaconda3\\envs\\mri_project\\lib\\site-packages (from pynrrd) (2.5.0)\n",
      "Requirement already satisfied: python-gdcm in c:\\programdata\\anaconda3\\envs\\mri_project\\lib\\site-packages (from dicom2nifti) (3.0.22)\n",
      "Requirement already satisfied: setuptools in c:\\programdata\\anaconda3\\envs\\mri_project\\lib\\site-packages (from NiBabel) (65.6.3)\n",
      "Requirement already satisfied: requests>=2.25.0 in c:\\programdata\\anaconda3\\envs\\mri_project\\lib\\site-packages (from NiLearn) (2.31.0)\n",
      "Requirement already satisfied: scikit-learn>=1.0.0 in c:\\programdata\\anaconda3\\envs\\mri_project\\lib\\site-packages (from NiLearn) (1.0.2)\n",
      "Requirement already satisfied: lxml in c:\\programdata\\anaconda3\\envs\\mri_project\\lib\\site-packages (from NiLearn) (4.9.3)\n",
      "Requirement already satisfied: joblib>=1.0.0 in c:\\programdata\\anaconda3\\envs\\mri_project\\lib\\site-packages (from NiLearn) (1.3.1)\n",
      "Requirement already satisfied: pandas>=1.1.5 in c:\\programdata\\anaconda3\\envs\\mri_project\\lib\\site-packages (from NiLearn) (1.3.5)\n",
      "Requirement already satisfied: et-xmlfile in c:\\programdata\\anaconda3\\envs\\mri_project\\lib\\site-packages (from openpyxl) (1.1.0)\n",
      "Collecting jsonschema<4.0.0,>=3.2.0\n",
      "  Using cached jsonschema-3.2.0-py2.py3-none-any.whl (56 kB)\n",
      "Collecting importlib-metadata\n",
      "  Downloading importlib_metadata-6.7.0-py3-none-any.whl (22 kB)\n",
      "Collecting pyrsistent>=0.14.0\n",
      "  Downloading pyrsistent-0.19.3-cp37-cp37m-win_amd64.whl (62 kB)\n",
      "     ---------------------------------------- 62.6/62.6 kB 3.3 MB/s eta 0:00:00\n",
      "Requirement already satisfied: six>=1.11.0 in c:\\programdata\\anaconda3\\envs\\mri_project\\lib\\site-packages (from jsonschema<4.0.0,>=3.2.0->pydicom-seg) (1.16.0)\n",
      "Collecting attrs>=17.4.0\n",
      "  Using cached attrs-23.1.0-py3-none-any.whl (61 kB)\n",
      "Requirement already satisfied: pytz>=2017.3 in c:\\programdata\\anaconda3\\envs\\mri_project\\lib\\site-packages (from pandas>=1.1.5->NiLearn) (2023.3)\n",
      "Requirement already satisfied: idna<4,>=2.5 in c:\\programdata\\anaconda3\\envs\\mri_project\\lib\\site-packages (from requests>=2.25.0->NiLearn) (3.4)\n",
      "Requirement already satisfied: certifi>=2017.4.17 in c:\\programdata\\anaconda3\\envs\\mri_project\\lib\\site-packages (from requests>=2.25.0->NiLearn) (2023.5.7)\n",
      "Requirement already satisfied: urllib3<3,>=1.21.1 in c:\\programdata\\anaconda3\\envs\\mri_project\\lib\\site-packages (from requests>=2.25.0->NiLearn) (2.0.3)\n",
      "Requirement already satisfied: charset-normalizer<4,>=2 in c:\\programdata\\anaconda3\\envs\\mri_project\\lib\\site-packages (from requests>=2.25.0->NiLearn) (3.1.0)\n",
      "Requirement already satisfied: threadpoolctl>=2.0.0 in c:\\programdata\\anaconda3\\envs\\mri_project\\lib\\site-packages (from scikit-learn>=1.0.0->NiLearn) (3.1.0)\n",
      "Collecting zipp>=0.5\n",
      "  Using cached zipp-3.15.0-py3-none-any.whl (6.8 kB)\n",
      "Installing collected packages: zipp, pyrsistent, importlib-metadata, attrs, jsonschema, pydicom-seg\n",
      "Successfully installed attrs-23.1.0 importlib-metadata-6.7.0 jsonschema-3.2.0 pydicom-seg-0.4.1 pyrsistent-0.19.3 zipp-3.15.0\n",
      "Note: you may need to restart the kernel to use updated packages.\n"
     ]
    }
   ],
   "source": [
    "%pip install radiomics dicom_numpy pydicom plotly matplotlib scikit-image simpleITK pynrrd dicom2nifti NiBabel NiLearn openpyxl pydicom-seg"
   ]
  },
  {
   "cell_type": "code",
   "execution_count": 23,
   "metadata": {},
   "outputs": [],
   "source": [
    "import pandas as pd\n",
    "import numpy as np\n",
    "import matplotlib.pyplot as plt\n",
    "\n",
    "import dicom_numpy\n",
    "import pydicom as dicom\n",
    "\n",
    "import dicom2nifti\n",
    "import nibabel as nib\n",
    "import nilearn as nil\n",
    "import scipy.ndimage as ndi\n",
    "import SimpleITK as sitk\n",
    "import os\n",
    "\n",
    "from tqdm import tqdm"
   ]
  },
  {
   "cell_type": "code",
   "execution_count": 22,
   "metadata": {},
   "outputs": [],
   "source": [
    "metadata = pd.read_csv(\"../../Dataset/Duke MRI/manifest-1654812109500/metadata.csv\")\n",
    "annotation_boxes = pd.read_excel(\"../../Dataset/Annotation_Boxes.xlsx\").set_index(\"Patient ID\")\n",
    "\n",
    "DATASET_PATH = '../../New Dataset/'\n",
    "SEGMENTED_DATASET_PATH = '../../Segmented Dataset/'"
   ]
  },
  {
   "cell_type": "code",
   "execution_count": 20,
   "metadata": {},
   "outputs": [
    {
     "data": {
      "text/plain": [
       "Start Row       234\n",
       "End Row         271\n",
       "Start Column    308\n",
       "End Column      341\n",
       "Start Slice      89\n",
       "End Slice       112\n",
       "Name: Breast_MRI_001, dtype: int64"
      ]
     },
     "execution_count": 20,
     "metadata": {},
     "output_type": "execute_result"
    }
   ],
   "source": [
    "annotation_boxes.loc['Breast_MRI_001']"
   ]
  },
  {
   "cell_type": "code",
   "execution_count": null,
   "metadata": {},
   "outputs": [],
   "source": [
    "annotation_boxes[]"
   ]
  },
  {
   "cell_type": "code",
   "execution_count": 31,
   "metadata": {},
   "outputs": [
    {
     "name": "stderr",
     "output_type": "stream",
     "text": [
      "100%|██████████| 922/922 [02:56<00:00,  5.21it/s]\n"
     ]
    }
   ],
   "source": [
    "for patient in tqdm(os.listdir(DATASET_PATH)):\n",
    "    pat_dir = os.path.join(DATASET_PATH, patient)\n",
    "    x = annotation_boxes.loc[patient]\n",
    "    row1 = x['Start Row']\n",
    "    row2 = x['End Row']\n",
    "\n",
    "    col1 = x['Start Column']\n",
    "    col2 = x['End Column']\n",
    "\n",
    "    slice1 = x['Start Slice']\n",
    "    slice2 = x['End Slice']\n",
    "    for nifti_file in os.listdir(pat_dir):\n",
    "        old_file_path = os.path.join(DATASET_PATH, patient)\n",
    "        new_file_path = os.path.join(SEGMENTED_DATASET_PATH, patient)\n",
    "\n",
    "        os.makedirs(new_file_path, 777, True)\n",
    "\n",
    "        nifti_path = os.path.join(old_file_path, nifti_file)\n",
    "        new_nifti_path = os.path.join(new_file_path, nifti_file)\n",
    "\n",
    "        nifti_img = nib.load(nifti_path)\n",
    "        img_vol = np.array(nifti_img.dataobj[row1:row2, col1:col2, slice1:slice2])\n",
    "        new_img = nib.Nifti1Image(img_vol, affine = nifti_img.affine)\n",
    "        nib.save(new_img, new_nifti_path)"
   ]
  },
  {
   "cell_type": "code",
   "execution_count": 26,
   "metadata": {},
   "outputs": [],
   "source": [
    "nifti_path = '../../New Dataset/Breast_MRI_001/11_ax_dyn_3rd_pass.nii.gz'"
   ]
  },
  {
   "cell_type": "code",
   "execution_count": 27,
   "metadata": {},
   "outputs": [],
   "source": [
    "nifti_img = nib.load(nifti_path)"
   ]
  },
  {
   "cell_type": "code",
   "execution_count": 28,
   "metadata": {},
   "outputs": [],
   "source": [
    "img_vol = np.array(nifti_img.dataobj)\n",
    "img_vol = img_vol[5:70, 70:90, 40:90]\n",
    "\n",
    "new_img = nib.Nifti1Image(img_vol, nifti_img.affine)"
   ]
  },
  {
   "cell_type": "code",
   "execution_count": 30,
   "metadata": {},
   "outputs": [
    {
     "data": {
      "text/plain": [
       "32"
      ]
     },
     "execution_count": 30,
     "metadata": {},
     "output_type": "execute_result"
    }
   ],
   "source": []
  },
  {
   "cell_type": "code",
   "execution_count": 10,
   "metadata": {},
   "outputs": [
    {
     "data": {
      "text/plain": [
       "(448, 448, 160)"
      ]
     },
     "execution_count": 10,
     "metadata": {},
     "output_type": "execute_result"
    }
   ],
   "source": [
    "nifti_img.get_fdata().shape"
   ]
  },
  {
   "cell_type": "code",
   "execution_count": 13,
   "metadata": {},
   "outputs": [],
   "source": [
    "x = sitk.ReadImage(nifti_path)"
   ]
  },
  {
   "cell_type": "code",
   "execution_count": null,
   "metadata": {},
   "outputs": [],
   "source": [
    "x."
   ]
  },
  {
   "cell_type": "code",
   "execution_count": 8,
   "metadata": {},
   "outputs": [
    {
     "ename": "TypeError",
     "evalue": "check_slicing() missing 2 required positional arguments: 'self' and 'slicer'",
     "output_type": "error",
     "traceback": [
      "\u001b[1;31m---------------------------------------------------------------------------\u001b[0m",
      "\u001b[1;31mTypeError\u001b[0m                                 Traceback (most recent call last)",
      "\u001b[1;32m~\\AppData\\Local\\Temp\\ipykernel_13844\\1959992894.py\u001b[0m in \u001b[0;36m<module>\u001b[1;34m\u001b[0m\n\u001b[1;32m----> 1\u001b[1;33m \u001b[0mnifti_img\u001b[0m\u001b[1;33m.\u001b[0m\u001b[0mImageSlicer\u001b[0m\u001b[1;33m.\u001b[0m\u001b[0mcheck_slicing\u001b[0m\u001b[1;33m(\u001b[0m\u001b[1;33m)\u001b[0m\u001b[1;33m\u001b[0m\u001b[1;33m\u001b[0m\u001b[0m\n\u001b[0m",
      "\u001b[1;31mTypeError\u001b[0m: check_slicing() missing 2 required positional arguments: 'self' and 'slicer'"
     ]
    }
   ],
   "source": [
    "nifti_img.ImageSlicer.check_slicing()"
   ]
  }
 ],
 "metadata": {
  "kernelspec": {
   "display_name": "Python 3.7.16 ('mri_project')",
   "language": "python",
   "name": "python3"
  },
  "language_info": {
   "codemirror_mode": {
    "name": "ipython",
    "version": 3
   },
   "file_extension": ".py",
   "mimetype": "text/x-python",
   "name": "python",
   "nbconvert_exporter": "python",
   "pygments_lexer": "ipython3",
   "version": "3.7.16"
  },
  "orig_nbformat": 4,
  "vscode": {
   "interpreter": {
    "hash": "46a30f71ba13f968ce13e2ff6d1c210f2ffd70fd7dc0256e6c75b999f7c20949"
   }
  }
 },
 "nbformat": 4,
 "nbformat_minor": 2
}
