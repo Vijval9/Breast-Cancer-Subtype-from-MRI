{
 "cells": [
  {
   "cell_type": "code",
   "execution_count": 1,
   "metadata": {},
   "outputs": [
    {
     "name": "stdout",
     "output_type": "stream",
     "text": [
      "Requirement already satisfied: pyradiomics in c:\\programdata\\anaconda3\\envs\\mri_project\\lib\\site-packages (3.1.0)\n",
      "Requirement already satisfied: dicom_numpy in c:\\programdata\\anaconda3\\envs\\mri_project\\lib\\site-packages (0.6.5)\n",
      "Requirement already satisfied: pydicom in c:\\programdata\\anaconda3\\envs\\mri_project\\lib\\site-packages (2.4.1)\n",
      "Requirement already satisfied: plotly in c:\\programdata\\anaconda3\\envs\\mri_project\\lib\\site-packages (5.15.0)\n",
      "Requirement already satisfied: matplotlib in c:\\programdata\\anaconda3\\envs\\mri_project\\lib\\site-packages (3.5.3)\n",
      "Requirement already satisfied: scikit-image in c:\\programdata\\anaconda3\\envs\\mri_project\\lib\\site-packages (0.19.3)\n",
      "Requirement already satisfied: simpleITK in c:\\programdata\\anaconda3\\envs\\mri_project\\lib\\site-packages (2.2.1)\n",
      "Requirement already satisfied: pynrrd in c:\\programdata\\anaconda3\\envs\\mri_project\\lib\\site-packages (1.0.0)\n",
      "Requirement already satisfied: dicom2nifti in c:\\programdata\\anaconda3\\envs\\mri_project\\lib\\site-packages (2.4.8)\n",
      "Requirement already satisfied: NiBabel in c:\\programdata\\anaconda3\\envs\\mri_project\\lib\\site-packages (4.0.2)\n",
      "Requirement already satisfied: NiLearn in c:\\programdata\\anaconda3\\envs\\mri_project\\lib\\site-packages (0.10.1)\n",
      "Requirement already satisfied: openpyxl in c:\\programdata\\anaconda3\\envs\\mri_project\\lib\\site-packages (3.1.2)\n",
      "Requirement already satisfied: pydicom-seg in c:\\programdata\\anaconda3\\envs\\mri_project\\lib\\site-packages (0.4.1)\n",
      "Requirement already satisfied: itkwidgets in c:\\programdata\\anaconda3\\envs\\mri_project\\lib\\site-packages (0.32.6)\n",
      "Requirement already satisfied: six in c:\\programdata\\anaconda3\\envs\\mri_project\\lib\\site-packages (from pyradiomics) (1.16.0)\n",
      "Requirement already satisfied: PyWavelets in c:\\programdata\\anaconda3\\envs\\mri_project\\lib\\site-packages (from pyradiomics) (1.3.0)\n",
      "Requirement already satisfied: pykwalify in c:\\programdata\\anaconda3\\envs\\mri_project\\lib\\site-packages (from pyradiomics) (1.8.0)\n",
      "Requirement already satisfied: numpy in c:\\programdata\\anaconda3\\envs\\mri_project\\lib\\site-packages (from pyradiomics) (1.21.5)\n",
      "Requirement already satisfied: tenacity>=6.2.0 in c:\\programdata\\anaconda3\\envs\\mri_project\\lib\\site-packages (from plotly) (8.2.2)\n",
      "Requirement already satisfied: packaging in c:\\programdata\\anaconda3\\envs\\mri_project\\lib\\site-packages (from plotly) (23.1)\n",
      "Requirement already satisfied: pillow>=6.2.0 in c:\\programdata\\anaconda3\\envs\\mri_project\\lib\\site-packages (from matplotlib) (9.5.0)\n",
      "Requirement already satisfied: python-dateutil>=2.7 in c:\\programdata\\anaconda3\\envs\\mri_project\\lib\\site-packages (from matplotlib) (2.8.2)\n",
      "Requirement already satisfied: fonttools>=4.22.0 in c:\\programdata\\anaconda3\\envs\\mri_project\\lib\\site-packages (from matplotlib) (4.38.0)\n",
      "Requirement already satisfied: kiwisolver>=1.0.1 in c:\\programdata\\anaconda3\\envs\\mri_project\\lib\\site-packages (from matplotlib) (1.4.4)\n",
      "Requirement already satisfied: pyparsing>=2.2.1 in c:\\programdata\\anaconda3\\envs\\mri_project\\lib\\site-packages (from matplotlib) (3.1.0)\n",
      "Requirement already satisfied: cycler>=0.10 in c:\\programdata\\anaconda3\\envs\\mri_project\\lib\\site-packages (from matplotlib) (0.11.0)\n",
      "Requirement already satisfied: networkx>=2.2 in c:\\programdata\\anaconda3\\envs\\mri_project\\lib\\site-packages (from scikit-image) (2.6.3)\n",
      "Requirement already satisfied: imageio>=2.4.1 in c:\\programdata\\anaconda3\\envs\\mri_project\\lib\\site-packages (from scikit-image) (2.31.1)\n",
      "Requirement already satisfied: tifffile>=2019.7.26 in c:\\programdata\\anaconda3\\envs\\mri_project\\lib\\site-packages (from scikit-image) (2021.11.2)\n",
      "Requirement already satisfied: scipy>=1.4.1 in c:\\programdata\\anaconda3\\envs\\mri_project\\lib\\site-packages (from scikit-image) (1.7.3)\n",
      "Requirement already satisfied: nptyping in c:\\programdata\\anaconda3\\envs\\mri_project\\lib\\site-packages (from pynrrd) (2.5.0)\n",
      "Requirement already satisfied: typing-extensions in c:\\programdata\\anaconda3\\envs\\mri_project\\lib\\site-packages (from pynrrd) (4.6.3)\n",
      "Requirement already satisfied: python-gdcm in c:\\programdata\\anaconda3\\envs\\mri_project\\lib\\site-packages (from dicom2nifti) (3.0.22)\n",
      "Requirement already satisfied: setuptools in c:\\programdata\\anaconda3\\envs\\mri_project\\lib\\site-packages (from NiBabel) (65.6.3)\n",
      "Requirement already satisfied: pandas>=1.1.5 in c:\\programdata\\anaconda3\\envs\\mri_project\\lib\\site-packages (from NiLearn) (1.3.5)\n",
      "Requirement already satisfied: requests>=2.25.0 in c:\\programdata\\anaconda3\\envs\\mri_project\\lib\\site-packages (from NiLearn) (2.31.0)\n",
      "Requirement already satisfied: lxml in c:\\programdata\\anaconda3\\envs\\mri_project\\lib\\site-packages (from NiLearn) (4.9.3)\n",
      "Requirement already satisfied: scikit-learn>=1.0.0 in c:\\programdata\\anaconda3\\envs\\mri_project\\lib\\site-packages (from NiLearn) (1.0.2)\n",
      "Requirement already satisfied: joblib>=1.0.0 in c:\\programdata\\anaconda3\\envs\\mri_project\\lib\\site-packages (from NiLearn) (1.3.1)\n",
      "Requirement already satisfied: et-xmlfile in c:\\programdata\\anaconda3\\envs\\mri_project\\lib\\site-packages (from openpyxl) (1.1.0)\n",
      "Requirement already satisfied: jsonschema<4.0.0,>=3.2.0 in c:\\programdata\\anaconda3\\envs\\mri_project\\lib\\site-packages (from pydicom-seg) (3.2.0)\n",
      "Requirement already satisfied: itk-core>=5.3.0 in c:\\programdata\\anaconda3\\envs\\mri_project\\lib\\site-packages (from itkwidgets) (5.3.0)\n",
      "Requirement already satisfied: notebook<6.5.0 in c:\\programdata\\anaconda3\\envs\\mri_project\\lib\\site-packages (from itkwidgets) (6.4.12)\n",
      "Requirement already satisfied: colorcet in c:\\programdata\\anaconda3\\envs\\mri_project\\lib\\site-packages (from itkwidgets) (3.0.1)\n",
      "Requirement already satisfied: traitlets<5.7.0 in c:\\programdata\\anaconda3\\envs\\mri_project\\lib\\site-packages (from itkwidgets) (5.6.0)\n",
      "Requirement already satisfied: ipywidgets>=7.5.1 in c:\\programdata\\anaconda3\\envs\\mri_project\\lib\\site-packages (from itkwidgets) (7.8.0)\n",
      "Requirement already satisfied: itk-meshtopolydata>=0.10 in c:\\programdata\\anaconda3\\envs\\mri_project\\lib\\site-packages (from itkwidgets) (0.10.0)\n",
      "Requirement already satisfied: zstandard in c:\\programdata\\anaconda3\\envs\\mri_project\\lib\\site-packages (from itkwidgets) (0.18.0)\n",
      "Requirement already satisfied: ipympl>=0.4.1 in c:\\programdata\\anaconda3\\envs\\mri_project\\lib\\site-packages (from itkwidgets) (0.9.3)\n",
      "Requirement already satisfied: itk-numerics>=5.3.0 in c:\\programdata\\anaconda3\\envs\\mri_project\\lib\\site-packages (from itkwidgets) (5.3.0)\n",
      "Requirement already satisfied: ipydatawidgets<4.3.3,>=4.0.1 in c:\\programdata\\anaconda3\\envs\\mri_project\\lib\\site-packages (from itkwidgets) (4.3.2)\n",
      "Requirement already satisfied: itk-filtering>=5.3.0 in c:\\programdata\\anaconda3\\envs\\mri_project\\lib\\site-packages (from itkwidgets) (5.3.0)\n",
      "Requirement already satisfied: traittypes>=0.2.0 in c:\\programdata\\anaconda3\\envs\\mri_project\\lib\\site-packages (from ipydatawidgets<4.3.3,>=4.0.1->itkwidgets) (0.2.1)\n",
      "Requirement already satisfied: ipython<9 in c:\\programdata\\anaconda3\\envs\\mri_project\\lib\\site-packages (from ipympl>=0.4.1->itkwidgets) (7.34.0)\n",
      "Requirement already satisfied: ipython-genutils in c:\\programdata\\anaconda3\\envs\\mri_project\\lib\\site-packages (from ipympl>=0.4.1->itkwidgets) (0.2.0)\n",
      "Requirement already satisfied: comm>=0.1.3 in c:\\programdata\\anaconda3\\envs\\mri_project\\lib\\site-packages (from ipywidgets>=7.5.1->itkwidgets) (0.1.3)\n",
      "Requirement already satisfied: jupyterlab-widgets<3,>=1.0.0 in c:\\programdata\\anaconda3\\envs\\mri_project\\lib\\site-packages (from ipywidgets>=7.5.1->itkwidgets) (1.1.5)\n",
      "Requirement already satisfied: widgetsnbextension~=3.6.5 in c:\\programdata\\anaconda3\\envs\\mri_project\\lib\\site-packages (from ipywidgets>=7.5.1->itkwidgets) (3.6.5)\n",
      "Requirement already satisfied: attrs>=17.4.0 in c:\\programdata\\anaconda3\\envs\\mri_project\\lib\\site-packages (from jsonschema<4.0.0,>=3.2.0->pydicom-seg) (23.1.0)\n",
      "Requirement already satisfied: importlib-metadata in c:\\programdata\\anaconda3\\envs\\mri_project\\lib\\site-packages (from jsonschema<4.0.0,>=3.2.0->pydicom-seg) (6.7.0)\n",
      "Requirement already satisfied: pyrsistent>=0.14.0 in c:\\programdata\\anaconda3\\envs\\mri_project\\lib\\site-packages (from jsonschema<4.0.0,>=3.2.0->pydicom-seg) (0.19.3)\n",
      "Requirement already satisfied: jupyter-core>=4.6.1 in c:\\programdata\\anaconda3\\envs\\mri_project\\lib\\site-packages (from notebook<6.5.0->itkwidgets) (4.12.0)\n",
      "Requirement already satisfied: nbformat in c:\\programdata\\anaconda3\\envs\\mri_project\\lib\\site-packages (from notebook<6.5.0->itkwidgets) (5.8.0)\n",
      "Requirement already satisfied: prometheus-client in c:\\programdata\\anaconda3\\envs\\mri_project\\lib\\site-packages (from notebook<6.5.0->itkwidgets) (0.17.1)\n",
      "Requirement already satisfied: argon2-cffi in c:\\programdata\\anaconda3\\envs\\mri_project\\lib\\site-packages (from notebook<6.5.0->itkwidgets) (21.3.0)\n",
      "Requirement already satisfied: pyzmq>=17 in c:\\programdata\\anaconda3\\envs\\mri_project\\lib\\site-packages (from notebook<6.5.0->itkwidgets) (25.1.0)\n",
      "Requirement already satisfied: nest-asyncio>=1.5 in c:\\programdata\\anaconda3\\envs\\mri_project\\lib\\site-packages (from notebook<6.5.0->itkwidgets) (1.5.6)\n",
      "Requirement already satisfied: jinja2 in c:\\programdata\\anaconda3\\envs\\mri_project\\lib\\site-packages (from notebook<6.5.0->itkwidgets) (3.1.2)\n",
      "Requirement already satisfied: ipykernel in c:\\programdata\\anaconda3\\envs\\mri_project\\lib\\site-packages (from notebook<6.5.0->itkwidgets) (6.16.2)\n",
      "Requirement already satisfied: tornado>=6.1 in c:\\programdata\\anaconda3\\envs\\mri_project\\lib\\site-packages (from notebook<6.5.0->itkwidgets) (6.2)\n",
      "Requirement already satisfied: nbconvert>=5 in c:\\programdata\\anaconda3\\envs\\mri_project\\lib\\site-packages (from notebook<6.5.0->itkwidgets) (7.6.0)\n",
      "Requirement already satisfied: Send2Trash>=1.8.0 in c:\\programdata\\anaconda3\\envs\\mri_project\\lib\\site-packages (from notebook<6.5.0->itkwidgets) (1.8.2)\n",
      "Requirement already satisfied: jupyter-client>=5.3.4 in c:\\programdata\\anaconda3\\envs\\mri_project\\lib\\site-packages (from notebook<6.5.0->itkwidgets) (7.4.9)\n",
      "Requirement already satisfied: terminado>=0.8.3 in c:\\programdata\\anaconda3\\envs\\mri_project\\lib\\site-packages (from notebook<6.5.0->itkwidgets) (0.17.1)\n",
      "Requirement already satisfied: pytz>=2017.3 in c:\\programdata\\anaconda3\\envs\\mri_project\\lib\\site-packages (from pandas>=1.1.5->NiLearn) (2023.3)\n",
      "Requirement already satisfied: idna<4,>=2.5 in c:\\programdata\\anaconda3\\envs\\mri_project\\lib\\site-packages (from requests>=2.25.0->NiLearn) (3.4)\n",
      "Requirement already satisfied: urllib3<3,>=1.21.1 in c:\\programdata\\anaconda3\\envs\\mri_project\\lib\\site-packages (from requests>=2.25.0->NiLearn) (2.0.3)\n",
      "Requirement already satisfied: charset-normalizer<4,>=2 in c:\\programdata\\anaconda3\\envs\\mri_project\\lib\\site-packages (from requests>=2.25.0->NiLearn) (3.1.0)\n",
      "Requirement already satisfied: certifi>=2017.4.17 in c:\\programdata\\anaconda3\\envs\\mri_project\\lib\\site-packages (from requests>=2.25.0->NiLearn) (2023.5.7)\n",
      "Requirement already satisfied: threadpoolctl>=2.0.0 in c:\\programdata\\anaconda3\\envs\\mri_project\\lib\\site-packages (from scikit-learn>=1.0.0->NiLearn) (3.1.0)\n",
      "Requirement already satisfied: pyct>=0.4.4 in c:\\programdata\\anaconda3\\envs\\mri_project\\lib\\site-packages (from colorcet->itkwidgets) (0.5.0)\n",
      "Requirement already satisfied: docopt>=0.6.2 in c:\\programdata\\anaconda3\\envs\\mri_project\\lib\\site-packages (from pykwalify->pyradiomics) (0.6.2)\n",
      "Requirement already satisfied: ruamel.yaml>=0.16.0 in c:\\programdata\\anaconda3\\envs\\mri_project\\lib\\site-packages (from pykwalify->pyradiomics) (0.17.32)\n",
      "Requirement already satisfied: colorama in c:\\programdata\\anaconda3\\envs\\mri_project\\lib\\site-packages (from ipython<9->ipympl>=0.4.1->itkwidgets) (0.4.6)\n",
      "Requirement already satisfied: pygments in c:\\programdata\\anaconda3\\envs\\mri_project\\lib\\site-packages (from ipython<9->ipympl>=0.4.1->itkwidgets) (2.15.1)\n",
      "Requirement already satisfied: matplotlib-inline in c:\\programdata\\anaconda3\\envs\\mri_project\\lib\\site-packages (from ipython<9->ipympl>=0.4.1->itkwidgets) (0.1.6)\n",
      "Requirement already satisfied: pickleshare in c:\\programdata\\anaconda3\\envs\\mri_project\\lib\\site-packages (from ipython<9->ipympl>=0.4.1->itkwidgets) (0.7.5)\n",
      "Requirement already satisfied: prompt-toolkit!=3.0.0,!=3.0.1,<3.1.0,>=2.0.0 in c:\\programdata\\anaconda3\\envs\\mri_project\\lib\\site-packages (from ipython<9->ipympl>=0.4.1->itkwidgets) (3.0.38)\n",
      "Requirement already satisfied: jedi>=0.16 in c:\\programdata\\anaconda3\\envs\\mri_project\\lib\\site-packages (from ipython<9->ipympl>=0.4.1->itkwidgets) (0.18.2)\n",
      "Requirement already satisfied: backcall in c:\\programdata\\anaconda3\\envs\\mri_project\\lib\\site-packages (from ipython<9->ipympl>=0.4.1->itkwidgets) (0.2.0)\n",
      "Requirement already satisfied: decorator in c:\\programdata\\anaconda3\\envs\\mri_project\\lib\\site-packages (from ipython<9->ipympl>=0.4.1->itkwidgets) (5.1.1)\n",
      "Requirement already satisfied: entrypoints in c:\\programdata\\anaconda3\\envs\\mri_project\\lib\\site-packages (from jupyter-client>=5.3.4->notebook<6.5.0->itkwidgets) (0.4)\n",
      "Requirement already satisfied: pywin32>=1.0 in c:\\programdata\\anaconda3\\envs\\mri_project\\lib\\site-packages (from jupyter-core>=4.6.1->notebook<6.5.0->itkwidgets) (306)\n",
      "Requirement already satisfied: nbclient>=0.5.0 in c:\\programdata\\anaconda3\\envs\\mri_project\\lib\\site-packages (from nbconvert>=5->notebook<6.5.0->itkwidgets) (0.7.4)\n",
      "Requirement already satisfied: pandocfilters>=1.4.1 in c:\\programdata\\anaconda3\\envs\\mri_project\\lib\\site-packages (from nbconvert>=5->notebook<6.5.0->itkwidgets) (1.5.0)\n",
      "Requirement already satisfied: mistune<4,>=2.0.3 in c:\\programdata\\anaconda3\\envs\\mri_project\\lib\\site-packages (from nbconvert>=5->notebook<6.5.0->itkwidgets) (3.0.1)\n",
      "Requirement already satisfied: tinycss2 in c:\\programdata\\anaconda3\\envs\\mri_project\\lib\\site-packages (from nbconvert>=5->notebook<6.5.0->itkwidgets) (1.2.1)\n",
      "Requirement already satisfied: beautifulsoup4 in c:\\programdata\\anaconda3\\envs\\mri_project\\lib\\site-packages (from nbconvert>=5->notebook<6.5.0->itkwidgets) (4.12.2)\n",
      "Requirement already satisfied: defusedxml in c:\\programdata\\anaconda3\\envs\\mri_project\\lib\\site-packages (from nbconvert>=5->notebook<6.5.0->itkwidgets) (0.7.1)\n",
      "Requirement already satisfied: bleach!=5.0.0 in c:\\programdata\\anaconda3\\envs\\mri_project\\lib\\site-packages (from nbconvert>=5->notebook<6.5.0->itkwidgets) (6.0.0)\n",
      "Requirement already satisfied: jupyterlab-pygments in c:\\programdata\\anaconda3\\envs\\mri_project\\lib\\site-packages (from nbconvert>=5->notebook<6.5.0->itkwidgets) (0.2.2)\n",
      "Requirement already satisfied: markupsafe>=2.0 in c:\\programdata\\anaconda3\\envs\\mri_project\\lib\\site-packages (from nbconvert>=5->notebook<6.5.0->itkwidgets) (2.1.3)\n",
      "Requirement already satisfied: zipp>=0.5 in c:\\programdata\\anaconda3\\envs\\mri_project\\lib\\site-packages (from importlib-metadata->jsonschema<4.0.0,>=3.2.0->pydicom-seg) (3.15.0)\n",
      "Requirement already satisfied: fastjsonschema in c:\\programdata\\anaconda3\\envs\\mri_project\\lib\\site-packages (from nbformat->notebook<6.5.0->itkwidgets) (2.18.0)\n",
      "Requirement already satisfied: param>=1.7.0 in c:\\programdata\\anaconda3\\envs\\mri_project\\lib\\site-packages (from pyct>=0.4.4->colorcet->itkwidgets) (1.13.0)\n",
      "Requirement already satisfied: ruamel.yaml.clib>=0.2.7 in c:\\programdata\\anaconda3\\envs\\mri_project\\lib\\site-packages (from ruamel.yaml>=0.16.0->pykwalify->pyradiomics) (0.2.7)\n",
      "Requirement already satisfied: pywinpty>=1.1.0 in c:\\programdata\\anaconda3\\envs\\mri_project\\lib\\site-packages (from terminado>=0.8.3->notebook<6.5.0->itkwidgets) (2.0.10)\n",
      "Requirement already satisfied: argon2-cffi-bindings in c:\\programdata\\anaconda3\\envs\\mri_project\\lib\\site-packages (from argon2-cffi->notebook<6.5.0->itkwidgets) (21.2.0)\n",
      "Requirement already satisfied: psutil in c:\\programdata\\anaconda3\\envs\\mri_project\\lib\\site-packages (from ipykernel->notebook<6.5.0->itkwidgets) (5.9.5)\n",
      "Requirement already satisfied: debugpy>=1.0 in c:\\programdata\\anaconda3\\envs\\mri_project\\lib\\site-packages (from ipykernel->notebook<6.5.0->itkwidgets) (1.6.7)\n",
      "Requirement already satisfied: webencodings in c:\\programdata\\anaconda3\\envs\\mri_project\\lib\\site-packages (from bleach!=5.0.0->nbconvert>=5->notebook<6.5.0->itkwidgets) (0.5.1)\n",
      "Requirement already satisfied: parso<0.9.0,>=0.8.0 in c:\\programdata\\anaconda3\\envs\\mri_project\\lib\\site-packages (from jedi>=0.16->ipython<9->ipympl>=0.4.1->itkwidgets) (0.8.3)\n",
      "Requirement already satisfied: wcwidth in c:\\programdata\\anaconda3\\envs\\mri_project\\lib\\site-packages (from prompt-toolkit!=3.0.0,!=3.0.1,<3.1.0,>=2.0.0->ipython<9->ipympl>=0.4.1->itkwidgets) (0.2.6)\n",
      "Requirement already satisfied: cffi>=1.0.1 in c:\\programdata\\anaconda3\\envs\\mri_project\\lib\\site-packages (from argon2-cffi-bindings->argon2-cffi->notebook<6.5.0->itkwidgets) (1.15.1)\n",
      "Requirement already satisfied: soupsieve>1.2 in c:\\programdata\\anaconda3\\envs\\mri_project\\lib\\site-packages (from beautifulsoup4->nbconvert>=5->notebook<6.5.0->itkwidgets) (2.4.1)\n",
      "Requirement already satisfied: pycparser in c:\\programdata\\anaconda3\\envs\\mri_project\\lib\\site-packages (from cffi>=1.0.1->argon2-cffi-bindings->argon2-cffi->notebook<6.5.0->itkwidgets) (2.21)\n",
      "Note: you may need to restart the kernel to use updated packages.\n"
     ]
    }
   ],
   "source": [
    "%pip install pyradiomics dicom_numpy pydicom plotly matplotlib scikit-image simpleITK pynrrd dicom2nifti NiBabel NiLearn openpyxl pydicom-seg itkwidgets"
   ]
  },
  {
   "cell_type": "code",
   "execution_count": 2,
   "metadata": {},
   "outputs": [
    {
     "name": "stderr",
     "output_type": "stream",
     "text": [
      "c:\\ProgramData\\Anaconda3\\envs\\mri_project\\lib\\site-packages\\nilearn\\__init__.py:67: FutureWarning: Python 3.7 support is deprecated and will be removed in release 0.12 of Nilearn. Consider switching to Python 3.9 or 3.10.\n",
      "  _python_deprecation_warnings()\n"
     ]
    }
   ],
   "source": [
    "import pandas as pd\n",
    "import numpy as np\n",
    "import matplotlib.pyplot as plt\n",
    "\n",
    "import dicom_numpy\n",
    "import pydicom as dicom\n",
    "\n",
    "import dicom2nifti\n",
    "import nibabel as nib\n",
    "import nilearn as nil\n",
    "import scipy.ndimage as ndi\n",
    "import SimpleITK as sitk\n",
    "import os\n",
    "\n",
    "from radiomics import featureextractor\n",
    "\n",
    "from tqdm import tqdm\n",
    "import itertools\n",
    "from functools import wraps"
   ]
  },
  {
   "cell_type": "code",
   "execution_count": 3,
   "metadata": {},
   "outputs": [],
   "source": [
    "annotation_boxes = pd.read_excel(\"../../Simple Path Dataset/Annotation_Boxes.xlsx\").set_index(\"Patient ID\")\n",
    "\n",
    "DATASET_PATH = '../../New Dataset/'\n",
    "# SEGMENTED_DATASET_PATH = '../../Segmented Dataset/'"
   ]
  },
  {
   "cell_type": "code",
   "execution_count": 4,
   "metadata": {},
   "outputs": [
    {
     "data": {
      "text/html": [
       "<div>\n",
       "<style scoped>\n",
       "    .dataframe tbody tr th:only-of-type {\n",
       "        vertical-align: middle;\n",
       "    }\n",
       "\n",
       "    .dataframe tbody tr th {\n",
       "        vertical-align: top;\n",
       "    }\n",
       "\n",
       "    .dataframe thead th {\n",
       "        text-align: right;\n",
       "    }\n",
       "</style>\n",
       "<table border=\"1\" class=\"dataframe\">\n",
       "  <thead>\n",
       "    <tr style=\"text-align: right;\">\n",
       "      <th></th>\n",
       "      <th>Start Row</th>\n",
       "      <th>End Row</th>\n",
       "      <th>Start Column</th>\n",
       "      <th>End Column</th>\n",
       "      <th>Start Slice</th>\n",
       "      <th>End Slice</th>\n",
       "    </tr>\n",
       "    <tr>\n",
       "      <th>Patient ID</th>\n",
       "      <th></th>\n",
       "      <th></th>\n",
       "      <th></th>\n",
       "      <th></th>\n",
       "      <th></th>\n",
       "      <th></th>\n",
       "    </tr>\n",
       "  </thead>\n",
       "  <tbody>\n",
       "    <tr>\n",
       "      <th>Breast_MRI_001</th>\n",
       "      <td>234</td>\n",
       "      <td>271</td>\n",
       "      <td>308</td>\n",
       "      <td>341</td>\n",
       "      <td>89</td>\n",
       "      <td>112</td>\n",
       "    </tr>\n",
       "    <tr>\n",
       "      <th>Breast_MRI_002</th>\n",
       "      <td>251</td>\n",
       "      <td>294</td>\n",
       "      <td>108</td>\n",
       "      <td>136</td>\n",
       "      <td>59</td>\n",
       "      <td>72</td>\n",
       "    </tr>\n",
       "    <tr>\n",
       "      <th>Breast_MRI_003</th>\n",
       "      <td>351</td>\n",
       "      <td>412</td>\n",
       "      <td>82</td>\n",
       "      <td>139</td>\n",
       "      <td>96</td>\n",
       "      <td>108</td>\n",
       "    </tr>\n",
       "    <tr>\n",
       "      <th>Breast_MRI_004</th>\n",
       "      <td>262</td>\n",
       "      <td>280</td>\n",
       "      <td>193</td>\n",
       "      <td>204</td>\n",
       "      <td>86</td>\n",
       "      <td>95</td>\n",
       "    </tr>\n",
       "    <tr>\n",
       "      <th>Breast_MRI_005</th>\n",
       "      <td>188</td>\n",
       "      <td>213</td>\n",
       "      <td>138</td>\n",
       "      <td>178</td>\n",
       "      <td>76</td>\n",
       "      <td>122</td>\n",
       "    </tr>\n",
       "    <tr>\n",
       "      <th>...</th>\n",
       "      <td>...</td>\n",
       "      <td>...</td>\n",
       "      <td>...</td>\n",
       "      <td>...</td>\n",
       "      <td>...</td>\n",
       "      <td>...</td>\n",
       "    </tr>\n",
       "    <tr>\n",
       "      <th>Breast_MRI_918</th>\n",
       "      <td>345</td>\n",
       "      <td>395</td>\n",
       "      <td>338</td>\n",
       "      <td>395</td>\n",
       "      <td>62</td>\n",
       "      <td>85</td>\n",
       "    </tr>\n",
       "    <tr>\n",
       "      <th>Breast_MRI_919</th>\n",
       "      <td>285</td>\n",
       "      <td>312</td>\n",
       "      <td>369</td>\n",
       "      <td>397</td>\n",
       "      <td>98</td>\n",
       "      <td>109</td>\n",
       "    </tr>\n",
       "    <tr>\n",
       "      <th>Breast_MRI_920</th>\n",
       "      <td>172</td>\n",
       "      <td>193</td>\n",
       "      <td>337</td>\n",
       "      <td>355</td>\n",
       "      <td>87</td>\n",
       "      <td>101</td>\n",
       "    </tr>\n",
       "    <tr>\n",
       "      <th>Breast_MRI_921</th>\n",
       "      <td>328</td>\n",
       "      <td>374</td>\n",
       "      <td>404</td>\n",
       "      <td>446</td>\n",
       "      <td>97</td>\n",
       "      <td>121</td>\n",
       "    </tr>\n",
       "    <tr>\n",
       "      <th>Breast_MRI_922</th>\n",
       "      <td>258</td>\n",
       "      <td>270</td>\n",
       "      <td>149</td>\n",
       "      <td>164</td>\n",
       "      <td>82</td>\n",
       "      <td>92</td>\n",
       "    </tr>\n",
       "  </tbody>\n",
       "</table>\n",
       "<p>922 rows × 6 columns</p>\n",
       "</div>"
      ],
      "text/plain": [
       "                Start Row  End Row  Start Column  End Column  Start Slice  \\\n",
       "Patient ID                                                                  \n",
       "Breast_MRI_001        234      271           308         341           89   \n",
       "Breast_MRI_002        251      294           108         136           59   \n",
       "Breast_MRI_003        351      412            82         139           96   \n",
       "Breast_MRI_004        262      280           193         204           86   \n",
       "Breast_MRI_005        188      213           138         178           76   \n",
       "...                   ...      ...           ...         ...          ...   \n",
       "Breast_MRI_918        345      395           338         395           62   \n",
       "Breast_MRI_919        285      312           369         397           98   \n",
       "Breast_MRI_920        172      193           337         355           87   \n",
       "Breast_MRI_921        328      374           404         446           97   \n",
       "Breast_MRI_922        258      270           149         164           82   \n",
       "\n",
       "                End Slice  \n",
       "Patient ID                 \n",
       "Breast_MRI_001        112  \n",
       "Breast_MRI_002         72  \n",
       "Breast_MRI_003        108  \n",
       "Breast_MRI_004         95  \n",
       "Breast_MRI_005        122  \n",
       "...                   ...  \n",
       "Breast_MRI_918         85  \n",
       "Breast_MRI_919        109  \n",
       "Breast_MRI_920        101  \n",
       "Breast_MRI_921        121  \n",
       "Breast_MRI_922         92  \n",
       "\n",
       "[922 rows x 6 columns]"
      ]
     },
     "execution_count": 4,
     "metadata": {},
     "output_type": "execute_result"
    }
   ],
   "source": [
    "annotation_boxes"
   ]
  },
  {
   "cell_type": "code",
   "execution_count": 5,
   "metadata": {},
   "outputs": [
    {
     "data": {
      "text/plain": [
       "Start Row       234\n",
       "End Row         271\n",
       "Start Column    308\n",
       "End Column      341\n",
       "Start Slice      89\n",
       "End Slice       112\n",
       "Name: Breast_MRI_001, dtype: int64"
      ]
     },
     "execution_count": 5,
     "metadata": {},
     "output_type": "execute_result"
    }
   ],
   "source": [
    "annotation_boxes.loc['Breast_MRI_001']"
   ]
  },
  {
   "cell_type": "code",
   "execution_count": 6,
   "metadata": {},
   "outputs": [],
   "source": [
    "filenames = ['pre.nii.gz', 'post_1.nii.gz']"
   ]
  },
  {
   "cell_type": "code",
   "execution_count": 7,
   "metadata": {},
   "outputs": [],
   "source": [
    "# # generate segmentation masks for each patient in the directory\n",
    "\n",
    "# for item in tqdm(os.listdir(DATASET_PATH)):\n",
    "#     patient_path = os.path.join(DATASET_PATH, item)\n",
    "\n",
    "#     x = annotation_boxes.loc[item]\n",
    "#     row1 = x['Start Row']\n",
    "#     row2 = x['End Row']\n",
    "\n",
    "#     col1 = x['Start Column']\n",
    "#     col2 = x['End Column']\n",
    "\n",
    "#     slice1 = x['Start Slice']\n",
    "#     slice2 = x['End Slice']\n",
    "\n",
    "#     if(os.path.isdir(patient_path)):\n",
    "#         # find files with paths here\n",
    "#         nifti_img = nib.load(os.path.join(patient_path, filenames[0]))   #load pre path and generate segments from this\n",
    "#         mask = np.zeros(nifti_img.dataobj.shape)\n",
    "#         mask[row1:row2, col1:col2, slice1:slice2] = 1\n",
    "#         segment = nib.Nifti1Image(mask, affine = nifti_img.affine)\n",
    "#         nib.save(segment, os.path.join(patient_path, 'segmentation.nii.gz'))"
   ]
  },
  {
   "cell_type": "code",
   "execution_count": 8,
   "metadata": {},
   "outputs": [
    {
     "data": {
      "text/plain": [
       "{'minimumROIDimensions': 2,\n",
       " 'minimumROISize': None,\n",
       " 'normalize': True,\n",
       " 'normalizeScale': 1,\n",
       " 'removeOutliers': None,\n",
       " 'resampledPixelSpacing': None,\n",
       " 'interpolator': 'sitkBSpline',\n",
       " 'preCrop': False,\n",
       " 'padDistance': 5,\n",
       " 'distances': [1],\n",
       " 'force2D': False,\n",
       " 'force2Ddimension': 0,\n",
       " 'resegmentRange': None,\n",
       " 'label': 1,\n",
       " 'additionalInfo': False}"
      ]
     },
     "execution_count": 8,
     "metadata": {},
     "output_type": "execute_result"
    }
   ],
   "source": [
    "feat_ext = featureextractor.RadiomicsFeatureExtractor()\n",
    "feat_ext.settings['minimumROIDimensions'] = 2\n",
    "feat_ext.settings['normalize'] = True\n",
    "feat_ext.settings['additionalInfo'] = False\n",
    "feat_ext.settings"
   ]
  },
  {
   "cell_type": "code",
   "execution_count": 18,
   "metadata": {},
   "outputs": [],
   "source": [
    "def slice_by_slice_decorator(func):\n",
    "    \"\"\"\n",
    "    A function decorator which executes func on each 3D sub-volume and\n",
    "    *in-place* pastes the results into the input image. The input image type\n",
    "    and the output image type are required to be the same type.\n",
    "\n",
    "    :param func: A function which take a SimpleITK Image as it's first\n",
    "    argument and returns an Image as results.\n",
    "\n",
    "    :return: A decorated function.\n",
    "    \"\"\"\n",
    "\n",
    "    iter_dim = 2\n",
    "\n",
    "    @wraps(func)\n",
    "    def slice_by_slice(image, *args, **kwargs):\n",
    "\n",
    "        dim = image.GetDimension()\n",
    "\n",
    "        if dim <= iter_dim:\n",
    "            #\n",
    "            image = func(image, *args, **kwargs)\n",
    "            return image\n",
    "\n",
    "        extract_size = list(image.GetSize())\n",
    "        extract_size[iter_dim:] = itertools.repeat(0, dim - iter_dim)\n",
    "\n",
    "        extract_index = [0] * dim\n",
    "        paste_idx = [slice(None, None)] * dim\n",
    "\n",
    "        extractor = sitk.ExtractImageFilter()\n",
    "        extractor.SetSize(extract_size)\n",
    "\n",
    "        for high_idx in itertools.product(\n",
    "            *[range(s) for s in image.GetSize()[iter_dim:]]\n",
    "        ):\n",
    "\n",
    "            # The lower 2 elements of extract_index are always 0.\n",
    "            # The remaining indices are iterated through all indexes.\n",
    "            extract_index[iter_dim:] = high_idx\n",
    "            extractor.SetIndex(extract_index)\n",
    "\n",
    "            # Sliced based indexing for setting image values internally uses\n",
    "            # the PasteImageFilter executed \"in place\".  The lower 2 elements\n",
    "            # are equivalent to \":\". For a less general case the assignment\n",
    "            # could be written as image[:,:,z] = ...\n",
    "            paste_idx[iter_dim:] = high_idx\n",
    "            image[paste_idx] = func(extractor.Execute(image), *args, **kwargs)\n",
    "\n",
    "        return image\n",
    "\n",
    "    return slice_by_slice"
   ]
  },
  {
   "cell_type": "code",
   "execution_count": 21,
   "metadata": {},
   "outputs": [
    {
     "name": "stderr",
     "output_type": "stream",
     "text": [
      "  0%|          | 0/922 [00:00<?, ?it/s]"
     ]
    },
    {
     "name": "stdout",
     "output_type": "stream",
     "text": [
      "done1\n"
     ]
    },
    {
     "name": "stderr",
     "output_type": "stream",
     "text": [
      "  0%|          | 0/922 [00:07<?, ?it/s]"
     ]
    },
    {
     "name": "stdout",
     "output_type": "stream",
     "text": [
      "done2\n"
     ]
    },
    {
     "name": "stderr",
     "output_type": "stream",
     "text": [
      "\n"
     ]
    }
   ],
   "source": [
    "features = pd.DataFrame()\n",
    "\n",
    "ad_histeq_2d = slice_by_slice_decorator(sitk.AdaptiveHistogramEqualization)\n",
    "\n",
    "for patient in tqdm(os.listdir(DATASET_PATH)):\n",
    "    # for filename in filenames:\n",
    "        # get features for pre and post_1\n",
    "    file_dir = os.path.join(DATASET_PATH, patient)\n",
    "    pre_img = sitk.ReadImage(os.path.join(file_dir, 'pre.nii.gz'))\n",
    "    post_1_img = sitk.ReadImage(os.path.join(file_dir, 'post_1.nii.gz'))\n",
    "\n",
    "    ad_histeq_2d(pre_img)\n",
    "    print('done1')\n",
    "\n",
    "    ad_histeq_2d(post_1_img)\n",
    "    print('done2')\n",
    "\n",
    "    difference_arr = post_1_img - pre_img\n",
    "\n",
    "    break\n",
    "\n",
    "        # smt.SetOrigin(img.GetOrigin())\n",
    "        # feats = feat_ext.execute(img, smt)\n",
    "        # for key, value in feats.items():\n",
    "        #     feats[key] = value.item()\n",
    "        # ft_df = pd.DataFrame(feats, index = [0])\n",
    "        # ft_df['patient'] = patient\n",
    "        # ft_df['sequence'] = filename.split('.nii.gz')[0]\n",
    "        # features = pd.concat([features, ft_df])"
   ]
  },
  {
   "cell_type": "code",
   "execution_count": 14,
   "metadata": {},
   "outputs": [],
   "source": [
    "sitk.Show(pre_img)"
   ]
  },
  {
   "cell_type": "code",
   "execution_count": 15,
   "metadata": {},
   "outputs": [],
   "source": [
    "sitk.Show(post_1_img)"
   ]
  },
  {
   "cell_type": "code",
   "execution_count": 17,
   "metadata": {},
   "outputs": [],
   "source": [
    "sitk.Show(difference_arr)"
   ]
  },
  {
   "cell_type": "code",
   "execution_count": null,
   "metadata": {},
   "outputs": [],
   "source": [
    "# features.to_csv(\"pyradiomics_extraction.csv\", index = False)"
   ]
  },
  {
   "cell_type": "code",
   "execution_count": null,
   "metadata": {},
   "outputs": [
    {
     "ename": "AttributeError",
     "evalue": "'Image' object has no attribute 'dataobj'",
     "output_type": "error",
     "traceback": [
      "\u001b[1;31m---------------------------------------------------------------------------\u001b[0m",
      "\u001b[1;31mAttributeError\u001b[0m                            Traceback (most recent call last)",
      "\u001b[1;32m~\\AppData\\Local\\Temp\\ipykernel_27124\\1995731706.py\u001b[0m in \u001b[0;36m<module>\u001b[1;34m\u001b[0m\n\u001b[1;32m----> 1\u001b[1;33m \u001b[0mresult\u001b[0m\u001b[1;33m.\u001b[0m\u001b[0mdataobj\u001b[0m\u001b[1;33m\u001b[0m\u001b[1;33m\u001b[0m\u001b[0m\n\u001b[0m",
      "\u001b[1;31mAttributeError\u001b[0m: 'Image' object has no attribute 'dataobj'"
     ]
    }
   ],
   "source": [
    "result"
   ]
  },
  {
   "cell_type": "code",
   "execution_count": null,
   "metadata": {},
   "outputs": [
    {
     "name": "stdout",
     "output_type": "stream",
     "text": [
      "(240, 240, 48)\n"
     ]
    },
    {
     "ename": "TraitError",
     "evalue": "label_image_weights shape expected to have 1 components, but got () components",
     "output_type": "error",
     "traceback": [
      "\u001b[1;31m---------------------------------------------------------------------------\u001b[0m",
      "\u001b[1;31mTraitError\u001b[0m                                Traceback (most recent call last)",
      "\u001b[1;32m~\\AppData\\Local\\Temp\\ipykernel_27124\\686979447.py\u001b[0m in \u001b[0;36m<module>\u001b[1;34m\u001b[0m\n\u001b[0;32m     17\u001b[0m \u001b[1;31m# Display the 3d image\u001b[0m\u001b[1;33m\u001b[0m\u001b[1;33m\u001b[0m\u001b[1;33m\u001b[0m\u001b[0m\n\u001b[0;32m     18\u001b[0m \u001b[1;32mimport\u001b[0m \u001b[0mitkwidgets\u001b[0m\u001b[1;33m\u001b[0m\u001b[1;33m\u001b[0m\u001b[0m\n\u001b[1;32m---> 19\u001b[1;33m \u001b[0mitkwidgets\u001b[0m\u001b[1;33m.\u001b[0m\u001b[0mview\u001b[0m\u001b[1;33m(\u001b[0m\u001b[0mresult\u001b[0m\u001b[1;33m)\u001b[0m\u001b[1;33m\u001b[0m\u001b[1;33m\u001b[0m\u001b[0m\n\u001b[0m",
      "\u001b[1;32mc:\\ProgramData\\Anaconda3\\envs\\mri_project\\lib\\site-packages\\itkwidgets\\widget_viewer.py\u001b[0m in \u001b[0;36mview\u001b[1;34m(image, label_image, label_image_names, label_image_weights, label_image_blend, cmap, lut, select_roi, interpolation, gradient_opacity, opacity_gaussians, channels, slicing_planes, shadow, blend_mode, point_sets, point_set_colors, point_set_opacities, point_set_representations, point_set_sizes, geometries, geometry_colors, geometry_opacities, ui_collapsed, rotate, annotations, axes, mode, **kwargs)\u001b[0m\n\u001b[0;32m   1110\u001b[0m                     \u001b[0mrotate\u001b[0m\u001b[1;33m=\u001b[0m\u001b[0mrotate\u001b[0m\u001b[1;33m,\u001b[0m \u001b[0mui_collapsed\u001b[0m\u001b[1;33m=\u001b[0m\u001b[0mui_collapsed\u001b[0m\u001b[1;33m,\u001b[0m\u001b[1;33m\u001b[0m\u001b[1;33m\u001b[0m\u001b[0m\n\u001b[0;32m   1111\u001b[0m                     \u001b[0mannotations\u001b[0m\u001b[1;33m=\u001b[0m\u001b[0mannotations\u001b[0m\u001b[1;33m,\u001b[0m \u001b[0maxes\u001b[0m\u001b[1;33m=\u001b[0m\u001b[0maxes\u001b[0m\u001b[1;33m,\u001b[0m \u001b[0mmode\u001b[0m\u001b[1;33m=\u001b[0m\u001b[0mmode\u001b[0m\u001b[1;33m,\u001b[0m\u001b[1;33m\u001b[0m\u001b[1;33m\u001b[0m\u001b[0m\n\u001b[1;32m-> 1112\u001b[1;33m                     **kwargs)\n\u001b[0m\u001b[0;32m   1113\u001b[0m     \u001b[1;32mreturn\u001b[0m \u001b[0mviewer\u001b[0m\u001b[1;33m\u001b[0m\u001b[1;33m\u001b[0m\u001b[0m\n",
      "\u001b[1;32mc:\\ProgramData\\Anaconda3\\envs\\mri_project\\lib\\site-packages\\itkwidgets\\widget_viewer.py\u001b[0m in \u001b[0;36m__init__\u001b[1;34m(self, **kwargs)\u001b[0m\n\u001b[0;32m    367\u001b[0m             \u001b[0mkwargs\u001b[0m\u001b[1;33m[\u001b[0m\u001b[1;34m'interpolation'\u001b[0m\u001b[1;33m]\u001b[0m \u001b[1;33m=\u001b[0m \u001b[1;32mFalse\u001b[0m\u001b[1;33m\u001b[0m\u001b[1;33m\u001b[0m\u001b[0m\n\u001b[0;32m    368\u001b[0m \u001b[1;33m\u001b[0m\u001b[0m\n\u001b[1;32m--> 369\u001b[1;33m         \u001b[0msuper\u001b[0m\u001b[1;33m(\u001b[0m\u001b[0mViewer\u001b[0m\u001b[1;33m,\u001b[0m \u001b[0mself\u001b[0m\u001b[1;33m)\u001b[0m\u001b[1;33m.\u001b[0m\u001b[0m__init__\u001b[0m\u001b[1;33m(\u001b[0m\u001b[1;33m**\u001b[0m\u001b[0mkwargs\u001b[0m\u001b[1;33m)\u001b[0m\u001b[1;33m\u001b[0m\u001b[1;33m\u001b[0m\u001b[0m\n\u001b[0m\u001b[0;32m    370\u001b[0m \u001b[1;33m\u001b[0m\u001b[0m\n\u001b[0;32m    371\u001b[0m         \u001b[1;32mif\u001b[0m \u001b[1;32mnot\u001b[0m \u001b[0mself\u001b[0m\u001b[1;33m.\u001b[0m\u001b[0mimage\u001b[0m \u001b[1;32mand\u001b[0m \u001b[1;32mnot\u001b[0m \u001b[0mself\u001b[0m\u001b[1;33m.\u001b[0m\u001b[0mlabel_image\u001b[0m\u001b[1;33m:\u001b[0m\u001b[1;33m\u001b[0m\u001b[1;33m\u001b[0m\u001b[0m\n",
      "\u001b[1;32mc:\\ProgramData\\Anaconda3\\envs\\mri_project\\lib\\site-packages\\ipywidgets\\widgets\\widget.py\u001b[0m in \u001b[0;36m__init__\u001b[1;34m(self, **kwargs)\u001b[0m\n\u001b[0;32m    476\u001b[0m         \u001b[1;34m\"\"\"Public constructor\"\"\"\u001b[0m\u001b[1;33m\u001b[0m\u001b[1;33m\u001b[0m\u001b[0m\n\u001b[0;32m    477\u001b[0m         \u001b[0mself\u001b[0m\u001b[1;33m.\u001b[0m\u001b[0m_model_id\u001b[0m \u001b[1;33m=\u001b[0m \u001b[0mkwargs\u001b[0m\u001b[1;33m.\u001b[0m\u001b[0mpop\u001b[0m\u001b[1;33m(\u001b[0m\u001b[1;34m'model_id'\u001b[0m\u001b[1;33m,\u001b[0m \u001b[1;32mNone\u001b[0m\u001b[1;33m)\u001b[0m\u001b[1;33m\u001b[0m\u001b[1;33m\u001b[0m\u001b[0m\n\u001b[1;32m--> 478\u001b[1;33m         \u001b[0msuper\u001b[0m\u001b[1;33m(\u001b[0m\u001b[0mWidget\u001b[0m\u001b[1;33m,\u001b[0m \u001b[0mself\u001b[0m\u001b[1;33m)\u001b[0m\u001b[1;33m.\u001b[0m\u001b[0m__init__\u001b[0m\u001b[1;33m(\u001b[0m\u001b[1;33m**\u001b[0m\u001b[0mkwargs\u001b[0m\u001b[1;33m)\u001b[0m\u001b[1;33m\u001b[0m\u001b[1;33m\u001b[0m\u001b[0m\n\u001b[0m\u001b[0;32m    479\u001b[0m \u001b[1;33m\u001b[0m\u001b[0m\n\u001b[0;32m    480\u001b[0m         \u001b[0mWidget\u001b[0m\u001b[1;33m.\u001b[0m\u001b[0m_call_widget_constructed\u001b[0m\u001b[1;33m(\u001b[0m\u001b[0mself\u001b[0m\u001b[1;33m)\u001b[0m\u001b[1;33m\u001b[0m\u001b[1;33m\u001b[0m\u001b[0m\n",
      "\u001b[1;32mc:\\ProgramData\\Anaconda3\\envs\\mri_project\\lib\\site-packages\\traitlets\\traitlets.py\u001b[0m in \u001b[0;36m__init__\u001b[1;34m(self, *args, **kwargs)\u001b[0m\n\u001b[0;32m   1360\u001b[0m                                 \u001b[0mself\u001b[0m\u001b[1;33m.\u001b[0m\u001b[0m_trait_values\u001b[0m\u001b[1;33m.\u001b[0m\u001b[0mpop\u001b[0m\u001b[1;33m(\u001b[0m\u001b[0mname\u001b[0m\u001b[1;33m)\u001b[0m\u001b[1;33m\u001b[0m\u001b[1;33m\u001b[0m\u001b[0m\n\u001b[0;32m   1361\u001b[0m                 \u001b[0mcache\u001b[0m \u001b[1;33m=\u001b[0m \u001b[1;33m{\u001b[0m\u001b[1;33m}\u001b[0m\u001b[1;33m\u001b[0m\u001b[1;33m\u001b[0m\u001b[0m\n\u001b[1;32m-> 1362\u001b[1;33m                 \u001b[1;32mraise\u001b[0m \u001b[0me\u001b[0m\u001b[1;33m\u001b[0m\u001b[1;33m\u001b[0m\u001b[0m\n\u001b[0m\u001b[0;32m   1363\u001b[0m             \u001b[1;32mfinally\u001b[0m\u001b[1;33m:\u001b[0m\u001b[1;33m\u001b[0m\u001b[1;33m\u001b[0m\u001b[0m\n\u001b[0;32m   1364\u001b[0m                 \u001b[0mself\u001b[0m\u001b[1;33m.\u001b[0m\u001b[0m_cross_validation_lock\u001b[0m \u001b[1;33m=\u001b[0m \u001b[1;32mFalse\u001b[0m\u001b[1;33m\u001b[0m\u001b[1;33m\u001b[0m\u001b[0m\n",
      "\u001b[1;32mc:\\ProgramData\\Anaconda3\\envs\\mri_project\\lib\\site-packages\\traitlets\\traitlets.py\u001b[0m in \u001b[0;36mset_trait\u001b[1;34m(self, name, value)\u001b[0m\n\u001b[0;32m   1740\u001b[0m     \u001b[1;32mdef\u001b[0m \u001b[0mtrait_defaults\u001b[0m\u001b[1;33m(\u001b[0m\u001b[0mself\u001b[0m\u001b[1;33m,\u001b[0m \u001b[1;33m*\u001b[0m\u001b[0mnames\u001b[0m\u001b[1;33m,\u001b[0m \u001b[1;33m**\u001b[0m\u001b[0mmetadata\u001b[0m\u001b[1;33m)\u001b[0m\u001b[1;33m:\u001b[0m\u001b[1;33m\u001b[0m\u001b[1;33m\u001b[0m\u001b[0m\n\u001b[0;32m   1741\u001b[0m         \"\"\"Return a trait's default value or a dictionary of them\n\u001b[1;32m-> 1742\u001b[1;33m \u001b[1;33m\u001b[0m\u001b[0m\n\u001b[0m\u001b[0;32m   1743\u001b[0m         \u001b[0mNotes\u001b[0m\u001b[1;33m\u001b[0m\u001b[1;33m\u001b[0m\u001b[0m\n\u001b[0;32m   1744\u001b[0m         \u001b[1;33m-\u001b[0m\u001b[1;33m-\u001b[0m\u001b[1;33m-\u001b[0m\u001b[1;33m-\u001b[0m\u001b[1;33m-\u001b[0m\u001b[1;33m\u001b[0m\u001b[1;33m\u001b[0m\u001b[0m\n",
      "\u001b[1;32mc:\\ProgramData\\Anaconda3\\envs\\mri_project\\lib\\site-packages\\traittypes\\traittypes.py\u001b[0m in \u001b[0;36mset\u001b[1;34m(self, obj, value)\u001b[0m\n\u001b[0;32m    106\u001b[0m \u001b[1;33m\u001b[0m\u001b[0m\n\u001b[0;32m    107\u001b[0m     \u001b[1;32mdef\u001b[0m \u001b[0mset\u001b[0m\u001b[1;33m(\u001b[0m\u001b[0mself\u001b[0m\u001b[1;33m,\u001b[0m \u001b[0mobj\u001b[0m\u001b[1;33m,\u001b[0m \u001b[0mvalue\u001b[0m\u001b[1;33m)\u001b[0m\u001b[1;33m:\u001b[0m\u001b[1;33m\u001b[0m\u001b[1;33m\u001b[0m\u001b[0m\n\u001b[1;32m--> 108\u001b[1;33m         \u001b[0mnew_value\u001b[0m \u001b[1;33m=\u001b[0m \u001b[0mself\u001b[0m\u001b[1;33m.\u001b[0m\u001b[0m_validate\u001b[0m\u001b[1;33m(\u001b[0m\u001b[0mobj\u001b[0m\u001b[1;33m,\u001b[0m \u001b[0mvalue\u001b[0m\u001b[1;33m)\u001b[0m\u001b[1;33m\u001b[0m\u001b[1;33m\u001b[0m\u001b[0m\n\u001b[0m\u001b[0;32m    109\u001b[0m         \u001b[0mold_value\u001b[0m \u001b[1;33m=\u001b[0m \u001b[0mobj\u001b[0m\u001b[1;33m.\u001b[0m\u001b[0m_trait_values\u001b[0m\u001b[1;33m.\u001b[0m\u001b[0mget\u001b[0m\u001b[1;33m(\u001b[0m\u001b[0mself\u001b[0m\u001b[1;33m.\u001b[0m\u001b[0mname\u001b[0m\u001b[1;33m,\u001b[0m \u001b[0mself\u001b[0m\u001b[1;33m.\u001b[0m\u001b[0mdefault_value\u001b[0m\u001b[1;33m)\u001b[0m\u001b[1;33m\u001b[0m\u001b[1;33m\u001b[0m\u001b[0m\n\u001b[0;32m    110\u001b[0m         \u001b[0mobj\u001b[0m\u001b[1;33m.\u001b[0m\u001b[0m_trait_values\u001b[0m\u001b[1;33m[\u001b[0m\u001b[0mself\u001b[0m\u001b[1;33m.\u001b[0m\u001b[0mname\u001b[0m\u001b[1;33m]\u001b[0m \u001b[1;33m=\u001b[0m \u001b[0mnew_value\u001b[0m\u001b[1;33m\u001b[0m\u001b[1;33m\u001b[0m\u001b[0m\n",
      "\u001b[1;32mc:\\ProgramData\\Anaconda3\\envs\\mri_project\\lib\\site-packages\\traitlets\\traitlets.py\u001b[0m in \u001b[0;36m_validate\u001b[1;34m(self, obj, value)\u001b[0m\n\u001b[0;32m    736\u001b[0m                 \u001b[0mmeth_name\u001b[0m\u001b[1;33m,\u001b[0m\u001b[1;33m\u001b[0m\u001b[1;33m\u001b[0m\u001b[0m\n\u001b[0;32m    737\u001b[0m                 \u001b[1;34m\"use @validate decorator instead.\"\u001b[0m\u001b[1;33m,\u001b[0m\u001b[1;33m\u001b[0m\u001b[1;33m\u001b[0m\u001b[0m\n\u001b[1;32m--> 738\u001b[1;33m             )\n\u001b[0m\u001b[0;32m    739\u001b[0m             \u001b[0mvalue\u001b[0m \u001b[1;33m=\u001b[0m \u001b[0mcross_validate\u001b[0m\u001b[1;33m(\u001b[0m\u001b[0mvalue\u001b[0m\u001b[1;33m,\u001b[0m \u001b[0mself\u001b[0m\u001b[1;33m)\u001b[0m\u001b[1;33m\u001b[0m\u001b[1;33m\u001b[0m\u001b[0m\n\u001b[0;32m    740\u001b[0m         \u001b[1;32mreturn\u001b[0m \u001b[0mvalue\u001b[0m\u001b[1;33m\u001b[0m\u001b[1;33m\u001b[0m\u001b[0m\n",
      "\u001b[1;32mc:\\ProgramData\\Anaconda3\\envs\\mri_project\\lib\\site-packages\\ipydatawidgets\\ndarray\\traits.py\u001b[0m in \u001b[0;36mvalidate\u001b[1;34m(self, obj, value)\u001b[0m\n\u001b[0;32m     23\u001b[0m \u001b[1;33m\u001b[0m\u001b[0m\n\u001b[0;32m     24\u001b[0m     \u001b[1;32mdef\u001b[0m \u001b[0mvalidate\u001b[0m\u001b[1;33m(\u001b[0m\u001b[0mself\u001b[0m\u001b[1;33m,\u001b[0m \u001b[0mobj\u001b[0m\u001b[1;33m,\u001b[0m \u001b[0mvalue\u001b[0m\u001b[1;33m)\u001b[0m\u001b[1;33m:\u001b[0m\u001b[1;33m\u001b[0m\u001b[1;33m\u001b[0m\u001b[0m\n\u001b[1;32m---> 25\u001b[1;33m         \u001b[0mvalue\u001b[0m \u001b[1;33m=\u001b[0m \u001b[0msuper\u001b[0m\u001b[1;33m(\u001b[0m\u001b[0mNDArray\u001b[0m\u001b[1;33m,\u001b[0m \u001b[0mself\u001b[0m\u001b[1;33m)\u001b[0m\u001b[1;33m.\u001b[0m\u001b[0mvalidate\u001b[0m\u001b[1;33m(\u001b[0m\u001b[0mobj\u001b[0m\u001b[1;33m,\u001b[0m \u001b[0mvalue\u001b[0m\u001b[1;33m)\u001b[0m\u001b[1;33m\u001b[0m\u001b[1;33m\u001b[0m\u001b[0m\n\u001b[0m\u001b[0;32m     26\u001b[0m         \u001b[1;32mif\u001b[0m \u001b[0mvalue\u001b[0m \u001b[1;32mis\u001b[0m \u001b[1;32mNone\u001b[0m \u001b[1;32mor\u001b[0m \u001b[0mvalue\u001b[0m \u001b[1;32mis\u001b[0m \u001b[0mUndefined\u001b[0m\u001b[1;33m:\u001b[0m\u001b[1;33m\u001b[0m\u001b[1;33m\u001b[0m\u001b[0m\n\u001b[0;32m     27\u001b[0m             \u001b[1;32mreturn\u001b[0m \u001b[0mvalue\u001b[0m\u001b[1;33m\u001b[0m\u001b[1;33m\u001b[0m\u001b[0m\n",
      "\u001b[1;32mc:\\ProgramData\\Anaconda3\\envs\\mri_project\\lib\\site-packages\\traittypes\\traittypes.py\u001b[0m in \u001b[0;36mvalidate\u001b[1;34m(self, obj, value)\u001b[0m\n\u001b[0;32m    103\u001b[0m         \u001b[1;32mexcept\u001b[0m \u001b[1;33m(\u001b[0m\u001b[0mValueError\u001b[0m\u001b[1;33m,\u001b[0m \u001b[0mTypeError\u001b[0m\u001b[1;33m)\u001b[0m \u001b[1;32mas\u001b[0m \u001b[0me\u001b[0m\u001b[1;33m:\u001b[0m\u001b[1;33m\u001b[0m\u001b[1;33m\u001b[0m\u001b[0m\n\u001b[0;32m    104\u001b[0m             \u001b[1;32mraise\u001b[0m \u001b[0mTraitError\u001b[0m\u001b[1;33m(\u001b[0m\u001b[0me\u001b[0m\u001b[1;33m)\u001b[0m\u001b[1;33m\u001b[0m\u001b[1;33m\u001b[0m\u001b[0m\n\u001b[1;32m--> 105\u001b[1;33m         \u001b[1;32mreturn\u001b[0m \u001b[0msuper\u001b[0m\u001b[1;33m(\u001b[0m\u001b[0mArray\u001b[0m\u001b[1;33m,\u001b[0m \u001b[0mself\u001b[0m\u001b[1;33m)\u001b[0m\u001b[1;33m.\u001b[0m\u001b[0mvalidate\u001b[0m\u001b[1;33m(\u001b[0m\u001b[0mobj\u001b[0m\u001b[1;33m,\u001b[0m \u001b[0mvalue\u001b[0m\u001b[1;33m)\u001b[0m\u001b[1;33m\u001b[0m\u001b[1;33m\u001b[0m\u001b[0m\n\u001b[0m\u001b[0;32m    106\u001b[0m \u001b[1;33m\u001b[0m\u001b[0m\n\u001b[0;32m    107\u001b[0m     \u001b[1;32mdef\u001b[0m \u001b[0mset\u001b[0m\u001b[1;33m(\u001b[0m\u001b[0mself\u001b[0m\u001b[1;33m,\u001b[0m \u001b[0mobj\u001b[0m\u001b[1;33m,\u001b[0m \u001b[0mvalue\u001b[0m\u001b[1;33m)\u001b[0m\u001b[1;33m:\u001b[0m\u001b[1;33m\u001b[0m\u001b[1;33m\u001b[0m\u001b[0m\n",
      "\u001b[1;32mc:\\ProgramData\\Anaconda3\\envs\\mri_project\\lib\\site-packages\\traittypes\\traittypes.py\u001b[0m in \u001b[0;36mvalidate\u001b[1;34m(self, obj, value)\u001b[0m\n\u001b[0;32m     74\u001b[0m         \u001b[1;32mtry\u001b[0m\u001b[1;33m:\u001b[0m\u001b[1;33m\u001b[0m\u001b[1;33m\u001b[0m\u001b[0m\n\u001b[0;32m     75\u001b[0m             \u001b[1;32mfor\u001b[0m \u001b[0mvalidator\u001b[0m \u001b[1;32min\u001b[0m \u001b[0mself\u001b[0m\u001b[1;33m.\u001b[0m\u001b[0mvalidators\u001b[0m\u001b[1;33m:\u001b[0m\u001b[1;33m\u001b[0m\u001b[1;33m\u001b[0m\u001b[0m\n\u001b[1;32m---> 76\u001b[1;33m                 \u001b[0mvalue\u001b[0m \u001b[1;33m=\u001b[0m \u001b[0mvalidator\u001b[0m\u001b[1;33m(\u001b[0m\u001b[0mself\u001b[0m\u001b[1;33m,\u001b[0m \u001b[0mvalue\u001b[0m\u001b[1;33m)\u001b[0m\u001b[1;33m\u001b[0m\u001b[1;33m\u001b[0m\u001b[0m\n\u001b[0m\u001b[0;32m     77\u001b[0m             \u001b[1;32mreturn\u001b[0m \u001b[0mvalue\u001b[0m\u001b[1;33m\u001b[0m\u001b[1;33m\u001b[0m\u001b[0m\n\u001b[0;32m     78\u001b[0m         \u001b[1;32mexcept\u001b[0m \u001b[1;33m(\u001b[0m\u001b[0mValueError\u001b[0m\u001b[1;33m,\u001b[0m \u001b[0mTypeError\u001b[0m\u001b[1;33m)\u001b[0m \u001b[1;32mas\u001b[0m \u001b[0me\u001b[0m\u001b[1;33m:\u001b[0m\u001b[1;33m\u001b[0m\u001b[1;33m\u001b[0m\u001b[0m\n",
      "\u001b[1;32mc:\\ProgramData\\Anaconda3\\envs\\mri_project\\lib\\site-packages\\ipydatawidgets\\ndarray\\traits.py\u001b[0m in \u001b[0;36mvalidator\u001b[1;34m(trait, value)\u001b[0m\n\u001b[0;32m     39\u001b[0m         \u001b[1;32mif\u001b[0m \u001b[0mlen\u001b[0m\u001b[1;33m(\u001b[0m\u001b[0mvalue\u001b[0m\u001b[1;33m.\u001b[0m\u001b[0mshape\u001b[0m\u001b[1;33m)\u001b[0m \u001b[1;33m!=\u001b[0m \u001b[0mlen\u001b[0m\u001b[1;33m(\u001b[0m\u001b[0margs\u001b[0m\u001b[1;33m)\u001b[0m\u001b[1;33m:\u001b[0m\u001b[1;33m\u001b[0m\u001b[1;33m\u001b[0m\u001b[0m\n\u001b[0;32m     40\u001b[0m             raise TraitError('%s shape expected to have %s components, but got %s components' % (\n\u001b[1;32m---> 41\u001b[1;33m                 trait.name, len(args), value.shape))\n\u001b[0m\u001b[0;32m     42\u001b[0m         \u001b[1;32mfor\u001b[0m \u001b[0mi\u001b[0m\u001b[1;33m,\u001b[0m \u001b[0mconstraint\u001b[0m \u001b[1;32min\u001b[0m \u001b[0menumerate\u001b[0m\u001b[1;33m(\u001b[0m\u001b[0margs\u001b[0m\u001b[1;33m)\u001b[0m\u001b[1;33m:\u001b[0m\u001b[1;33m\u001b[0m\u001b[1;33m\u001b[0m\u001b[0m\n\u001b[0;32m     43\u001b[0m             \u001b[1;32mif\u001b[0m \u001b[0mconstraint\u001b[0m \u001b[1;32mis\u001b[0m \u001b[1;32mnot\u001b[0m \u001b[1;32mNone\u001b[0m\u001b[1;33m:\u001b[0m\u001b[1;33m\u001b[0m\u001b[1;33m\u001b[0m\u001b[0m\n",
      "\u001b[1;31mTraitError\u001b[0m: label_image_weights shape expected to have 1 components, but got () components"
     ]
    }
   ],
   "source": [
    "import SimpleITK as sitk\n",
    "import numpy as np\n",
    "\n",
    "# Create a noise Gaussian blob test image\n",
    "img = sitk.GaussianSource(sitk.sitkFloat32, size=[240,240,48], mean=[120,120,24])\n",
    "img = img + sitk.AdditiveGaussianNoise(img,10)\n",
    "\n",
    "# Create a ramp image of the same size\n",
    "h = np.arange(0.0, 255,1.0666666666, dtype='f4')\n",
    "h2 = np.reshape(np.repeat(h, 240*48), (48,240,240))\n",
    "himg = sitk.GetImageFromArray(h2)\n",
    "print(himg.GetSize())\n",
    "\n",
    "# Match the histogram of the Gaussian image with the ramp\n",
    "result=sitk.HistogramMatching(img, himg)\n",
    "\n",
    "# Display the 3d image\n",
    "import itkwidgets\n",
    "itkwidgets.view(result)"
   ]
  }
 ],
 "metadata": {
  "kernelspec": {
   "display_name": "Python 3.7.16 ('mri_project')",
   "language": "python",
   "name": "python3"
  },
  "language_info": {
   "codemirror_mode": {
    "name": "ipython",
    "version": 3
   },
   "file_extension": ".py",
   "mimetype": "text/x-python",
   "name": "python",
   "nbconvert_exporter": "python",
   "pygments_lexer": "ipython3",
   "version": "3.7.16"
  },
  "orig_nbformat": 4,
  "vscode": {
   "interpreter": {
    "hash": "46a30f71ba13f968ce13e2ff6d1c210f2ffd70fd7dc0256e6c75b999f7c20949"
   }
  }
 },
 "nbformat": 4,
 "nbformat_minor": 2
}
