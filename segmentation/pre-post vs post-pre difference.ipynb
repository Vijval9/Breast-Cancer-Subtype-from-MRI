{
 "cells": [
  {
   "cell_type": "markdown",
   "metadata": {},
   "source": [
    "# Visualisation of masks for DICOM files in the dataset.\n",
    "\n",
    "Observations\n",
    "- These were different from those of NIFTI files converted using dicom2nifti which were rotated and indexed in a reverse order wrt slices\n",
    "- These correspond much better to the annotation boxes\n",
    "- There are a few boxes that are incorrectly labelled. Sequences with double-digit number of slices have an additional '0' in the simple paths dataset"
   ]
  },
  {
   "cell_type": "code",
   "execution_count": 1,
   "metadata": {},
   "outputs": [
    {
     "name": "stdout",
     "output_type": "stream",
     "text": [
      "Requirement already satisfied: pyradiomics in c:\\programdata\\anaconda3\\envs\\mri_project\\lib\\site-packages (3.1.0)\n",
      "Requirement already satisfied: dicom_numpy in c:\\programdata\\anaconda3\\envs\\mri_project\\lib\\site-packages (0.6.5)\n",
      "Requirement already satisfied: pydicom in c:\\programdata\\anaconda3\\envs\\mri_project\\lib\\site-packages (2.4.1)\n",
      "Requirement already satisfied: plotly in c:\\programdata\\anaconda3\\envs\\mri_project\\lib\\site-packages (5.15.0)\n",
      "Requirement already satisfied: matplotlib in c:\\programdata\\anaconda3\\envs\\mri_project\\lib\\site-packages (3.5.3)\n",
      "Requirement already satisfied: scikit-image in c:\\programdata\\anaconda3\\envs\\mri_project\\lib\\site-packages (0.19.3)\n",
      "Requirement already satisfied: simpleITK in c:\\programdata\\anaconda3\\envs\\mri_project\\lib\\site-packages (2.2.1)\n",
      "Requirement already satisfied: pynrrd in c:\\programdata\\anaconda3\\envs\\mri_project\\lib\\site-packages (1.0.0)\n",
      "Requirement already satisfied: dicom2nifti in c:\\programdata\\anaconda3\\envs\\mri_project\\lib\\site-packages (2.4.8)\n",
      "Requirement already satisfied: NiBabel in c:\\programdata\\anaconda3\\envs\\mri_project\\lib\\site-packages (4.0.2)\n",
      "Requirement already satisfied: NiLearn in c:\\programdata\\anaconda3\\envs\\mri_project\\lib\\site-packages (0.10.1)\n",
      "Requirement already satisfied: openpyxl in c:\\programdata\\anaconda3\\envs\\mri_project\\lib\\site-packages (3.1.2)\n",
      "Requirement already satisfied: pydicom-seg in c:\\programdata\\anaconda3\\envs\\mri_project\\lib\\site-packages (0.4.1)\n",
      "Requirement already satisfied: itkwidgets in c:\\programdata\\anaconda3\\envs\\mri_project\\lib\\site-packages (0.32.6)\n",
      "Requirement already satisfied: pykwalify in c:\\programdata\\anaconda3\\envs\\mri_project\\lib\\site-packages (from pyradiomics) (1.8.0)\n",
      "Requirement already satisfied: six in c:\\programdata\\anaconda3\\envs\\mri_project\\lib\\site-packages (from pyradiomics) (1.16.0)\n",
      "Requirement already satisfied: numpy in c:\\programdata\\anaconda3\\envs\\mri_project\\lib\\site-packages (from pyradiomics) (1.21.5)\n",
      "Requirement already satisfied: PyWavelets in c:\\programdata\\anaconda3\\envs\\mri_project\\lib\\site-packages (from pyradiomics) (1.3.0)\n",
      "Requirement already satisfied: packaging in c:\\programdata\\anaconda3\\envs\\mri_project\\lib\\site-packages (from plotly) (23.1)\n",
      "Requirement already satisfied: tenacity>=6.2.0 in c:\\programdata\\anaconda3\\envs\\mri_project\\lib\\site-packages (from plotly) (8.2.2)\n",
      "Requirement already satisfied: python-dateutil>=2.7 in c:\\programdata\\anaconda3\\envs\\mri_project\\lib\\site-packages (from matplotlib) (2.8.2)\n",
      "Requirement already satisfied: pillow>=6.2.0 in c:\\programdata\\anaconda3\\envs\\mri_project\\lib\\site-packages (from matplotlib) (9.5.0)\n",
      "Requirement already satisfied: fonttools>=4.22.0 in c:\\programdata\\anaconda3\\envs\\mri_project\\lib\\site-packages (from matplotlib) (4.38.0)\n",
      "Requirement already satisfied: kiwisolver>=1.0.1 in c:\\programdata\\anaconda3\\envs\\mri_project\\lib\\site-packages (from matplotlib) (1.4.4)\n",
      "Requirement already satisfied: cycler>=0.10 in c:\\programdata\\anaconda3\\envs\\mri_project\\lib\\site-packages (from matplotlib) (0.11.0)\n",
      "Requirement already satisfied: pyparsing>=2.2.1 in c:\\programdata\\anaconda3\\envs\\mri_project\\lib\\site-packages (from matplotlib) (3.1.0)\n",
      "Requirement already satisfied: networkx>=2.2 in c:\\programdata\\anaconda3\\envs\\mri_project\\lib\\site-packages (from scikit-image) (2.6.3)\n",
      "Requirement already satisfied: tifffile>=2019.7.26 in c:\\programdata\\anaconda3\\envs\\mri_project\\lib\\site-packages (from scikit-image) (2021.11.2)\n",
      "Requirement already satisfied: scipy>=1.4.1 in c:\\programdata\\anaconda3\\envs\\mri_project\\lib\\site-packages (from scikit-image) (1.7.3)\n",
      "Requirement already satisfied: imageio>=2.4.1 in c:\\programdata\\anaconda3\\envs\\mri_project\\lib\\site-packages (from scikit-image) (2.31.1)\n",
      "Requirement already satisfied: nptyping in c:\\programdata\\anaconda3\\envs\\mri_project\\lib\\site-packages (from pynrrd) (2.5.0)\n",
      "Requirement already satisfied: typing-extensions in c:\\programdata\\anaconda3\\envs\\mri_project\\lib\\site-packages (from pynrrd) (4.6.3)\n",
      "Requirement already satisfied: python-gdcm in c:\\programdata\\anaconda3\\envs\\mri_project\\lib\\site-packages (from dicom2nifti) (3.0.22)\n",
      "Requirement already satisfied: setuptools in c:\\programdata\\anaconda3\\envs\\mri_project\\lib\\site-packages (from NiBabel) (65.6.3)\n",
      "Requirement already satisfied: joblib>=1.0.0 in c:\\programdata\\anaconda3\\envs\\mri_project\\lib\\site-packages (from NiLearn) (1.3.1)\n",
      "Requirement already satisfied: scikit-learn>=1.0.0 in c:\\programdata\\anaconda3\\envs\\mri_project\\lib\\site-packages (from NiLearn) (1.0.2)\n",
      "Requirement already satisfied: lxml in c:\\programdata\\anaconda3\\envs\\mri_project\\lib\\site-packages (from NiLearn) (4.9.3)\n",
      "Requirement already satisfied: requests>=2.25.0 in c:\\programdata\\anaconda3\\envs\\mri_project\\lib\\site-packages (from NiLearn) (2.31.0)\n",
      "Requirement already satisfied: pandas>=1.1.5 in c:\\programdata\\anaconda3\\envs\\mri_project\\lib\\site-packages (from NiLearn) (1.3.5)\n",
      "Requirement already satisfied: et-xmlfile in c:\\programdata\\anaconda3\\envs\\mri_project\\lib\\site-packages (from openpyxl) (1.1.0)\n",
      "Requirement already satisfied: jsonschema<4.0.0,>=3.2.0 in c:\\programdata\\anaconda3\\envs\\mri_project\\lib\\site-packages (from pydicom-seg) (3.2.0)\n",
      "Requirement already satisfied: zstandard in c:\\programdata\\anaconda3\\envs\\mri_project\\lib\\site-packages (from itkwidgets) (0.18.0)\n",
      "Requirement already satisfied: colorcet in c:\\programdata\\anaconda3\\envs\\mri_project\\lib\\site-packages (from itkwidgets) (3.0.1)\n",
      "Requirement already satisfied: itk-meshtopolydata>=0.10 in c:\\programdata\\anaconda3\\envs\\mri_project\\lib\\site-packages (from itkwidgets) (0.10.0)\n",
      "Requirement already satisfied: ipywidgets<8.0.0 in c:\\programdata\\anaconda3\\envs\\mri_project\\lib\\site-packages (from itkwidgets) (7.8.0)\n",
      "Requirement already satisfied: itk-core>=5.3.0 in c:\\programdata\\anaconda3\\envs\\mri_project\\lib\\site-packages (from itkwidgets) (5.3.0)\n",
      "Requirement already satisfied: traitlets<5.7.0 in c:\\programdata\\anaconda3\\envs\\mri_project\\lib\\site-packages (from itkwidgets) (5.6.0)\n",
      "Requirement already satisfied: itk-numerics>=5.3.0 in c:\\programdata\\anaconda3\\envs\\mri_project\\lib\\site-packages (from itkwidgets) (5.3.0)\n",
      "Requirement already satisfied: ipympl>=0.4.1 in c:\\programdata\\anaconda3\\envs\\mri_project\\lib\\site-packages (from itkwidgets) (0.9.3)\n",
      "Requirement already satisfied: ipydatawidgets<4.3.3,>=4.0.1 in c:\\programdata\\anaconda3\\envs\\mri_project\\lib\\site-packages (from itkwidgets) (4.3.2)\n",
      "Requirement already satisfied: notebook<6.5.0 in c:\\programdata\\anaconda3\\envs\\mri_project\\lib\\site-packages (from itkwidgets) (6.4.12)\n",
      "Requirement already satisfied: itk-filtering>=5.3.0 in c:\\programdata\\anaconda3\\envs\\mri_project\\lib\\site-packages (from itkwidgets) (5.3.0)\n",
      "Requirement already satisfied: traittypes>=0.2.0 in c:\\programdata\\anaconda3\\envs\\mri_project\\lib\\site-packages (from ipydatawidgets<4.3.3,>=4.0.1->itkwidgets) (0.2.1)\n",
      "Requirement already satisfied: ipython<9 in c:\\programdata\\anaconda3\\envs\\mri_project\\lib\\site-packages (from ipympl>=0.4.1->itkwidgets) (7.34.0)\n",
      "Requirement already satisfied: ipython-genutils in c:\\programdata\\anaconda3\\envs\\mri_project\\lib\\site-packages (from ipympl>=0.4.1->itkwidgets) (0.2.0)\n",
      "Requirement already satisfied: comm>=0.1.3 in c:\\programdata\\anaconda3\\envs\\mri_project\\lib\\site-packages (from ipywidgets<8.0.0->itkwidgets) (0.1.3)\n",
      "Requirement already satisfied: jupyterlab-widgets<3,>=1.0.0 in c:\\programdata\\anaconda3\\envs\\mri_project\\lib\\site-packages (from ipywidgets<8.0.0->itkwidgets) (1.1.5)\n",
      "Requirement already satisfied: widgetsnbextension~=3.6.5 in c:\\programdata\\anaconda3\\envs\\mri_project\\lib\\site-packages (from ipywidgets<8.0.0->itkwidgets) (3.6.5)\n",
      "Requirement already satisfied: attrs>=17.4.0 in c:\\programdata\\anaconda3\\envs\\mri_project\\lib\\site-packages (from jsonschema<4.0.0,>=3.2.0->pydicom-seg) (23.1.0)\n",
      "Requirement already satisfied: importlib-metadata in c:\\programdata\\anaconda3\\envs\\mri_project\\lib\\site-packages (from jsonschema<4.0.0,>=3.2.0->pydicom-seg) (6.7.0)\n",
      "Requirement already satisfied: pyrsistent>=0.14.0 in c:\\programdata\\anaconda3\\envs\\mri_project\\lib\\site-packages (from jsonschema<4.0.0,>=3.2.0->pydicom-seg) (0.19.3)\n",
      "Requirement already satisfied: jupyter-core>=4.6.1 in c:\\programdata\\anaconda3\\envs\\mri_project\\lib\\site-packages (from notebook<6.5.0->itkwidgets) (4.12.0)\n",
      "Requirement already satisfied: prometheus-client in c:\\programdata\\anaconda3\\envs\\mri_project\\lib\\site-packages (from notebook<6.5.0->itkwidgets) (0.17.1)\n",
      "Requirement already satisfied: nbconvert>=5 in c:\\programdata\\anaconda3\\envs\\mri_project\\lib\\site-packages (from notebook<6.5.0->itkwidgets) (7.6.0)\n",
      "Requirement already satisfied: Send2Trash>=1.8.0 in c:\\programdata\\anaconda3\\envs\\mri_project\\lib\\site-packages (from notebook<6.5.0->itkwidgets) (1.8.2)\n",
      "Requirement already satisfied: jinja2 in c:\\programdata\\anaconda3\\envs\\mri_project\\lib\\site-packages (from notebook<6.5.0->itkwidgets) (3.1.2)\n",
      "Requirement already satisfied: ipykernel in c:\\programdata\\anaconda3\\envs\\mri_project\\lib\\site-packages (from notebook<6.5.0->itkwidgets) (6.16.2)\n",
      "Requirement already satisfied: nest-asyncio>=1.5 in c:\\programdata\\anaconda3\\envs\\mri_project\\lib\\site-packages (from notebook<6.5.0->itkwidgets) (1.5.6)\n",
      "Requirement already satisfied: argon2-cffi in c:\\programdata\\anaconda3\\envs\\mri_project\\lib\\site-packages (from notebook<6.5.0->itkwidgets) (21.3.0)\n",
      "Requirement already satisfied: pyzmq>=17 in c:\\programdata\\anaconda3\\envs\\mri_project\\lib\\site-packages (from notebook<6.5.0->itkwidgets) (25.1.0)\n",
      "Requirement already satisfied: nbformat in c:\\programdata\\anaconda3\\envs\\mri_project\\lib\\site-packages (from notebook<6.5.0->itkwidgets) (5.8.0)\n",
      "Requirement already satisfied: terminado>=0.8.3 in c:\\programdata\\anaconda3\\envs\\mri_project\\lib\\site-packages (from notebook<6.5.0->itkwidgets) (0.17.1)\n",
      "Requirement already satisfied: jupyter-client>=5.3.4 in c:\\programdata\\anaconda3\\envs\\mri_project\\lib\\site-packages (from notebook<6.5.0->itkwidgets) (7.4.9)\n",
      "Requirement already satisfied: tornado>=6.1 in c:\\programdata\\anaconda3\\envs\\mri_project\\lib\\site-packages (from notebook<6.5.0->itkwidgets) (6.2)\n",
      "Requirement already satisfied: pytz>=2017.3 in c:\\programdata\\anaconda3\\envs\\mri_project\\lib\\site-packages (from pandas>=1.1.5->NiLearn) (2023.3)\n",
      "Requirement already satisfied: idna<4,>=2.5 in c:\\programdata\\anaconda3\\envs\\mri_project\\lib\\site-packages (from requests>=2.25.0->NiLearn) (3.4)\n",
      "Requirement already satisfied: certifi>=2017.4.17 in c:\\programdata\\anaconda3\\envs\\mri_project\\lib\\site-packages (from requests>=2.25.0->NiLearn) (2023.5.7)\n",
      "Requirement already satisfied: charset-normalizer<4,>=2 in c:\\programdata\\anaconda3\\envs\\mri_project\\lib\\site-packages (from requests>=2.25.0->NiLearn) (3.1.0)\n",
      "Requirement already satisfied: urllib3<3,>=1.21.1 in c:\\programdata\\anaconda3\\envs\\mri_project\\lib\\site-packages (from requests>=2.25.0->NiLearn) (2.0.3)\n",
      "Requirement already satisfied: threadpoolctl>=2.0.0 in c:\\programdata\\anaconda3\\envs\\mri_project\\lib\\site-packages (from scikit-learn>=1.0.0->NiLearn) (3.1.0)\n",
      "Requirement already satisfied: pyct>=0.4.4 in c:\\programdata\\anaconda3\\envs\\mri_project\\lib\\site-packages (from colorcet->itkwidgets) (0.5.0)\n",
      "Requirement already satisfied: docopt>=0.6.2 in c:\\programdata\\anaconda3\\envs\\mri_project\\lib\\site-packages (from pykwalify->pyradiomics) (0.6.2)\n",
      "Requirement already satisfied: ruamel.yaml>=0.16.0 in c:\\programdata\\anaconda3\\envs\\mri_project\\lib\\site-packages (from pykwalify->pyradiomics) (0.17.32)\n",
      "Requirement already satisfied: pygments in c:\\programdata\\anaconda3\\envs\\mri_project\\lib\\site-packages (from ipython<9->ipympl>=0.4.1->itkwidgets) (2.15.1)\n",
      "Requirement already satisfied: jedi>=0.16 in c:\\programdata\\anaconda3\\envs\\mri_project\\lib\\site-packages (from ipython<9->ipympl>=0.4.1->itkwidgets) (0.18.2)\n",
      "Requirement already satisfied: backcall in c:\\programdata\\anaconda3\\envs\\mri_project\\lib\\site-packages (from ipython<9->ipympl>=0.4.1->itkwidgets) (0.2.0)\n",
      "Requirement already satisfied: colorama in c:\\programdata\\anaconda3\\envs\\mri_project\\lib\\site-packages (from ipython<9->ipympl>=0.4.1->itkwidgets) (0.4.6)\n",
      "Requirement already satisfied: pickleshare in c:\\programdata\\anaconda3\\envs\\mri_project\\lib\\site-packages (from ipython<9->ipympl>=0.4.1->itkwidgets) (0.7.5)\n",
      "Requirement already satisfied: decorator in c:\\programdata\\anaconda3\\envs\\mri_project\\lib\\site-packages (from ipython<9->ipympl>=0.4.1->itkwidgets) (5.1.1)\n",
      "Requirement already satisfied: matplotlib-inline in c:\\programdata\\anaconda3\\envs\\mri_project\\lib\\site-packages (from ipython<9->ipympl>=0.4.1->itkwidgets) (0.1.6)\n",
      "Requirement already satisfied: prompt-toolkit!=3.0.0,!=3.0.1,<3.1.0,>=2.0.0 in c:\\programdata\\anaconda3\\envs\\mri_project\\lib\\site-packages (from ipython<9->ipympl>=0.4.1->itkwidgets) (3.0.38)\n",
      "Requirement already satisfied: entrypoints in c:\\programdata\\anaconda3\\envs\\mri_project\\lib\\site-packages (from jupyter-client>=5.3.4->notebook<6.5.0->itkwidgets) (0.4)\n",
      "Requirement already satisfied: pywin32>=1.0 in c:\\programdata\\anaconda3\\envs\\mri_project\\lib\\site-packages (from jupyter-core>=4.6.1->notebook<6.5.0->itkwidgets) (306)\n",
      "Requirement already satisfied: defusedxml in c:\\programdata\\anaconda3\\envs\\mri_project\\lib\\site-packages (from nbconvert>=5->notebook<6.5.0->itkwidgets) (0.7.1)\n",
      "Requirement already satisfied: bleach!=5.0.0 in c:\\programdata\\anaconda3\\envs\\mri_project\\lib\\site-packages (from nbconvert>=5->notebook<6.5.0->itkwidgets) (6.0.0)\n",
      "Requirement already satisfied: jupyterlab-pygments in c:\\programdata\\anaconda3\\envs\\mri_project\\lib\\site-packages (from nbconvert>=5->notebook<6.5.0->itkwidgets) (0.2.2)\n",
      "Requirement already satisfied: pandocfilters>=1.4.1 in c:\\programdata\\anaconda3\\envs\\mri_project\\lib\\site-packages (from nbconvert>=5->notebook<6.5.0->itkwidgets) (1.5.0)\n",
      "Requirement already satisfied: beautifulsoup4 in c:\\programdata\\anaconda3\\envs\\mri_project\\lib\\site-packages (from nbconvert>=5->notebook<6.5.0->itkwidgets) (4.12.2)\n",
      "Requirement already satisfied: tinycss2 in c:\\programdata\\anaconda3\\envs\\mri_project\\lib\\site-packages (from nbconvert>=5->notebook<6.5.0->itkwidgets) (1.2.1)\n",
      "Requirement already satisfied: markupsafe>=2.0 in c:\\programdata\\anaconda3\\envs\\mri_project\\lib\\site-packages (from nbconvert>=5->notebook<6.5.0->itkwidgets) (2.1.3)\n",
      "Requirement already satisfied: nbclient>=0.5.0 in c:\\programdata\\anaconda3\\envs\\mri_project\\lib\\site-packages (from nbconvert>=5->notebook<6.5.0->itkwidgets) (0.7.4)\n",
      "Requirement already satisfied: mistune<4,>=2.0.3 in c:\\programdata\\anaconda3\\envs\\mri_project\\lib\\site-packages (from nbconvert>=5->notebook<6.5.0->itkwidgets) (3.0.1)\n",
      "Requirement already satisfied: zipp>=0.5 in c:\\programdata\\anaconda3\\envs\\mri_project\\lib\\site-packages (from importlib-metadata->jsonschema<4.0.0,>=3.2.0->pydicom-seg) (3.15.0)\n",
      "Requirement already satisfied: fastjsonschema in c:\\programdata\\anaconda3\\envs\\mri_project\\lib\\site-packages (from nbformat->notebook<6.5.0->itkwidgets) (2.18.0)\n",
      "Requirement already satisfied: param>=1.7.0 in c:\\programdata\\anaconda3\\envs\\mri_project\\lib\\site-packages (from pyct>=0.4.4->colorcet->itkwidgets) (1.13.0)\n",
      "Requirement already satisfied: ruamel.yaml.clib>=0.2.7 in c:\\programdata\\anaconda3\\envs\\mri_project\\lib\\site-packages (from ruamel.yaml>=0.16.0->pykwalify->pyradiomics) (0.2.7)\n",
      "Requirement already satisfied: pywinpty>=1.1.0 in c:\\programdata\\anaconda3\\envs\\mri_project\\lib\\site-packages (from terminado>=0.8.3->notebook<6.5.0->itkwidgets) (2.0.10)\n",
      "Requirement already satisfied: argon2-cffi-bindings in c:\\programdata\\anaconda3\\envs\\mri_project\\lib\\site-packages (from argon2-cffi->notebook<6.5.0->itkwidgets) (21.2.0)\n",
      "Requirement already satisfied: debugpy>=1.0 in c:\\programdata\\anaconda3\\envs\\mri_project\\lib\\site-packages (from ipykernel->notebook<6.5.0->itkwidgets) (1.6.7)\n",
      "Requirement already satisfied: psutil in c:\\programdata\\anaconda3\\envs\\mri_project\\lib\\site-packages (from ipykernel->notebook<6.5.0->itkwidgets) (5.9.5)\n",
      "Requirement already satisfied: webencodings in c:\\programdata\\anaconda3\\envs\\mri_project\\lib\\site-packages (from bleach!=5.0.0->nbconvert>=5->notebook<6.5.0->itkwidgets) (0.5.1)\n",
      "Requirement already satisfied: parso<0.9.0,>=0.8.0 in c:\\programdata\\anaconda3\\envs\\mri_project\\lib\\site-packages (from jedi>=0.16->ipython<9->ipympl>=0.4.1->itkwidgets) (0.8.3)\n",
      "Requirement already satisfied: wcwidth in c:\\programdata\\anaconda3\\envs\\mri_project\\lib\\site-packages (from prompt-toolkit!=3.0.0,!=3.0.1,<3.1.0,>=2.0.0->ipython<9->ipympl>=0.4.1->itkwidgets) (0.2.6)\n",
      "Requirement already satisfied: cffi>=1.0.1 in c:\\programdata\\anaconda3\\envs\\mri_project\\lib\\site-packages (from argon2-cffi-bindings->argon2-cffi->notebook<6.5.0->itkwidgets) (1.15.1)\n",
      "Requirement already satisfied: soupsieve>1.2 in c:\\programdata\\anaconda3\\envs\\mri_project\\lib\\site-packages (from beautifulsoup4->nbconvert>=5->notebook<6.5.0->itkwidgets) (2.4.1)\n",
      "Requirement already satisfied: pycparser in c:\\programdata\\anaconda3\\envs\\mri_project\\lib\\site-packages (from cffi>=1.0.1->argon2-cffi-bindings->argon2-cffi->notebook<6.5.0->itkwidgets) (2.21)\n",
      "Note: you may need to restart the kernel to use updated packages.\n"
     ]
    }
   ],
   "source": [
    "%pip install pyradiomics dicom_numpy pydicom plotly matplotlib scikit-image simpleITK pynrrd dicom2nifti NiBabel NiLearn openpyxl pydicom-seg itkwidgets"
   ]
  },
  {
   "cell_type": "code",
   "execution_count": 2,
   "metadata": {},
   "outputs": [
    {
     "name": "stderr",
     "output_type": "stream",
     "text": [
      "c:\\ProgramData\\Anaconda3\\envs\\mri_project\\lib\\site-packages\\nilearn\\__init__.py:67: FutureWarning: Python 3.7 support is deprecated and will be removed in release 0.12 of Nilearn. Consider switching to Python 3.9 or 3.10.\n",
      "  _python_deprecation_warnings()\n"
     ]
    }
   ],
   "source": [
    "import pandas as pd\n",
    "import numpy as np\n",
    "import matplotlib.pyplot as plt\n",
    "from matplotlib.widgets import Button, Slider\n",
    "from matplotlib import patches, text, patheffects\n",
    "\n",
    "import dicom_numpy\n",
    "import pydicom as dicom\n",
    "\n",
    "import dicom2nifti\n",
    "import nibabel as nib\n",
    "import nilearn as nil\n",
    "import scipy.ndimage as ndi\n",
    "import SimpleITK as sitk\n",
    "import os\n",
    "\n",
    "from radiomics import featureextractor\n",
    "\n",
    "import re\n",
    "from tqdm import tqdm\n",
    "import itertools\n",
    "from functools import wraps\n",
    "import ipywidgets\n",
    "\n",
    "tqdm.pandas()"
   ]
  },
  {
   "cell_type": "code",
   "execution_count": 3,
   "metadata": {},
   "outputs": [],
   "source": [
    "DATASET_PATH = '../../Simple Path Dataset/manifest-1654812109500/'\n",
    "\n",
    "SAVE_PATH = '../../Pre_minus_post'\n",
    "\n",
    "os.makedirs(SAVE_PATH, exist_ok=True)"
   ]
  },
  {
   "cell_type": "code",
   "execution_count": 4,
   "metadata": {},
   "outputs": [],
   "source": [
    "annotation_boxes = pd.read_excel(\"../../Simple Path Dataset/Annotation_Boxes.xlsx\").set_index(\"Patient ID\")\n",
    "\n",
    "dataset = pd.read_excel('../../Simple Path Dataset/Breast-Cancer-MRI-filepath_filename-mapping.xlsx')\n",
    "\n",
    "dataset = dataset.iloc[:, :4]"
   ]
  },
  {
   "cell_type": "code",
   "execution_count": 5,
   "metadata": {},
   "outputs": [
    {
     "data": {
      "text/html": [
       "<div>\n",
       "<style scoped>\n",
       "    .dataframe tbody tr th:only-of-type {\n",
       "        vertical-align: middle;\n",
       "    }\n",
       "\n",
       "    .dataframe tbody tr th {\n",
       "        vertical-align: top;\n",
       "    }\n",
       "\n",
       "    .dataframe thead th {\n",
       "        text-align: right;\n",
       "    }\n",
       "</style>\n",
       "<table border=\"1\" class=\"dataframe\">\n",
       "  <thead>\n",
       "    <tr style=\"text-align: right;\">\n",
       "      <th></th>\n",
       "      <th>sop_instance_UID</th>\n",
       "      <th>original_path_and_filename</th>\n",
       "      <th>classic_path</th>\n",
       "      <th>descriptive_path</th>\n",
       "    </tr>\n",
       "  </thead>\n",
       "  <tbody>\n",
       "    <tr>\n",
       "      <th>0</th>\n",
       "      <td>1.3.6.1.4.1.14519.5.2.1.1805789812895034139917...</td>\n",
       "      <td>DICOM_Images/Breast_MRI_001/post_1/Breast_MRI_...</td>\n",
       "      <td>Duke-Breast-Cancer-MRI/Breast_MRI_001/1.3.6.1....</td>\n",
       "      <td>Duke-Breast-Cancer-MRI/BreastMRI001/01-01-1990...</td>\n",
       "    </tr>\n",
       "    <tr>\n",
       "      <th>1</th>\n",
       "      <td>1.3.6.1.4.1.14519.5.2.1.4903237729147735321973...</td>\n",
       "      <td>DICOM_Images/Breast_MRI_001/post_1/Breast_MRI_...</td>\n",
       "      <td>Duke-Breast-Cancer-MRI/Breast_MRI_001/1.3.6.1....</td>\n",
       "      <td>Duke-Breast-Cancer-MRI/BreastMRI001/01-01-1990...</td>\n",
       "    </tr>\n",
       "    <tr>\n",
       "      <th>2</th>\n",
       "      <td>1.3.6.1.4.1.14519.5.2.1.3061160038794820079325...</td>\n",
       "      <td>DICOM_Images/Breast_MRI_001/post_1/Breast_MRI_...</td>\n",
       "      <td>Duke-Breast-Cancer-MRI/Breast_MRI_001/1.3.6.1....</td>\n",
       "      <td>Duke-Breast-Cancer-MRI/BreastMRI001/01-01-1990...</td>\n",
       "    </tr>\n",
       "    <tr>\n",
       "      <th>3</th>\n",
       "      <td>1.3.6.1.4.1.14519.5.2.1.1574717199045785031549...</td>\n",
       "      <td>DICOM_Images/Breast_MRI_001/post_1/Breast_MRI_...</td>\n",
       "      <td>Duke-Breast-Cancer-MRI/Breast_MRI_001/1.3.6.1....</td>\n",
       "      <td>Duke-Breast-Cancer-MRI/BreastMRI001/01-01-1990...</td>\n",
       "    </tr>\n",
       "    <tr>\n",
       "      <th>4</th>\n",
       "      <td>1.3.6.1.4.1.14519.5.2.1.2594404476894572978078...</td>\n",
       "      <td>DICOM_Images/Breast_MRI_001/post_1/Breast_MRI_...</td>\n",
       "      <td>Duke-Breast-Cancer-MRI/Breast_MRI_001/1.3.6.1....</td>\n",
       "      <td>Duke-Breast-Cancer-MRI/BreastMRI001/01-01-1990...</td>\n",
       "    </tr>\n",
       "    <tr>\n",
       "      <th>...</th>\n",
       "      <td>...</td>\n",
       "      <td>...</td>\n",
       "      <td>...</td>\n",
       "      <td>...</td>\n",
       "    </tr>\n",
       "    <tr>\n",
       "      <th>773121</th>\n",
       "      <td>1.3.6.1.4.1.14519.5.2.1.2393425910452664915158...</td>\n",
       "      <td>DICOM_Images/Breast_MRI_922/T1/Breast_MRI_922_...</td>\n",
       "      <td>Duke-Breast-Cancer-MRI/Breast_MRI_922/1.3.6.1....</td>\n",
       "      <td>Duke-Breast-Cancer-MRI/BreastMRI922/01-01-1990...</td>\n",
       "    </tr>\n",
       "    <tr>\n",
       "      <th>773122</th>\n",
       "      <td>1.3.6.1.4.1.14519.5.2.1.1921416620775060655567...</td>\n",
       "      <td>DICOM_Images/Breast_MRI_922/T1/Breast_MRI_922_...</td>\n",
       "      <td>Duke-Breast-Cancer-MRI/Breast_MRI_922/1.3.6.1....</td>\n",
       "      <td>Duke-Breast-Cancer-MRI/BreastMRI922/01-01-1990...</td>\n",
       "    </tr>\n",
       "    <tr>\n",
       "      <th>773123</th>\n",
       "      <td>1.3.6.1.4.1.14519.5.2.1.1148085546624000943273...</td>\n",
       "      <td>DICOM_Images/Breast_MRI_922/T1/Breast_MRI_922_...</td>\n",
       "      <td>Duke-Breast-Cancer-MRI/Breast_MRI_922/1.3.6.1....</td>\n",
       "      <td>Duke-Breast-Cancer-MRI/BreastMRI922/01-01-1990...</td>\n",
       "    </tr>\n",
       "    <tr>\n",
       "      <th>773124</th>\n",
       "      <td>1.3.6.1.4.1.14519.5.2.1.1929308890572593698573...</td>\n",
       "      <td>DICOM_Images/Breast_MRI_922/T1/Breast_MRI_922_...</td>\n",
       "      <td>Duke-Breast-Cancer-MRI/Breast_MRI_922/1.3.6.1....</td>\n",
       "      <td>Duke-Breast-Cancer-MRI/BreastMRI922/01-01-1990...</td>\n",
       "    </tr>\n",
       "    <tr>\n",
       "      <th>773125</th>\n",
       "      <td>1.3.6.1.4.1.14519.5.2.1.2873492116527564718135...</td>\n",
       "      <td>DICOM_Images/Breast_MRI_922/T1/Breast_MRI_922_...</td>\n",
       "      <td>Duke-Breast-Cancer-MRI/Breast_MRI_922/1.3.6.1....</td>\n",
       "      <td>Duke-Breast-Cancer-MRI/BreastMRI922/01-01-1990...</td>\n",
       "    </tr>\n",
       "  </tbody>\n",
       "</table>\n",
       "<p>773126 rows × 4 columns</p>\n",
       "</div>"
      ],
      "text/plain": [
       "                                         sop_instance_UID  \\\n",
       "0       1.3.6.1.4.1.14519.5.2.1.1805789812895034139917...   \n",
       "1       1.3.6.1.4.1.14519.5.2.1.4903237729147735321973...   \n",
       "2       1.3.6.1.4.1.14519.5.2.1.3061160038794820079325...   \n",
       "3       1.3.6.1.4.1.14519.5.2.1.1574717199045785031549...   \n",
       "4       1.3.6.1.4.1.14519.5.2.1.2594404476894572978078...   \n",
       "...                                                   ...   \n",
       "773121  1.3.6.1.4.1.14519.5.2.1.2393425910452664915158...   \n",
       "773122  1.3.6.1.4.1.14519.5.2.1.1921416620775060655567...   \n",
       "773123  1.3.6.1.4.1.14519.5.2.1.1148085546624000943273...   \n",
       "773124  1.3.6.1.4.1.14519.5.2.1.1929308890572593698573...   \n",
       "773125  1.3.6.1.4.1.14519.5.2.1.2873492116527564718135...   \n",
       "\n",
       "                               original_path_and_filename  \\\n",
       "0       DICOM_Images/Breast_MRI_001/post_1/Breast_MRI_...   \n",
       "1       DICOM_Images/Breast_MRI_001/post_1/Breast_MRI_...   \n",
       "2       DICOM_Images/Breast_MRI_001/post_1/Breast_MRI_...   \n",
       "3       DICOM_Images/Breast_MRI_001/post_1/Breast_MRI_...   \n",
       "4       DICOM_Images/Breast_MRI_001/post_1/Breast_MRI_...   \n",
       "...                                                   ...   \n",
       "773121  DICOM_Images/Breast_MRI_922/T1/Breast_MRI_922_...   \n",
       "773122  DICOM_Images/Breast_MRI_922/T1/Breast_MRI_922_...   \n",
       "773123  DICOM_Images/Breast_MRI_922/T1/Breast_MRI_922_...   \n",
       "773124  DICOM_Images/Breast_MRI_922/T1/Breast_MRI_922_...   \n",
       "773125  DICOM_Images/Breast_MRI_922/T1/Breast_MRI_922_...   \n",
       "\n",
       "                                             classic_path  \\\n",
       "0       Duke-Breast-Cancer-MRI/Breast_MRI_001/1.3.6.1....   \n",
       "1       Duke-Breast-Cancer-MRI/Breast_MRI_001/1.3.6.1....   \n",
       "2       Duke-Breast-Cancer-MRI/Breast_MRI_001/1.3.6.1....   \n",
       "3       Duke-Breast-Cancer-MRI/Breast_MRI_001/1.3.6.1....   \n",
       "4       Duke-Breast-Cancer-MRI/Breast_MRI_001/1.3.6.1....   \n",
       "...                                                   ...   \n",
       "773121  Duke-Breast-Cancer-MRI/Breast_MRI_922/1.3.6.1....   \n",
       "773122  Duke-Breast-Cancer-MRI/Breast_MRI_922/1.3.6.1....   \n",
       "773123  Duke-Breast-Cancer-MRI/Breast_MRI_922/1.3.6.1....   \n",
       "773124  Duke-Breast-Cancer-MRI/Breast_MRI_922/1.3.6.1....   \n",
       "773125  Duke-Breast-Cancer-MRI/Breast_MRI_922/1.3.6.1....   \n",
       "\n",
       "                                         descriptive_path  \n",
       "0       Duke-Breast-Cancer-MRI/BreastMRI001/01-01-1990...  \n",
       "1       Duke-Breast-Cancer-MRI/BreastMRI001/01-01-1990...  \n",
       "2       Duke-Breast-Cancer-MRI/BreastMRI001/01-01-1990...  \n",
       "3       Duke-Breast-Cancer-MRI/BreastMRI001/01-01-1990...  \n",
       "4       Duke-Breast-Cancer-MRI/BreastMRI001/01-01-1990...  \n",
       "...                                                   ...  \n",
       "773121  Duke-Breast-Cancer-MRI/BreastMRI922/01-01-1990...  \n",
       "773122  Duke-Breast-Cancer-MRI/BreastMRI922/01-01-1990...  \n",
       "773123  Duke-Breast-Cancer-MRI/BreastMRI922/01-01-1990...  \n",
       "773124  Duke-Breast-Cancer-MRI/BreastMRI922/01-01-1990...  \n",
       "773125  Duke-Breast-Cancer-MRI/BreastMRI922/01-01-1990...  \n",
       "\n",
       "[773126 rows x 4 columns]"
      ]
     },
     "execution_count": 5,
     "metadata": {},
     "output_type": "execute_result"
    }
   ],
   "source": [
    "dataset"
   ]
  },
  {
   "cell_type": "code",
   "execution_count": 6,
   "metadata": {},
   "outputs": [
    {
     "data": {
      "text/plain": [
       "['Breast_MRI_001', 'post_1']"
      ]
     },
     "execution_count": 6,
     "metadata": {},
     "output_type": "execute_result"
    }
   ],
   "source": [
    "dataset['original_path_and_filename'][0].split('/')[1:3]"
   ]
  },
  {
   "cell_type": "code",
   "execution_count": 7,
   "metadata": {},
   "outputs": [
    {
     "name": "stderr",
     "output_type": "stream",
     "text": [
      "100%|██████████| 773126/773126 [00:17<00:00, 44850.96it/s] \n"
     ]
    }
   ],
   "source": [
    "dataset[['patient', 'sequence']] = dataset.progress_apply(lambda x: x['original_path_and_filename'].split('/')[1:3], result_type = 'expand', axis = 1)"
   ]
  },
  {
   "cell_type": "code",
   "execution_count": 8,
   "metadata": {},
   "outputs": [],
   "source": [
    "dataset = dataset[dataset['sequence'].isin(['pre', 'post_1'])].reset_index(drop = True)\n",
    "dataset['slice_number'] = dataset['classic_path'].apply(lambda x: x.split('/')[-1].split('-')[-1].replace('.dcm', \"\"))"
   ]
  },
  {
   "cell_type": "code",
   "execution_count": 9,
   "metadata": {},
   "outputs": [
    {
     "data": {
      "text/html": [
       "<div>\n",
       "<style scoped>\n",
       "    .dataframe tbody tr th:only-of-type {\n",
       "        vertical-align: middle;\n",
       "    }\n",
       "\n",
       "    .dataframe tbody tr th {\n",
       "        vertical-align: top;\n",
       "    }\n",
       "\n",
       "    .dataframe thead th {\n",
       "        text-align: right;\n",
       "    }\n",
       "</style>\n",
       "<table border=\"1\" class=\"dataframe\">\n",
       "  <thead>\n",
       "    <tr style=\"text-align: right;\">\n",
       "      <th></th>\n",
       "      <th>sop_instance_UID</th>\n",
       "      <th>original_path_and_filename</th>\n",
       "      <th>classic_path</th>\n",
       "      <th>descriptive_path</th>\n",
       "      <th>patient</th>\n",
       "      <th>sequence</th>\n",
       "      <th>slice_number</th>\n",
       "    </tr>\n",
       "  </thead>\n",
       "  <tbody>\n",
       "    <tr>\n",
       "      <th>0</th>\n",
       "      <td>1.3.6.1.4.1.14519.5.2.1.1805789812895034139917...</td>\n",
       "      <td>DICOM_Images/Breast_MRI_001/post_1/Breast_MRI_...</td>\n",
       "      <td>Duke-Breast-Cancer-MRI/Breast_MRI_001/1.3.6.1....</td>\n",
       "      <td>Duke-Breast-Cancer-MRI/BreastMRI001/01-01-1990...</td>\n",
       "      <td>Breast_MRI_001</td>\n",
       "      <td>post_1</td>\n",
       "      <td>001</td>\n",
       "    </tr>\n",
       "    <tr>\n",
       "      <th>1</th>\n",
       "      <td>1.3.6.1.4.1.14519.5.2.1.4903237729147735321973...</td>\n",
       "      <td>DICOM_Images/Breast_MRI_001/post_1/Breast_MRI_...</td>\n",
       "      <td>Duke-Breast-Cancer-MRI/Breast_MRI_001/1.3.6.1....</td>\n",
       "      <td>Duke-Breast-Cancer-MRI/BreastMRI001/01-01-1990...</td>\n",
       "      <td>Breast_MRI_001</td>\n",
       "      <td>post_1</td>\n",
       "      <td>002</td>\n",
       "    </tr>\n",
       "    <tr>\n",
       "      <th>2</th>\n",
       "      <td>1.3.6.1.4.1.14519.5.2.1.3061160038794820079325...</td>\n",
       "      <td>DICOM_Images/Breast_MRI_001/post_1/Breast_MRI_...</td>\n",
       "      <td>Duke-Breast-Cancer-MRI/Breast_MRI_001/1.3.6.1....</td>\n",
       "      <td>Duke-Breast-Cancer-MRI/BreastMRI001/01-01-1990...</td>\n",
       "      <td>Breast_MRI_001</td>\n",
       "      <td>post_1</td>\n",
       "      <td>003</td>\n",
       "    </tr>\n",
       "    <tr>\n",
       "      <th>3</th>\n",
       "      <td>1.3.6.1.4.1.14519.5.2.1.1574717199045785031549...</td>\n",
       "      <td>DICOM_Images/Breast_MRI_001/post_1/Breast_MRI_...</td>\n",
       "      <td>Duke-Breast-Cancer-MRI/Breast_MRI_001/1.3.6.1....</td>\n",
       "      <td>Duke-Breast-Cancer-MRI/BreastMRI001/01-01-1990...</td>\n",
       "      <td>Breast_MRI_001</td>\n",
       "      <td>post_1</td>\n",
       "      <td>004</td>\n",
       "    </tr>\n",
       "    <tr>\n",
       "      <th>4</th>\n",
       "      <td>1.3.6.1.4.1.14519.5.2.1.2594404476894572978078...</td>\n",
       "      <td>DICOM_Images/Breast_MRI_001/post_1/Breast_MRI_...</td>\n",
       "      <td>Duke-Breast-Cancer-MRI/Breast_MRI_001/1.3.6.1....</td>\n",
       "      <td>Duke-Breast-Cancer-MRI/BreastMRI001/01-01-1990...</td>\n",
       "      <td>Breast_MRI_001</td>\n",
       "      <td>post_1</td>\n",
       "      <td>005</td>\n",
       "    </tr>\n",
       "    <tr>\n",
       "      <th>...</th>\n",
       "      <td>...</td>\n",
       "      <td>...</td>\n",
       "      <td>...</td>\n",
       "      <td>...</td>\n",
       "      <td>...</td>\n",
       "      <td>...</td>\n",
       "      <td>...</td>\n",
       "    </tr>\n",
       "    <tr>\n",
       "      <th>314391</th>\n",
       "      <td>1.3.6.1.4.1.14519.5.2.1.1620326542824048399612...</td>\n",
       "      <td>DICOM_Images/Breast_MRI_922/pre/Breast_MRI_922...</td>\n",
       "      <td>Duke-Breast-Cancer-MRI/Breast_MRI_922/1.3.6.1....</td>\n",
       "      <td>Duke-Breast-Cancer-MRI/BreastMRI922/01-01-1990...</td>\n",
       "      <td>Breast_MRI_922</td>\n",
       "      <td>pre</td>\n",
       "      <td>170</td>\n",
       "    </tr>\n",
       "    <tr>\n",
       "      <th>314392</th>\n",
       "      <td>1.3.6.1.4.1.14519.5.2.1.1729373208009133770295...</td>\n",
       "      <td>DICOM_Images/Breast_MRI_922/pre/Breast_MRI_922...</td>\n",
       "      <td>Duke-Breast-Cancer-MRI/Breast_MRI_922/1.3.6.1....</td>\n",
       "      <td>Duke-Breast-Cancer-MRI/BreastMRI922/01-01-1990...</td>\n",
       "      <td>Breast_MRI_922</td>\n",
       "      <td>pre</td>\n",
       "      <td>171</td>\n",
       "    </tr>\n",
       "    <tr>\n",
       "      <th>314393</th>\n",
       "      <td>1.3.6.1.4.1.14519.5.2.1.1303194464206675272654...</td>\n",
       "      <td>DICOM_Images/Breast_MRI_922/pre/Breast_MRI_922...</td>\n",
       "      <td>Duke-Breast-Cancer-MRI/Breast_MRI_922/1.3.6.1....</td>\n",
       "      <td>Duke-Breast-Cancer-MRI/BreastMRI922/01-01-1990...</td>\n",
       "      <td>Breast_MRI_922</td>\n",
       "      <td>pre</td>\n",
       "      <td>172</td>\n",
       "    </tr>\n",
       "    <tr>\n",
       "      <th>314394</th>\n",
       "      <td>1.3.6.1.4.1.14519.5.2.1.3292134909528830152433...</td>\n",
       "      <td>DICOM_Images/Breast_MRI_922/pre/Breast_MRI_922...</td>\n",
       "      <td>Duke-Breast-Cancer-MRI/Breast_MRI_922/1.3.6.1....</td>\n",
       "      <td>Duke-Breast-Cancer-MRI/BreastMRI922/01-01-1990...</td>\n",
       "      <td>Breast_MRI_922</td>\n",
       "      <td>pre</td>\n",
       "      <td>173</td>\n",
       "    </tr>\n",
       "    <tr>\n",
       "      <th>314395</th>\n",
       "      <td>1.3.6.1.4.1.14519.5.2.1.3201386152243418245484...</td>\n",
       "      <td>DICOM_Images/Breast_MRI_922/pre/Breast_MRI_922...</td>\n",
       "      <td>Duke-Breast-Cancer-MRI/Breast_MRI_922/1.3.6.1....</td>\n",
       "      <td>Duke-Breast-Cancer-MRI/BreastMRI922/01-01-1990...</td>\n",
       "      <td>Breast_MRI_922</td>\n",
       "      <td>pre</td>\n",
       "      <td>174</td>\n",
       "    </tr>\n",
       "  </tbody>\n",
       "</table>\n",
       "<p>314396 rows × 7 columns</p>\n",
       "</div>"
      ],
      "text/plain": [
       "                                         sop_instance_UID  \\\n",
       "0       1.3.6.1.4.1.14519.5.2.1.1805789812895034139917...   \n",
       "1       1.3.6.1.4.1.14519.5.2.1.4903237729147735321973...   \n",
       "2       1.3.6.1.4.1.14519.5.2.1.3061160038794820079325...   \n",
       "3       1.3.6.1.4.1.14519.5.2.1.1574717199045785031549...   \n",
       "4       1.3.6.1.4.1.14519.5.2.1.2594404476894572978078...   \n",
       "...                                                   ...   \n",
       "314391  1.3.6.1.4.1.14519.5.2.1.1620326542824048399612...   \n",
       "314392  1.3.6.1.4.1.14519.5.2.1.1729373208009133770295...   \n",
       "314393  1.3.6.1.4.1.14519.5.2.1.1303194464206675272654...   \n",
       "314394  1.3.6.1.4.1.14519.5.2.1.3292134909528830152433...   \n",
       "314395  1.3.6.1.4.1.14519.5.2.1.3201386152243418245484...   \n",
       "\n",
       "                               original_path_and_filename  \\\n",
       "0       DICOM_Images/Breast_MRI_001/post_1/Breast_MRI_...   \n",
       "1       DICOM_Images/Breast_MRI_001/post_1/Breast_MRI_...   \n",
       "2       DICOM_Images/Breast_MRI_001/post_1/Breast_MRI_...   \n",
       "3       DICOM_Images/Breast_MRI_001/post_1/Breast_MRI_...   \n",
       "4       DICOM_Images/Breast_MRI_001/post_1/Breast_MRI_...   \n",
       "...                                                   ...   \n",
       "314391  DICOM_Images/Breast_MRI_922/pre/Breast_MRI_922...   \n",
       "314392  DICOM_Images/Breast_MRI_922/pre/Breast_MRI_922...   \n",
       "314393  DICOM_Images/Breast_MRI_922/pre/Breast_MRI_922...   \n",
       "314394  DICOM_Images/Breast_MRI_922/pre/Breast_MRI_922...   \n",
       "314395  DICOM_Images/Breast_MRI_922/pre/Breast_MRI_922...   \n",
       "\n",
       "                                             classic_path  \\\n",
       "0       Duke-Breast-Cancer-MRI/Breast_MRI_001/1.3.6.1....   \n",
       "1       Duke-Breast-Cancer-MRI/Breast_MRI_001/1.3.6.1....   \n",
       "2       Duke-Breast-Cancer-MRI/Breast_MRI_001/1.3.6.1....   \n",
       "3       Duke-Breast-Cancer-MRI/Breast_MRI_001/1.3.6.1....   \n",
       "4       Duke-Breast-Cancer-MRI/Breast_MRI_001/1.3.6.1....   \n",
       "...                                                   ...   \n",
       "314391  Duke-Breast-Cancer-MRI/Breast_MRI_922/1.3.6.1....   \n",
       "314392  Duke-Breast-Cancer-MRI/Breast_MRI_922/1.3.6.1....   \n",
       "314393  Duke-Breast-Cancer-MRI/Breast_MRI_922/1.3.6.1....   \n",
       "314394  Duke-Breast-Cancer-MRI/Breast_MRI_922/1.3.6.1....   \n",
       "314395  Duke-Breast-Cancer-MRI/Breast_MRI_922/1.3.6.1....   \n",
       "\n",
       "                                         descriptive_path         patient  \\\n",
       "0       Duke-Breast-Cancer-MRI/BreastMRI001/01-01-1990...  Breast_MRI_001   \n",
       "1       Duke-Breast-Cancer-MRI/BreastMRI001/01-01-1990...  Breast_MRI_001   \n",
       "2       Duke-Breast-Cancer-MRI/BreastMRI001/01-01-1990...  Breast_MRI_001   \n",
       "3       Duke-Breast-Cancer-MRI/BreastMRI001/01-01-1990...  Breast_MRI_001   \n",
       "4       Duke-Breast-Cancer-MRI/BreastMRI001/01-01-1990...  Breast_MRI_001   \n",
       "...                                                   ...             ...   \n",
       "314391  Duke-Breast-Cancer-MRI/BreastMRI922/01-01-1990...  Breast_MRI_922   \n",
       "314392  Duke-Breast-Cancer-MRI/BreastMRI922/01-01-1990...  Breast_MRI_922   \n",
       "314393  Duke-Breast-Cancer-MRI/BreastMRI922/01-01-1990...  Breast_MRI_922   \n",
       "314394  Duke-Breast-Cancer-MRI/BreastMRI922/01-01-1990...  Breast_MRI_922   \n",
       "314395  Duke-Breast-Cancer-MRI/BreastMRI922/01-01-1990...  Breast_MRI_922   \n",
       "\n",
       "       sequence slice_number  \n",
       "0        post_1          001  \n",
       "1        post_1          002  \n",
       "2        post_1          003  \n",
       "3        post_1          004  \n",
       "4        post_1          005  \n",
       "...         ...          ...  \n",
       "314391      pre          170  \n",
       "314392      pre          171  \n",
       "314393      pre          172  \n",
       "314394      pre          173  \n",
       "314395      pre          174  \n",
       "\n",
       "[314396 rows x 7 columns]"
      ]
     },
     "execution_count": 9,
     "metadata": {},
     "output_type": "execute_result"
    }
   ],
   "source": [
    "dataset"
   ]
  },
  {
   "cell_type": "markdown",
   "metadata": {},
   "source": [
    "## Extracting and saving bounding boxes for all patients\n"
   ]
  },
  {
   "cell_type": "code",
   "execution_count": 10,
   "metadata": {},
   "outputs": [],
   "source": [
    "def relu(x):\n",
    "    return np.maximum(x, 0)"
   ]
  },
  {
   "cell_type": "code",
   "execution_count": 11,
   "metadata": {},
   "outputs": [],
   "source": [
    "patients = dataset.patient.unique()"
   ]
  },
  {
   "cell_type": "code",
   "execution_count": 12,
   "metadata": {},
   "outputs": [
    {
     "name": "stderr",
     "output_type": "stream",
     "text": [
      "  0%|          | 0/922 [00:00<?, ?it/s]c:\\ProgramData\\Anaconda3\\envs\\mri_project\\lib\\site-packages\\ipykernel_launcher.py:12: SettingWithCopyWarning: \n",
      "A value is trying to be set on a copy of a slice from a DataFrame.\n",
      "Try using .loc[row_indexer,col_indexer] = value instead\n",
      "\n",
      "See the caveats in the documentation: https://pandas.pydata.org/pandas-docs/stable/user_guide/indexing.html#returning-a-view-versus-a-copy\n",
      "  if sys.path[0] == \"\":\n",
      " 13%|█▎        | 119/922 [00:41<04:22,  3.06it/s]"
     ]
    },
    {
     "name": "stdout",
     "output_type": "stream",
     "text": [
      "\n",
      "ERROR WITH Breast_MRI_120\n",
      "Duke-Breast-Cancer-MRI/Breast_MRI_120/1.3.6.1.4.1.14519.5.2.1.211850134288720912089409947004890026375/1.3.6.1.4.1.14519.5.2.1.182581940488565993251476651992238460998/1-046.dcm\n",
      "Duke-Breast-Cancer-MRI/Breast_MRI_120/1.3.6.1.4.1.14519.5.2.1.211850134288720912089409947004890026375/1.3.6.1.4.1.14519.5.2.1.123737368708979440735273631651698929376/1-046.dcm\n"
     ]
    },
    {
     "name": "stderr",
     "output_type": "stream",
     "text": [
      " 32%|███▏      | 298/922 [01:43<03:30,  2.97it/s]"
     ]
    },
    {
     "name": "stdout",
     "output_type": "stream",
     "text": [
      "\n",
      "ERROR WITH Breast_MRI_299\n",
      "Duke-Breast-Cancer-MRI/Breast_MRI_299/1.3.6.1.4.1.14519.5.2.1.36906871641716161784732996276122626294/1.3.6.1.4.1.14519.5.2.1.218216529583049019480450611266793573286/1-025.dcm\n",
      "Duke-Breast-Cancer-MRI/Breast_MRI_299/1.3.6.1.4.1.14519.5.2.1.36906871641716161784732996276122626294/1.3.6.1.4.1.14519.5.2.1.157193435424726054777601183184809809756/1-025.dcm\n"
     ]
    },
    {
     "name": "stderr",
     "output_type": "stream",
     "text": [
      " 35%|███▍      | 321/922 [01:51<03:08,  3.19it/s]"
     ]
    },
    {
     "name": "stdout",
     "output_type": "stream",
     "text": [
      "\n",
      "ERROR WITH Breast_MRI_322\n",
      "Duke-Breast-Cancer-MRI/Breast_MRI_322/1.3.6.1.4.1.14519.5.2.1.338625350297200923761735193321802470727/1.3.6.1.4.1.14519.5.2.1.282081286432769304844270214499528597592/1-034.dcm\n",
      "Duke-Breast-Cancer-MRI/Breast_MRI_322/1.3.6.1.4.1.14519.5.2.1.338625350297200923761735193321802470727/1.3.6.1.4.1.14519.5.2.1.197023173777356968234266234630287843515/1-034.dcm\n"
     ]
    },
    {
     "name": "stderr",
     "output_type": "stream",
     "text": [
      " 57%|█████▋    | 522/922 [03:00<02:12,  3.01it/s]"
     ]
    },
    {
     "name": "stdout",
     "output_type": "stream",
     "text": [
      "\n",
      "ERROR WITH Breast_MRI_523\n",
      "Duke-Breast-Cancer-MRI/Breast_MRI_523/1.3.6.1.4.1.14519.5.2.1.11017308822949307796032660014238935192/1.3.6.1.4.1.14519.5.2.1.168170467554068644443676328836145375115/1-054.dcm\n",
      "Duke-Breast-Cancer-MRI/Breast_MRI_523/1.3.6.1.4.1.14519.5.2.1.11017308822949307796032660014238935192/1.3.6.1.4.1.14519.5.2.1.260648285196483366850789397380441544150/1-054.dcm\n"
     ]
    },
    {
     "name": "stderr",
     "output_type": "stream",
     "text": [
      " 57%|█████▋    | 530/922 [03:03<02:13,  2.94it/s]"
     ]
    },
    {
     "name": "stdout",
     "output_type": "stream",
     "text": [
      "\n",
      "ERROR WITH Breast_MRI_531\n",
      "Duke-Breast-Cancer-MRI/Breast_MRI_531/1.3.6.1.4.1.14519.5.2.1.201372733599826566732474679291914207860/1.3.6.1.4.1.14519.5.2.1.57311566796756522387600486494802167932/1-041.dcm\n",
      "Duke-Breast-Cancer-MRI/Breast_MRI_531/1.3.6.1.4.1.14519.5.2.1.201372733599826566732474679291914207860/1.3.6.1.4.1.14519.5.2.1.255752875464835086240579216960031087319/1-041.dcm\n"
     ]
    },
    {
     "name": "stderr",
     "output_type": "stream",
     "text": [
      " 60%|█████▉    | 551/922 [03:10<02:04,  2.97it/s]"
     ]
    },
    {
     "name": "stdout",
     "output_type": "stream",
     "text": [
      "\n",
      "ERROR WITH Breast_MRI_552\n",
      "Duke-Breast-Cancer-MRI/Breast_MRI_552/1.3.6.1.4.1.14519.5.2.1.174845088076545969716634725145031158725/1.3.6.1.4.1.14519.5.2.1.194823005214886161706422700524964392967/1-029.dcm\n",
      "Duke-Breast-Cancer-MRI/Breast_MRI_552/1.3.6.1.4.1.14519.5.2.1.174845088076545969716634725145031158725/1.3.6.1.4.1.14519.5.2.1.93508155994445414697644168282975540086/1-029.dcm\n"
     ]
    },
    {
     "name": "stderr",
     "output_type": "stream",
     "text": [
      " 65%|██████▍   | 595/922 [03:28<01:57,  2.79it/s]"
     ]
    },
    {
     "name": "stdout",
     "output_type": "stream",
     "text": [
      "\n",
      "ERROR WITH Breast_MRI_596\n",
      "Duke-Breast-Cancer-MRI/Breast_MRI_596/1.3.6.1.4.1.14519.5.2.1.93837318307687728701534404827837840638/1.3.6.1.4.1.14519.5.2.1.50433126667963956508264790315941584784/1-032.dcm\n",
      "Duke-Breast-Cancer-MRI/Breast_MRI_596/1.3.6.1.4.1.14519.5.2.1.93837318307687728701534404827837840638/1.3.6.1.4.1.14519.5.2.1.301984269451094267320716240972599525201/1-032.dcm\n"
     ]
    },
    {
     "name": "stderr",
     "output_type": "stream",
     "text": [
      " 72%|███████▏  | 663/922 [03:52<01:34,  2.75it/s]"
     ]
    },
    {
     "name": "stdout",
     "output_type": "stream",
     "text": [
      "\n",
      "ERROR WITH Breast_MRI_664\n",
      "Duke-Breast-Cancer-MRI/Breast_MRI_664/1.3.6.1.4.1.14519.5.2.1.339775701669082157410101936483160315281/1.3.6.1.4.1.14519.5.2.1.61148080613468222113465726096477971177/1-032.dcm\n",
      "Duke-Breast-Cancer-MRI/Breast_MRI_664/1.3.6.1.4.1.14519.5.2.1.339775701669082157410101936483160315281/1.3.6.1.4.1.14519.5.2.1.1546218344778795269443644352068850587/1-032.dcm\n"
     ]
    },
    {
     "name": "stderr",
     "output_type": "stream",
     "text": [
      " 80%|███████▉  | 734/922 [04:20<01:03,  2.96it/s]"
     ]
    },
    {
     "name": "stdout",
     "output_type": "stream",
     "text": [
      "\n",
      "ERROR WITH Breast_MRI_735\n",
      "Duke-Breast-Cancer-MRI/Breast_MRI_735/1.3.6.1.4.1.14519.5.2.1.327311599192007168624530991248889156345/1.3.6.1.4.1.14519.5.2.1.339508724343056571555819721389944213778/1-037.dcm\n",
      "Duke-Breast-Cancer-MRI/Breast_MRI_735/1.3.6.1.4.1.14519.5.2.1.327311599192007168624530991248889156345/1.3.6.1.4.1.14519.5.2.1.213081513268430536642751565464330278570/1-037.dcm\n"
     ]
    },
    {
     "name": "stderr",
     "output_type": "stream",
     "text": [
      " 93%|█████████▎| 862/922 [05:04<00:20,  2.93it/s]"
     ]
    },
    {
     "name": "stdout",
     "output_type": "stream",
     "text": [
      "\n",
      "ERROR WITH Breast_MRI_863\n",
      "Duke-Breast-Cancer-MRI/Breast_MRI_863/1.3.6.1.4.1.14519.5.2.1.14693917311997896050005042418199958786/1.3.6.1.4.1.14519.5.2.1.181295351944923651503104313786928244114/1-043.dcm\n",
      "Duke-Breast-Cancer-MRI/Breast_MRI_863/1.3.6.1.4.1.14519.5.2.1.14693917311997896050005042418199958786/1.3.6.1.4.1.14519.5.2.1.167862497583042435511519403145811775877/1-043.dcm\n"
     ]
    },
    {
     "name": "stderr",
     "output_type": "stream",
     "text": [
      " 98%|█████████▊| 905/922 [05:22<00:08,  2.11it/s]"
     ]
    },
    {
     "name": "stdout",
     "output_type": "stream",
     "text": [
      "\n",
      "ERROR WITH Breast_MRI_906\n",
      "Duke-Breast-Cancer-MRI/Breast_MRI_906/1.3.6.1.4.1.14519.5.2.1.219026347972697075635085423072976723322/1.3.6.1.4.1.14519.5.2.1.218315360971086161626572686172618858161/1-035.dcm\n",
      "Duke-Breast-Cancer-MRI/Breast_MRI_906/1.3.6.1.4.1.14519.5.2.1.219026347972697075635085423072976723322/1.3.6.1.4.1.14519.5.2.1.57685914747423128458494088294665709813/1-035.dcm\n"
     ]
    },
    {
     "name": "stderr",
     "output_type": "stream",
     "text": [
      "100%|██████████| 922/922 [05:28<00:00,  2.81it/s]\n"
     ]
    }
   ],
   "source": [
    "os.makedirs(SAVE_PATH, exist_ok= True)\n",
    "\n",
    "errorfiles = []\n",
    "\n",
    "for patient_id in tqdm(patients):\n",
    "\n",
    "    # making directory for patient\n",
    "    # patient_dir = os.path.join(SAVE_PATH, patient_id)\n",
    "    # os.makedirs(patient_dir, exist_ok= True)\n",
    "\n",
    "    patient_1 = dataset[dataset['patient'] == patient_id]\n",
    "    patient_1['slice_number'] = patient_1['slice_number'].astype('int')\n",
    "    patient_1_pre = patient_1[patient_1.sequence == 'pre'].reset_index(drop = True).set_index('slice_number')\n",
    "    patient_1_post = patient_1[patient_1.sequence == 'post_1'].reset_index(drop = True).set_index('slice_number')\n",
    "\n",
    "\n",
    "    # getting bounding boxes\n",
    "    x = annotation_boxes.loc[patient_id]\n",
    "    row1 = x['Start Row']\n",
    "    row2 = x['End Row']\n",
    "\n",
    "    col1 = x['Start Column']\n",
    "    col2 = x['End Column']\n",
    "\n",
    "    slice1 = x['Start Slice']\n",
    "    slice2 = x['End Slice']\n",
    "\n",
    "    # middle slice\n",
    "    mid_slice = (slice1 + slice2)//2                                     # num slices - current slice\n",
    "\n",
    "    dicom_pre_path = patient_1_pre.loc[mid_slice].classic_path                              # read dicom slice for precontrast\n",
    "    dicom_post_path = patient_1_post.loc[mid_slice].classic_path                            # read dicom slice for postcontrast\n",
    "\n",
    "    try:\n",
    "        precontrast_data = dicom.read_file(DATASET_PATH + dicom_pre_path).pixel_array               #get pixel data for precontrast\n",
    "        postcontrast_data = dicom.read_file(DATASET_PATH + dicom_post_path).pixel_array             #get pixel data for postcontrast\n",
    "    \n",
    "    except:\n",
    "        print(\"\\nERROR WITH {}\".format(patient_id))\n",
    "        print(dicom_pre_path)\n",
    "        print(dicom_post_path)\n",
    "\n",
    "        errorfiles.append([patient_id, dicom_pre_path, dicom_post_path])\n",
    "\n",
    "    # precontrast_data = relu(precontrast_data)                                                   # apply relu here (can comment out)\n",
    "    # postcontrast_data = relu(postcontrast_data)                                                 # apply relu here (can comment out)\n",
    "\n",
    "    post_minus_pre = postcontrast_data - precontrast_data                                       # differenced\n",
    "    pre_minus_post = precontrast_data - postcontrast_data                                       # differenced\n",
    "\n",
    "    fig, ax = plt.subplots(1, 4, figsize = (27, 9))                                             # plotting\n",
    "\n",
    "\n",
    "    # precontrast\n",
    "    fig.suptitle(\"{}\\n\\n{}, Slice Number: {}\\nThe red box denotes the bounding box for the tumour as per the dataset\".format(patient_id, 'Middle Slice', mid_slice))\n",
    "    ax[0].imshow(precontrast_data, cmap = 'gray')\n",
    "    ax[0].set_title(\"Precontrast\")\n",
    "    ax[0].add_patch(patches.Rectangle((col1, row1), col2-col1, row2-row1, fill = False, edgecolor = 'red', lw = 2))\n",
    "\n",
    "    # postcontrast\n",
    "    ax[1].imshow(postcontrast_data, cmap = 'gray')\n",
    "    ax[1].set_title(\"Postcontrast-1\")\n",
    "    ax[1].add_patch(patches.Rectangle((col1, row1), col2-col1, row2-row1, fill = False, edgecolor = 'red', lw = 2))\n",
    "\n",
    "    # difference\n",
    "    ax[2].imshow(post_minus_pre, cmap = 'gray')\n",
    "    ax[2].set_title(\"Differenced: Postcontrast1 - Precontrast\")\n",
    "    ax[2].add_patch(patches.Rectangle((col1, row1), col2-col1, row2-row1, fill = False, edgecolor = 'red', lw = 2))\n",
    "\n",
    "    ax[3].imshow(pre_minus_post, cmap = 'gray')\n",
    "    ax[3].set_title(\"Differenced: Precontrast - Postcontrast1\")\n",
    "    ax[3].add_patch(patches.Rectangle((col1, row1), col2-col1, row2-row1, fill = False, edgecolor = 'red', lw = 2))\n",
    "\n",
    "\n",
    "\n",
    "    # saving\n",
    "    final_path = os.path.join(SAVE_PATH,  f\"{patient_id}.png\")\n",
    "    fig.savefig(final_path, facecolor = 'white')\n",
    "\n",
    "\n",
    "    plt.close()"
   ]
  },
  {
   "cell_type": "markdown",
   "metadata": {},
   "source": [
    "## Erroneous cases"
   ]
  },
  {
   "cell_type": "code",
   "execution_count": 13,
   "metadata": {},
   "outputs": [],
   "source": [
    "erroneous = pd.DataFrame(errorfiles, columns = ['patient_id', 'precontrast', 'postcontrast']).drop_duplicates()"
   ]
  },
  {
   "cell_type": "code",
   "execution_count": 14,
   "metadata": {},
   "outputs": [
    {
     "data": {
      "text/plain": [
       "['1', '046.dcm']"
      ]
     },
     "execution_count": 14,
     "metadata": {},
     "output_type": "execute_result"
    }
   ],
   "source": [
    "erroneous['precontrast'][0].split('/')[-1].split('-')"
   ]
  },
  {
   "cell_type": "markdown",
   "metadata": {},
   "source": [
    "### Loop for erroneous cases"
   ]
  },
  {
   "cell_type": "code",
   "execution_count": 15,
   "metadata": {},
   "outputs": [],
   "source": [
    "def double_digit(path):\n",
    "    '''Function to process sequences with <100 dicom images'''\n",
    "    path = path.split('/')\n",
    "    filename = path[-1].split('-')\n",
    "    filename[1] = filename[1][1:]\n",
    "    filename = '-'.join(filename)\n",
    "    path[-1] = filename\n",
    "    path = '/'.join(path)\n",
    "\n",
    "    return path"
   ]
  },
  {
   "cell_type": "code",
   "execution_count": 16,
   "metadata": {},
   "outputs": [
    {
     "data": {
      "text/plain": [
       "'Duke-Breast-Cancer-MRI/Breast_MRI_120/1.3.6.1.4.1.14519.5.2.1.211850134288720912089409947004890026375/1.3.6.1.4.1.14519.5.2.1.182581940488565993251476651992238460998/1-46.dcm'"
      ]
     },
     "execution_count": 16,
     "metadata": {},
     "output_type": "execute_result"
    }
   ],
   "source": [
    "double_digit(erroneous['precontrast'][0])"
   ]
  },
  {
   "cell_type": "code",
   "execution_count": 17,
   "metadata": {},
   "outputs": [
    {
     "name": "stderr",
     "output_type": "stream",
     "text": [
      "  0%|          | 0/11 [00:00<?, ?it/s]c:\\ProgramData\\Anaconda3\\envs\\mri_project\\lib\\site-packages\\ipykernel_launcher.py:8: SettingWithCopyWarning: \n",
      "A value is trying to be set on a copy of a slice from a DataFrame.\n",
      "Try using .loc[row_indexer,col_indexer] = value instead\n",
      "\n",
      "See the caveats in the documentation: https://pandas.pydata.org/pandas-docs/stable/user_guide/indexing.html#returning-a-view-versus-a-copy\n",
      "  \n",
      "100%|██████████| 11/11 [00:03<00:00,  2.96it/s]\n"
     ]
    }
   ],
   "source": [
    "for patient_id in tqdm(erroneous.patient_id.unique()):\n",
    "\n",
    "    # making directory for patient\n",
    "    # patient_dir = os.path.join(SAVE_PATH, patient_id)\n",
    "    # os.makedirs(patient_dir, exist_ok= True)\n",
    "\n",
    "    patient_1 = dataset[dataset['patient'] == patient_id]\n",
    "    patient_1['slice_number'] = patient_1['slice_number'].astype('int')\n",
    "    patient_1_pre = patient_1[patient_1.sequence == 'pre'].reset_index(drop = True).set_index('slice_number')\n",
    "    patient_1_post = patient_1[patient_1.sequence == 'post_1'].reset_index(drop = True).set_index('slice_number')\n",
    "\n",
    "\n",
    "    # getting bounding boxes\n",
    "    x = annotation_boxes.loc[patient_id]\n",
    "    row1 = x['Start Row']\n",
    "    row2 = x['End Row']\n",
    "\n",
    "    col1 = x['Start Column']\n",
    "    col2 = x['End Column']\n",
    "\n",
    "    slice1 = x['Start Slice']\n",
    "    slice2 = x['End Slice']\n",
    "\n",
    "    # middle slice\n",
    "    mid_slice = (slice1 + slice2)//2                                     # num slices - current slice\n",
    "\n",
    "\n",
    "    slice_name = \" \".join('middle_slice'.split('_')).title()                                       # printing info\n",
    "\n",
    "    dicom_pre_path = patient_1_pre.loc[mid_slice].classic_path                              # read dicom slice for precontrast\n",
    "    dicom_post_path = patient_1_post.loc[mid_slice].classic_path                            # read dicom slice for postcontrast\n",
    "\n",
    "\n",
    "    # CHANGES OVER OLD LOOP\n",
    "    dicom_pre_path = double_digit(dicom_pre_path)\n",
    "    dicom_post_path = double_digit(dicom_post_path)\n",
    "\n",
    "    try:\n",
    "        precontrast_data = dicom.read_file(DATASET_PATH + dicom_pre_path).pixel_array               #get pixel data for precontrast\n",
    "        postcontrast_data = dicom.read_file(DATASET_PATH + dicom_post_path).pixel_array             #get pixel data for postcontrast\n",
    "    \n",
    "    except:\n",
    "        print(\"\\nERROR WITH {}\".format(patient_id))\n",
    "        print(dicom_pre_path)\n",
    "        print(dicom_post_path)\n",
    "\n",
    "        errorfiles.append([patient_id, dicom_pre_path, dicom_post_path])\n",
    "\n",
    "    # precontrast_data = relu(precontrast_data)                                                   # apply relu here (can comment out)\n",
    "    # postcontrast_data = relu(postcontrast_data)                                                 # apply relu here (can comment out)\n",
    "\n",
    "    diff_contrast = postcontrast_data - precontrast_data                                        # differenced\n",
    "\n",
    "    fig, ax = plt.subplots(1, 4, figsize = (27, 9))                                             # plotting\n",
    "\n",
    "\n",
    "    # precontrast\n",
    "    fig.suptitle(\"{}\\n\\n{}, Slice Number: {}\\nThe red box denotes the bounding box for the tumour as per the dataset\".format(patient_id, 'Middle Slice', mid_slice))\n",
    "    ax[0].imshow(precontrast_data, cmap = 'gray')\n",
    "    ax[0].set_title(\"Precontrast\")\n",
    "    ax[0].add_patch(patches.Rectangle((col1, row1), col2-col1, row2-row1, fill = False, edgecolor = 'red', lw = 2))\n",
    "\n",
    "    # postcontrast\n",
    "    ax[1].imshow(postcontrast_data, cmap = 'gray')\n",
    "    ax[1].set_title(\"Postcontrast-1\")\n",
    "    ax[1].add_patch(patches.Rectangle((col1, row1), col2-col1, row2-row1, fill = False, edgecolor = 'red', lw = 2))\n",
    "\n",
    "    # difference\n",
    "    ax[2].imshow(post_minus_pre, cmap = 'gray')\n",
    "    ax[2].set_title(\"Differenced: Postcontrast1 - Precontrast\")\n",
    "    ax[2].add_patch(patches.Rectangle((col1, row1), col2-col1, row2-row1, fill = False, edgecolor = 'red', lw = 2))\n",
    "\n",
    "    ax[3].imshow(pre_minus_post, cmap = 'gray')\n",
    "    ax[3].set_title(\"Differenced: Precontrast - Postcontrast1\")\n",
    "    ax[3].add_patch(patches.Rectangle((col1, row1), col2-col1, row2-row1, fill = False, edgecolor = 'red', lw = 2))\n",
    "\n",
    "\n",
    "\n",
    "    # saving\n",
    "    final_path = os.path.join(SAVE_PATH,  f\"{patient_id}.png\")\n",
    "    fig.savefig(final_path, facecolor = 'white')\n",
    "\n",
    "\n",
    "    plt.close()"
   ]
  }
 ],
 "metadata": {
  "kernelspec": {
   "display_name": "Python 3.7.16 ('mri_project')",
   "language": "python",
   "name": "python3"
  },
  "language_info": {
   "codemirror_mode": {
    "name": "ipython",
    "version": 3
   },
   "file_extension": ".py",
   "mimetype": "text/x-python",
   "name": "python",
   "nbconvert_exporter": "python",
   "pygments_lexer": "ipython3",
   "version": "3.7.16"
  },
  "orig_nbformat": 4,
  "vscode": {
   "interpreter": {
    "hash": "46a30f71ba13f968ce13e2ff6d1c210f2ffd70fd7dc0256e6c75b999f7c20949"
   }
  }
 },
 "nbformat": 4,
 "nbformat_minor": 2
}
