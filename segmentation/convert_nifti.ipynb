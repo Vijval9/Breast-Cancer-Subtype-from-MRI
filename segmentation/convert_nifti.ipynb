{
 "cells": [
  {
   "cell_type": "code",
   "execution_count": 1,
   "metadata": {},
   "outputs": [
    {
     "name": "stdout",
     "output_type": "stream",
     "text": [
      "Requirement already satisfied: radiomics in c:\\programdata\\anaconda3\\envs\\mri_project\\lib\\site-packages (0.1)\n",
      "Requirement already satisfied: dicom_numpy in c:\\programdata\\anaconda3\\envs\\mri_project\\lib\\site-packages (0.6.5)\n",
      "Requirement already satisfied: pydicom in c:\\programdata\\anaconda3\\envs\\mri_project\\lib\\site-packages (2.4.1)\n",
      "Requirement already satisfied: plotly in c:\\programdata\\anaconda3\\envs\\mri_project\\lib\\site-packages (5.15.0)\n",
      "Requirement already satisfied: matplotlib in c:\\programdata\\anaconda3\\envs\\mri_project\\lib\\site-packages (3.5.3)\n",
      "Requirement already satisfied: scikit-image in c:\\programdata\\anaconda3\\envs\\mri_project\\lib\\site-packages (0.19.3)\n",
      "Requirement already satisfied: simpleITK in c:\\programdata\\anaconda3\\envs\\mri_project\\lib\\site-packages (2.2.1)\n",
      "Requirement already satisfied: pynrrd in c:\\programdata\\anaconda3\\envs\\mri_project\\lib\\site-packages (1.0.0)\n",
      "Requirement already satisfied: dicom2nifti in c:\\programdata\\anaconda3\\envs\\mri_project\\lib\\site-packages (2.4.8)\n",
      "Requirement already satisfied: NiBabel in c:\\programdata\\anaconda3\\envs\\mri_project\\lib\\site-packages (4.0.2)\n",
      "Requirement already satisfied: NiLearn in c:\\programdata\\anaconda3\\envs\\mri_project\\lib\\site-packages (0.10.1)\n",
      "Requirement already satisfied: openpyxl in c:\\programdata\\anaconda3\\envs\\mri_project\\lib\\site-packages (3.1.2)\n",
      "Requirement already satisfied: pydicom-seg in c:\\programdata\\anaconda3\\envs\\mri_project\\lib\\site-packages (0.4.1)\n",
      "Requirement already satisfied: tqdm in c:\\programdata\\anaconda3\\envs\\mri_project\\lib\\site-packages (4.65.0)\n",
      "Requirement already satisfied: PyWavelets in c:\\programdata\\anaconda3\\envs\\mri_project\\lib\\site-packages (from radiomics) (1.3.0)\n",
      "Requirement already satisfied: numpy in c:\\programdata\\anaconda3\\envs\\mri_project\\lib\\site-packages (from radiomics) (1.21.5)\n",
      "Requirement already satisfied: scipy in c:\\programdata\\anaconda3\\envs\\mri_project\\lib\\site-packages (from radiomics) (1.7.3)\n",
      "Requirement already satisfied: packaging in c:\\programdata\\anaconda3\\envs\\mri_project\\lib\\site-packages (from plotly) (23.1)\n",
      "Requirement already satisfied: tenacity>=6.2.0 in c:\\programdata\\anaconda3\\envs\\mri_project\\lib\\site-packages (from plotly) (8.2.2)\n",
      "Requirement already satisfied: pyparsing>=2.2.1 in c:\\programdata\\anaconda3\\envs\\mri_project\\lib\\site-packages (from matplotlib) (3.1.0)\n",
      "Requirement already satisfied: cycler>=0.10 in c:\\programdata\\anaconda3\\envs\\mri_project\\lib\\site-packages (from matplotlib) (0.11.0)\n",
      "Requirement already satisfied: kiwisolver>=1.0.1 in c:\\programdata\\anaconda3\\envs\\mri_project\\lib\\site-packages (from matplotlib) (1.4.4)\n",
      "Requirement already satisfied: pillow>=6.2.0 in c:\\programdata\\anaconda3\\envs\\mri_project\\lib\\site-packages (from matplotlib) (9.5.0)\n",
      "Requirement already satisfied: fonttools>=4.22.0 in c:\\programdata\\anaconda3\\envs\\mri_project\\lib\\site-packages (from matplotlib) (4.38.0)\n",
      "Requirement already satisfied: python-dateutil>=2.7 in c:\\programdata\\anaconda3\\envs\\mri_project\\lib\\site-packages (from matplotlib) (2.8.2)\n",
      "Requirement already satisfied: networkx>=2.2 in c:\\programdata\\anaconda3\\envs\\mri_project\\lib\\site-packages (from scikit-image) (2.6.3)\n",
      "Requirement already satisfied: tifffile>=2019.7.26 in c:\\programdata\\anaconda3\\envs\\mri_project\\lib\\site-packages (from scikit-image) (2021.11.2)\n",
      "Requirement already satisfied: imageio>=2.4.1 in c:\\programdata\\anaconda3\\envs\\mri_project\\lib\\site-packages (from scikit-image) (2.31.1)\n",
      "Requirement already satisfied: nptyping in c:\\programdata\\anaconda3\\envs\\mri_project\\lib\\site-packages (from pynrrd) (2.5.0)\n",
      "Requirement already satisfied: typing-extensions in c:\\programdata\\anaconda3\\envs\\mri_project\\lib\\site-packages (from pynrrd) (4.6.3)\n",
      "Requirement already satisfied: python-gdcm in c:\\programdata\\anaconda3\\envs\\mri_project\\lib\\site-packages (from dicom2nifti) (3.0.22)\n",
      "Requirement already satisfied: setuptools in c:\\programdata\\anaconda3\\envs\\mri_project\\lib\\site-packages (from NiBabel) (65.6.3)\n",
      "Requirement already satisfied: requests>=2.25.0 in c:\\programdata\\anaconda3\\envs\\mri_project\\lib\\site-packages (from NiLearn) (2.31.0)\n",
      "Requirement already satisfied: lxml in c:\\programdata\\anaconda3\\envs\\mri_project\\lib\\site-packages (from NiLearn) (4.9.3)\n",
      "Requirement already satisfied: pandas>=1.1.5 in c:\\programdata\\anaconda3\\envs\\mri_project\\lib\\site-packages (from NiLearn) (1.3.5)\n",
      "Requirement already satisfied: joblib>=1.0.0 in c:\\programdata\\anaconda3\\envs\\mri_project\\lib\\site-packages (from NiLearn) (1.3.1)\n",
      "Requirement already satisfied: scikit-learn>=1.0.0 in c:\\programdata\\anaconda3\\envs\\mri_project\\lib\\site-packages (from NiLearn) (1.0.2)\n",
      "Requirement already satisfied: et-xmlfile in c:\\programdata\\anaconda3\\envs\\mri_project\\lib\\site-packages (from openpyxl) (1.1.0)\n",
      "Requirement already satisfied: jsonschema<4.0.0,>=3.2.0 in c:\\programdata\\anaconda3\\envs\\mri_project\\lib\\site-packages (from pydicom-seg) (3.2.0)\n",
      "Requirement already satisfied: colorama in c:\\programdata\\anaconda3\\envs\\mri_project\\lib\\site-packages (from tqdm) (0.4.6)\n",
      "Requirement already satisfied: six>=1.11.0 in c:\\programdata\\anaconda3\\envs\\mri_project\\lib\\site-packages (from jsonschema<4.0.0,>=3.2.0->pydicom-seg) (1.16.0)\n",
      "Requirement already satisfied: pyrsistent>=0.14.0 in c:\\programdata\\anaconda3\\envs\\mri_project\\lib\\site-packages (from jsonschema<4.0.0,>=3.2.0->pydicom-seg) (0.19.3)\n",
      "Requirement already satisfied: attrs>=17.4.0 in c:\\programdata\\anaconda3\\envs\\mri_project\\lib\\site-packages (from jsonschema<4.0.0,>=3.2.0->pydicom-seg) (23.1.0)\n",
      "Requirement already satisfied: importlib-metadata in c:\\programdata\\anaconda3\\envs\\mri_project\\lib\\site-packages (from jsonschema<4.0.0,>=3.2.0->pydicom-seg) (6.7.0)\n",
      "Requirement already satisfied: pytz>=2017.3 in c:\\programdata\\anaconda3\\envs\\mri_project\\lib\\site-packages (from pandas>=1.1.5->NiLearn) (2023.3)\n",
      "Requirement already satisfied: idna<4,>=2.5 in c:\\programdata\\anaconda3\\envs\\mri_project\\lib\\site-packages (from requests>=2.25.0->NiLearn) (3.4)\n",
      "Requirement already satisfied: urllib3<3,>=1.21.1 in c:\\programdata\\anaconda3\\envs\\mri_project\\lib\\site-packages (from requests>=2.25.0->NiLearn) (2.0.3)\n",
      "Requirement already satisfied: certifi>=2017.4.17 in c:\\programdata\\anaconda3\\envs\\mri_project\\lib\\site-packages (from requests>=2.25.0->NiLearn) (2023.5.7)\n",
      "Requirement already satisfied: charset-normalizer<4,>=2 in c:\\programdata\\anaconda3\\envs\\mri_project\\lib\\site-packages (from requests>=2.25.0->NiLearn) (3.1.0)\n",
      "Requirement already satisfied: threadpoolctl>=2.0.0 in c:\\programdata\\anaconda3\\envs\\mri_project\\lib\\site-packages (from scikit-learn>=1.0.0->NiLearn) (3.1.0)\n",
      "Requirement already satisfied: zipp>=0.5 in c:\\programdata\\anaconda3\\envs\\mri_project\\lib\\site-packages (from importlib-metadata->jsonschema<4.0.0,>=3.2.0->pydicom-seg) (3.15.0)\n",
      "Note: you may need to restart the kernel to use updated packages.\n"
     ]
    }
   ],
   "source": [
    "%pip install radiomics dicom_numpy pydicom plotly matplotlib scikit-image simpleITK pynrrd dicom2nifti NiBabel NiLearn openpyxl pydicom-seg tqdm"
   ]
  },
  {
   "cell_type": "code",
   "execution_count": 2,
   "metadata": {},
   "outputs": [
    {
     "name": "stderr",
     "output_type": "stream",
     "text": [
      "c:\\ProgramData\\Anaconda3\\envs\\mri_project\\lib\\site-packages\\nilearn\\__init__.py:67: FutureWarning: Python 3.7 support is deprecated and will be removed in release 0.12 of Nilearn. Consider switching to Python 3.9 or 3.10.\n",
      "  _python_deprecation_warnings()\n"
     ]
    }
   ],
   "source": [
    "import pandas as pd\n",
    "import numpy as np\n",
    "import matplotlib.pyplot as plt\n",
    "\n",
    "import dicom_numpy\n",
    "import pydicom as dicom\n",
    "\n",
    "import dicom2nifti\n",
    "import nibabel as nib\n",
    "import nilearn as nil\n",
    "import scipy.ndimage as ndi\n",
    "import os\n",
    "\n",
    "import glob\n",
    "from tqdm import tqdm"
   ]
  },
  {
   "cell_type": "code",
   "execution_count": 3,
   "metadata": {},
   "outputs": [],
   "source": [
    "img_directories = '../../Dataset/Duke MRI/manifest-1654812109500/Duke-Breast-Cancer-MRI/'\n",
    "transfer_directory = '../../New Dataset/'"
   ]
  },
  {
   "cell_type": "code",
   "execution_count": 4,
   "metadata": {},
   "outputs": [],
   "source": [
    "os.makedirs(transfer_directory, mode = 777, exist_ok=True)"
   ]
  },
  {
   "cell_type": "code",
   "execution_count": 5,
   "metadata": {},
   "outputs": [
    {
     "data": {
      "text/plain": [
       "142"
      ]
     },
     "execution_count": 5,
     "metadata": {},
     "output_type": "execute_result"
    }
   ],
   "source": [
    "dicom_path = '../../Dataset/Duke MRI/manifest-1654812109500/Duke-Breast-Cancer-MRI\\Breast_MRI_002/01-01-1990-NA-MRI BREAST BILATERAL W  WO-51972/600.000000-ax 3d dyn-25442/'\n",
    "\n",
    "len(os.listdir(dicom_path))"
   ]
  },
  {
   "cell_type": "code",
   "execution_count": 6,
   "metadata": {},
   "outputs": [
    {
     "name": "stderr",
     "output_type": "stream",
     "text": [
      "  1%|▏         | 12/923 [00:34<54:12,  3.57s/it]"
     ]
    }
   ],
   "source": [
    "for dir in tqdm(os.listdir(img_directories)):\n",
    "    dir_path = os.path.join(img_directories, dir)\n",
    "    if(os.path.isdir(dir_path)):\n",
    "        #traverse the directory\n",
    "        for patient in os.listdir(dir_path):\n",
    "            #dig deeper\n",
    "            base_paths = os.path.join(dir_path, patient)\n",
    "            max_elements = 0\n",
    "            max_count_subdir = ''\n",
    "            for scan_dirs in os.listdir(base_paths):\n",
    "                #determine the number of slices in each file\n",
    "                patient_path = os.path.join(base_paths, scan_dirs)\n",
    "                count = len(glob.glob(os.path.join(patient_path, '*.dcm')))\n",
    "                #print(count)\n",
    "                if(count > max_elements):\n",
    "                    max_elements = count\n",
    "                    max_count_subdir = scan_dirs\n",
    "            # convert max count subdir to nifti\n",
    "\n",
    "            #make subdirs\n",
    "            nifti_dir = os.path.join(transfer_directory, dir)\n",
    "            #print(nifti_dir)\n",
    "            os.makedirs(nifti_dir, 777, True)\n",
    "\n",
    "            #dump files to subdirs\n",
    "            dicom2nifti.convert_directory(os.path.join(base_paths, max_count_subdir), nifti_dir)\n",
    "\n",
    "\n"
   ]
  },
  {
   "cell_type": "code",
   "execution_count": null,
   "metadata": {},
   "outputs": [
    {
     "data": {
      "text/plain": [
       "True"
      ]
     },
     "execution_count": 6,
     "metadata": {},
     "output_type": "execute_result"
    }
   ],
   "source": [
    "os.path.isdir(os.path.join(img_directories, \"Breast_MRI_922\"))"
   ]
  },
  {
   "cell_type": "code",
   "execution_count": null,
   "metadata": {},
   "outputs": [],
   "source": []
  }
 ],
 "metadata": {
  "kernelspec": {
   "display_name": "Python 3.7.16 ('mri_project')",
   "language": "python",
   "name": "python3"
  },
  "language_info": {
   "codemirror_mode": {
    "name": "ipython",
    "version": 3
   },
   "file_extension": ".py",
   "mimetype": "text/x-python",
   "name": "python",
   "nbconvert_exporter": "python",
   "pygments_lexer": "ipython3",
   "version": "3.7.16"
  },
  "orig_nbformat": 4,
  "vscode": {
   "interpreter": {
    "hash": "46a30f71ba13f968ce13e2ff6d1c210f2ffd70fd7dc0256e6c75b999f7c20949"
   }
  }
 },
 "nbformat": 4,
 "nbformat_minor": 2
}
